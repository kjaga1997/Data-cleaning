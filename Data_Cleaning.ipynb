{
 "cells": [
  {
   "cell_type": "code",
   "execution_count": 2,
   "metadata": {},
   "outputs": [],
   "source": [
    "import pandas as pd\n",
    "import numpy as np\n",
    "import matplotlib.pyplot as plt\n",
    "import seaborn as sns\n",
    "import warnings \n",
    "warnings.filterwarnings('ignore')"
   ]
  },
  {
   "cell_type": "code",
   "execution_count": 3,
   "metadata": {},
   "outputs": [],
   "source": [
    "df= pd.read_csv('Data_Dictionary.csv')"
   ]
  },
  {
   "cell_type": "code",
   "execution_count": 4,
   "metadata": {},
   "outputs": [
    {
     "data": {
      "text/html": [
       "<div>\n",
       "<style scoped>\n",
       "    .dataframe tbody tr th:only-of-type {\n",
       "        vertical-align: middle;\n",
       "    }\n",
       "\n",
       "    .dataframe tbody tr th {\n",
       "        vertical-align: top;\n",
       "    }\n",
       "\n",
       "    .dataframe thead th {\n",
       "        text-align: right;\n",
       "    }\n",
       "</style>\n",
       "<table border=\"1\" class=\"dataframe\">\n",
       "  <thead>\n",
       "    <tr style=\"text-align: right;\">\n",
       "      <th></th>\n",
       "      <th>Variable</th>\n",
       "      <th>Description</th>\n",
       "    </tr>\n",
       "  </thead>\n",
       "  <tbody>\n",
       "    <tr>\n",
       "      <th>0</th>\n",
       "      <td>ID</td>\n",
       "      <td>Client Loan application ID</td>\n",
       "    </tr>\n",
       "    <tr>\n",
       "      <th>1</th>\n",
       "      <td>Client_Income</td>\n",
       "      <td>Client Income in $</td>\n",
       "    </tr>\n",
       "    <tr>\n",
       "      <th>2</th>\n",
       "      <td>Car_Owned</td>\n",
       "      <td>Any Car owned by client before applying for th...</td>\n",
       "    </tr>\n",
       "    <tr>\n",
       "      <th>3</th>\n",
       "      <td>Bike_Owned</td>\n",
       "      <td>Any bike owned by client (0 means No and 1 mea...</td>\n",
       "    </tr>\n",
       "    <tr>\n",
       "      <th>4</th>\n",
       "      <td>Active_Loan</td>\n",
       "      <td>Any other active loan at the time of aplicatio...</td>\n",
       "    </tr>\n",
       "    <tr>\n",
       "      <th>5</th>\n",
       "      <td>House_Own</td>\n",
       "      <td>Any house owned by client (0 means No and 1 me...</td>\n",
       "    </tr>\n",
       "    <tr>\n",
       "      <th>6</th>\n",
       "      <td>Child_Count</td>\n",
       "      <td>Number of children the client has</td>\n",
       "    </tr>\n",
       "    <tr>\n",
       "      <th>7</th>\n",
       "      <td>Credit_Amount</td>\n",
       "      <td>Credit amount of the loan in $</td>\n",
       "    </tr>\n",
       "    <tr>\n",
       "      <th>8</th>\n",
       "      <td>Loan_Annuity</td>\n",
       "      <td>Loan annuity in $</td>\n",
       "    </tr>\n",
       "    <tr>\n",
       "      <th>9</th>\n",
       "      <td>Accompany_Client</td>\n",
       "      <td>Who accompanied the client when client applied...</td>\n",
       "    </tr>\n",
       "    <tr>\n",
       "      <th>10</th>\n",
       "      <td>Client_Income_Type</td>\n",
       "      <td>Clients income type</td>\n",
       "    </tr>\n",
       "    <tr>\n",
       "      <th>11</th>\n",
       "      <td>Client_Education</td>\n",
       "      <td>Highest level of education ahieved by client</td>\n",
       "    </tr>\n",
       "    <tr>\n",
       "      <th>12</th>\n",
       "      <td>Client_Marital_Status</td>\n",
       "      <td>Marital status of client (D- Divorced, S- Sing...</td>\n",
       "    </tr>\n",
       "    <tr>\n",
       "      <th>13</th>\n",
       "      <td>Client_Gender</td>\n",
       "      <td>Gender of the Client</td>\n",
       "    </tr>\n",
       "    <tr>\n",
       "      <th>14</th>\n",
       "      <td>Loan_Contract_Type</td>\n",
       "      <td>Loan Type (CL- Cash Loan, RL- Revolving Loan)</td>\n",
       "    </tr>\n",
       "    <tr>\n",
       "      <th>15</th>\n",
       "      <td>Client_Housing_Type</td>\n",
       "      <td>Client Housing situation</td>\n",
       "    </tr>\n",
       "    <tr>\n",
       "      <th>16</th>\n",
       "      <td>Population_Region_Relative</td>\n",
       "      <td>Relative population of the region where the cl...</td>\n",
       "    </tr>\n",
       "    <tr>\n",
       "      <th>17</th>\n",
       "      <td>Age_Days</td>\n",
       "      <td>Age of the client at the time of application s...</td>\n",
       "    </tr>\n",
       "    <tr>\n",
       "      <th>18</th>\n",
       "      <td>Employed_Days</td>\n",
       "      <td>Days before the application, the client starte...</td>\n",
       "    </tr>\n",
       "    <tr>\n",
       "      <th>19</th>\n",
       "      <td>Registration_Days</td>\n",
       "      <td>Days before the loan application, the client c...</td>\n",
       "    </tr>\n",
       "    <tr>\n",
       "      <th>20</th>\n",
       "      <td>ID_Days</td>\n",
       "      <td>Days before the loan application, the client c...</td>\n",
       "    </tr>\n",
       "    <tr>\n",
       "      <th>21</th>\n",
       "      <td>Own_House_Age</td>\n",
       "      <td>Age of Client's house in years</td>\n",
       "    </tr>\n",
       "    <tr>\n",
       "      <th>22</th>\n",
       "      <td>Mobile_Tag</td>\n",
       "      <td>Mobile Number provided by Client (1 means Yes ...</td>\n",
       "    </tr>\n",
       "    <tr>\n",
       "      <th>23</th>\n",
       "      <td>Homephone_Tag</td>\n",
       "      <td>Homephone Number provided by Client (1 means Y...</td>\n",
       "    </tr>\n",
       "    <tr>\n",
       "      <th>24</th>\n",
       "      <td>Workphone_Working</td>\n",
       "      <td>Was workphone number reachable (1 means Yes an...</td>\n",
       "    </tr>\n",
       "    <tr>\n",
       "      <th>25</th>\n",
       "      <td>Client_Occupation</td>\n",
       "      <td>Client Occupation type</td>\n",
       "    </tr>\n",
       "    <tr>\n",
       "      <th>26</th>\n",
       "      <td>Client_Family_Members</td>\n",
       "      <td>Number of family members does client have</td>\n",
       "    </tr>\n",
       "    <tr>\n",
       "      <th>27</th>\n",
       "      <td>Cleint_City_Rating</td>\n",
       "      <td>Client city rating. 3 denotes best and 2 denot...</td>\n",
       "    </tr>\n",
       "    <tr>\n",
       "      <th>28</th>\n",
       "      <td>Application_Process_Day</td>\n",
       "      <td>Day of the week on which client applied for th...</td>\n",
       "    </tr>\n",
       "    <tr>\n",
       "      <th>29</th>\n",
       "      <td>Application_Process_Hour</td>\n",
       "      <td>hour of the day on which client applied for th...</td>\n",
       "    </tr>\n",
       "    <tr>\n",
       "      <th>30</th>\n",
       "      <td>Client_Permanent_Match_Tag</td>\n",
       "      <td>Indication if client contact address does not ...</td>\n",
       "    </tr>\n",
       "    <tr>\n",
       "      <th>31</th>\n",
       "      <td>Client_Contact_Work_Tag</td>\n",
       "      <td>Indication if client work address does not mat...</td>\n",
       "    </tr>\n",
       "    <tr>\n",
       "      <th>32</th>\n",
       "      <td>Type_Organization</td>\n",
       "      <td>Type of organization where client works</td>\n",
       "    </tr>\n",
       "    <tr>\n",
       "      <th>33</th>\n",
       "      <td>Score_Source_1</td>\n",
       "      <td>Score sourced from other source. This is a nor...</td>\n",
       "    </tr>\n",
       "    <tr>\n",
       "      <th>34</th>\n",
       "      <td>Score_Source_2</td>\n",
       "      <td>Score sourced from other source. This is a nor...</td>\n",
       "    </tr>\n",
       "    <tr>\n",
       "      <th>35</th>\n",
       "      <td>Score_Source_3</td>\n",
       "      <td>Score sourced from other source. This is a nor...</td>\n",
       "    </tr>\n",
       "    <tr>\n",
       "      <th>36</th>\n",
       "      <td>Social_Circle_Default</td>\n",
       "      <td>How many friends/family member of client defau...</td>\n",
       "    </tr>\n",
       "    <tr>\n",
       "      <th>37</th>\n",
       "      <td>Phone_Change</td>\n",
       "      <td>How many days before the loan application, cli...</td>\n",
       "    </tr>\n",
       "    <tr>\n",
       "      <th>38</th>\n",
       "      <td>Credit_Bureau</td>\n",
       "      <td>Total number of enquiries in last year</td>\n",
       "    </tr>\n",
       "    <tr>\n",
       "      <th>39</th>\n",
       "      <td>Default</td>\n",
       "      <td>1 means the client defaulted on loan payments ...</td>\n",
       "    </tr>\n",
       "  </tbody>\n",
       "</table>\n",
       "</div>"
      ],
      "text/plain": [
       "                      Variable  \\\n",
       "0                           ID   \n",
       "1                Client_Income   \n",
       "2                    Car_Owned   \n",
       "3                   Bike_Owned   \n",
       "4                  Active_Loan   \n",
       "5                    House_Own   \n",
       "6                  Child_Count   \n",
       "7                Credit_Amount   \n",
       "8                 Loan_Annuity   \n",
       "9             Accompany_Client   \n",
       "10          Client_Income_Type   \n",
       "11            Client_Education   \n",
       "12       Client_Marital_Status   \n",
       "13               Client_Gender   \n",
       "14          Loan_Contract_Type   \n",
       "15         Client_Housing_Type   \n",
       "16  Population_Region_Relative   \n",
       "17                    Age_Days   \n",
       "18               Employed_Days   \n",
       "19           Registration_Days   \n",
       "20                     ID_Days   \n",
       "21               Own_House_Age   \n",
       "22                  Mobile_Tag   \n",
       "23               Homephone_Tag   \n",
       "24           Workphone_Working   \n",
       "25           Client_Occupation   \n",
       "26       Client_Family_Members   \n",
       "27          Cleint_City_Rating   \n",
       "28     Application_Process_Day   \n",
       "29    Application_Process_Hour   \n",
       "30  Client_Permanent_Match_Tag   \n",
       "31     Client_Contact_Work_Tag   \n",
       "32           Type_Organization   \n",
       "33              Score_Source_1   \n",
       "34              Score_Source_2   \n",
       "35              Score_Source_3   \n",
       "36       Social_Circle_Default   \n",
       "37                Phone_Change   \n",
       "38               Credit_Bureau   \n",
       "39                     Default   \n",
       "\n",
       "                                          Description  \n",
       "0                          Client Loan application ID  \n",
       "1                                  Client Income in $  \n",
       "2   Any Car owned by client before applying for th...  \n",
       "3   Any bike owned by client (0 means No and 1 mea...  \n",
       "4   Any other active loan at the time of aplicatio...  \n",
       "5   Any house owned by client (0 means No and 1 me...  \n",
       "6                   Number of children the client has  \n",
       "7                      Credit amount of the loan in $  \n",
       "8                                   Loan annuity in $  \n",
       "9   Who accompanied the client when client applied...  \n",
       "10                                Clients income type  \n",
       "11       Highest level of education ahieved by client  \n",
       "12  Marital status of client (D- Divorced, S- Sing...  \n",
       "13                               Gender of the Client  \n",
       "14      Loan Type (CL- Cash Loan, RL- Revolving Loan)  \n",
       "15                           Client Housing situation  \n",
       "16  Relative population of the region where the cl...  \n",
       "17  Age of the client at the time of application s...  \n",
       "18  Days before the application, the client starte...  \n",
       "19  Days before the loan application, the client c...  \n",
       "20  Days before the loan application, the client c...  \n",
       "21                     Age of Client's house in years  \n",
       "22  Mobile Number provided by Client (1 means Yes ...  \n",
       "23  Homephone Number provided by Client (1 means Y...  \n",
       "24  Was workphone number reachable (1 means Yes an...  \n",
       "25                             Client Occupation type  \n",
       "26          Number of family members does client have  \n",
       "27  Client city rating. 3 denotes best and 2 denot...  \n",
       "28  Day of the week on which client applied for th...  \n",
       "29  hour of the day on which client applied for th...  \n",
       "30  Indication if client contact address does not ...  \n",
       "31  Indication if client work address does not mat...  \n",
       "32            Type of organization where client works  \n",
       "33  Score sourced from other source. This is a nor...  \n",
       "34  Score sourced from other source. This is a nor...  \n",
       "35  Score sourced from other source. This is a nor...  \n",
       "36  How many friends/family member of client defau...  \n",
       "37  How many days before the loan application, cli...  \n",
       "38             Total number of enquiries in last year  \n",
       "39  1 means the client defaulted on loan payments ...  "
      ]
     },
     "execution_count": 4,
     "metadata": {},
     "output_type": "execute_result"
    }
   ],
   "source": [
    "df"
   ]
  },
  {
   "cell_type": "code",
   "execution_count": 5,
   "metadata": {},
   "outputs": [],
   "source": [
    "train_set = pd.read_csv('Train_Dataset.csv')"
   ]
  },
  {
   "cell_type": "code",
   "execution_count": 6,
   "metadata": {},
   "outputs": [
    {
     "data": {
      "text/html": [
       "<div>\n",
       "<style scoped>\n",
       "    .dataframe tbody tr th:only-of-type {\n",
       "        vertical-align: middle;\n",
       "    }\n",
       "\n",
       "    .dataframe tbody tr th {\n",
       "        vertical-align: top;\n",
       "    }\n",
       "\n",
       "    .dataframe thead th {\n",
       "        text-align: right;\n",
       "    }\n",
       "</style>\n",
       "<table border=\"1\" class=\"dataframe\">\n",
       "  <thead>\n",
       "    <tr style=\"text-align: right;\">\n",
       "      <th></th>\n",
       "      <th>ID</th>\n",
       "      <th>Client_Income</th>\n",
       "      <th>Car_Owned</th>\n",
       "      <th>Bike_Owned</th>\n",
       "      <th>Active_Loan</th>\n",
       "      <th>House_Own</th>\n",
       "      <th>Child_Count</th>\n",
       "      <th>Credit_Amount</th>\n",
       "      <th>Loan_Annuity</th>\n",
       "      <th>Accompany_Client</th>\n",
       "      <th>...</th>\n",
       "      <th>Client_Permanent_Match_Tag</th>\n",
       "      <th>Client_Contact_Work_Tag</th>\n",
       "      <th>Type_Organization</th>\n",
       "      <th>Score_Source_1</th>\n",
       "      <th>Score_Source_2</th>\n",
       "      <th>Score_Source_3</th>\n",
       "      <th>Social_Circle_Default</th>\n",
       "      <th>Phone_Change</th>\n",
       "      <th>Credit_Bureau</th>\n",
       "      <th>Default</th>\n",
       "    </tr>\n",
       "  </thead>\n",
       "  <tbody>\n",
       "    <tr>\n",
       "      <th>0</th>\n",
       "      <td>12142509</td>\n",
       "      <td>6750</td>\n",
       "      <td>0.0</td>\n",
       "      <td>0.0</td>\n",
       "      <td>1.0</td>\n",
       "      <td>0.0</td>\n",
       "      <td>0.0</td>\n",
       "      <td>61190.55</td>\n",
       "      <td>3416.85</td>\n",
       "      <td>Alone</td>\n",
       "      <td>...</td>\n",
       "      <td>Yes</td>\n",
       "      <td>Yes</td>\n",
       "      <td>Self-employed</td>\n",
       "      <td>0.568066</td>\n",
       "      <td>0.478787</td>\n",
       "      <td>NaN</td>\n",
       "      <td>0.0186</td>\n",
       "      <td>63.0</td>\n",
       "      <td>NaN</td>\n",
       "      <td>0</td>\n",
       "    </tr>\n",
       "    <tr>\n",
       "      <th>1</th>\n",
       "      <td>12138936</td>\n",
       "      <td>20250</td>\n",
       "      <td>1.0</td>\n",
       "      <td>0.0</td>\n",
       "      <td>1.0</td>\n",
       "      <td>NaN</td>\n",
       "      <td>0.0</td>\n",
       "      <td>15282</td>\n",
       "      <td>1826.55</td>\n",
       "      <td>Alone</td>\n",
       "      <td>...</td>\n",
       "      <td>Yes</td>\n",
       "      <td>Yes</td>\n",
       "      <td>Government</td>\n",
       "      <td>0.563360</td>\n",
       "      <td>0.215068</td>\n",
       "      <td>NaN</td>\n",
       "      <td>NaN</td>\n",
       "      <td>NaN</td>\n",
       "      <td>NaN</td>\n",
       "      <td>0</td>\n",
       "    </tr>\n",
       "    <tr>\n",
       "      <th>2</th>\n",
       "      <td>12181264</td>\n",
       "      <td>18000</td>\n",
       "      <td>0.0</td>\n",
       "      <td>0.0</td>\n",
       "      <td>1.0</td>\n",
       "      <td>0.0</td>\n",
       "      <td>1.0</td>\n",
       "      <td>59527.35</td>\n",
       "      <td>2788.2</td>\n",
       "      <td>Alone</td>\n",
       "      <td>...</td>\n",
       "      <td>Yes</td>\n",
       "      <td>Yes</td>\n",
       "      <td>Self-employed</td>\n",
       "      <td>NaN</td>\n",
       "      <td>0.552795</td>\n",
       "      <td>0.329655</td>\n",
       "      <td>0.0742</td>\n",
       "      <td>277.0</td>\n",
       "      <td>0.0</td>\n",
       "      <td>0</td>\n",
       "    </tr>\n",
       "    <tr>\n",
       "      <th>3</th>\n",
       "      <td>12188929</td>\n",
       "      <td>15750</td>\n",
       "      <td>0.0</td>\n",
       "      <td>0.0</td>\n",
       "      <td>1.0</td>\n",
       "      <td>1.0</td>\n",
       "      <td>0.0</td>\n",
       "      <td>53870.4</td>\n",
       "      <td>2295.45</td>\n",
       "      <td>Alone</td>\n",
       "      <td>...</td>\n",
       "      <td>Yes</td>\n",
       "      <td>Yes</td>\n",
       "      <td>XNA</td>\n",
       "      <td>NaN</td>\n",
       "      <td>0.135182</td>\n",
       "      <td>0.631355</td>\n",
       "      <td>NaN</td>\n",
       "      <td>1700.0</td>\n",
       "      <td>3.0</td>\n",
       "      <td>0</td>\n",
       "    </tr>\n",
       "    <tr>\n",
       "      <th>4</th>\n",
       "      <td>12133385</td>\n",
       "      <td>33750</td>\n",
       "      <td>1.0</td>\n",
       "      <td>0.0</td>\n",
       "      <td>1.0</td>\n",
       "      <td>0.0</td>\n",
       "      <td>2.0</td>\n",
       "      <td>133988.4</td>\n",
       "      <td>3547.35</td>\n",
       "      <td>Alone</td>\n",
       "      <td>...</td>\n",
       "      <td>Yes</td>\n",
       "      <td>Yes</td>\n",
       "      <td>Business Entity Type 3</td>\n",
       "      <td>0.508199</td>\n",
       "      <td>0.301182</td>\n",
       "      <td>0.355639</td>\n",
       "      <td>0.2021</td>\n",
       "      <td>674.0</td>\n",
       "      <td>1.0</td>\n",
       "      <td>0</td>\n",
       "    </tr>\n",
       "  </tbody>\n",
       "</table>\n",
       "<p>5 rows × 40 columns</p>\n",
       "</div>"
      ],
      "text/plain": [
       "         ID Client_Income  Car_Owned  Bike_Owned  Active_Loan  House_Own  \\\n",
       "0  12142509          6750        0.0         0.0          1.0        0.0   \n",
       "1  12138936         20250        1.0         0.0          1.0        NaN   \n",
       "2  12181264         18000        0.0         0.0          1.0        0.0   \n",
       "3  12188929         15750        0.0         0.0          1.0        1.0   \n",
       "4  12133385         33750        1.0         0.0          1.0        0.0   \n",
       "\n",
       "   Child_Count Credit_Amount Loan_Annuity Accompany_Client  ...  \\\n",
       "0          0.0      61190.55      3416.85            Alone  ...   \n",
       "1          0.0         15282      1826.55            Alone  ...   \n",
       "2          1.0      59527.35       2788.2            Alone  ...   \n",
       "3          0.0       53870.4      2295.45            Alone  ...   \n",
       "4          2.0      133988.4      3547.35            Alone  ...   \n",
       "\n",
       "  Client_Permanent_Match_Tag Client_Contact_Work_Tag       Type_Organization  \\\n",
       "0                        Yes                     Yes           Self-employed   \n",
       "1                        Yes                     Yes              Government   \n",
       "2                        Yes                     Yes           Self-employed   \n",
       "3                        Yes                     Yes                     XNA   \n",
       "4                        Yes                     Yes  Business Entity Type 3   \n",
       "\n",
       "  Score_Source_1 Score_Source_2 Score_Source_3 Social_Circle_Default  \\\n",
       "0       0.568066       0.478787            NaN                0.0186   \n",
       "1       0.563360       0.215068            NaN                   NaN   \n",
       "2            NaN       0.552795       0.329655                0.0742   \n",
       "3            NaN       0.135182       0.631355                   NaN   \n",
       "4       0.508199       0.301182       0.355639                0.2021   \n",
       "\n",
       "  Phone_Change Credit_Bureau Default  \n",
       "0         63.0           NaN       0  \n",
       "1          NaN           NaN       0  \n",
       "2        277.0           0.0       0  \n",
       "3       1700.0           3.0       0  \n",
       "4        674.0           1.0       0  \n",
       "\n",
       "[5 rows x 40 columns]"
      ]
     },
     "execution_count": 6,
     "metadata": {},
     "output_type": "execute_result"
    }
   ],
   "source": [
    "train_set.head()"
   ]
  },
  {
   "cell_type": "code",
   "execution_count": 128,
   "metadata": {},
   "outputs": [],
   "source": [
    "df= pd.read_csv('Test_Dataset.csv')"
   ]
  },
  {
   "cell_type": "code",
   "execution_count": 129,
   "metadata": {},
   "outputs": [
    {
     "data": {
      "text/html": [
       "<div>\n",
       "<style scoped>\n",
       "    .dataframe tbody tr th:only-of-type {\n",
       "        vertical-align: middle;\n",
       "    }\n",
       "\n",
       "    .dataframe tbody tr th {\n",
       "        vertical-align: top;\n",
       "    }\n",
       "\n",
       "    .dataframe thead th {\n",
       "        text-align: right;\n",
       "    }\n",
       "</style>\n",
       "<table border=\"1\" class=\"dataframe\">\n",
       "  <thead>\n",
       "    <tr style=\"text-align: right;\">\n",
       "      <th></th>\n",
       "      <th>ID</th>\n",
       "      <th>Client_Income</th>\n",
       "      <th>Car_Owned</th>\n",
       "      <th>Bike_Owned</th>\n",
       "      <th>Active_Loan</th>\n",
       "      <th>House_Own</th>\n",
       "      <th>Child_Count</th>\n",
       "      <th>Credit_Amount</th>\n",
       "      <th>Loan_Annuity</th>\n",
       "      <th>Accompany_Client</th>\n",
       "      <th>...</th>\n",
       "      <th>Application_Process_Hour</th>\n",
       "      <th>Client_Permanent_Match_Tag</th>\n",
       "      <th>Client_Contact_Work_Tag</th>\n",
       "      <th>Type_Organization</th>\n",
       "      <th>Score_Source_1</th>\n",
       "      <th>Score_Source_2</th>\n",
       "      <th>Score_Source_3</th>\n",
       "      <th>Social_Circle_Default</th>\n",
       "      <th>Phone_Change</th>\n",
       "      <th>Credit_Bureau</th>\n",
       "    </tr>\n",
       "  </thead>\n",
       "  <tbody>\n",
       "    <tr>\n",
       "      <th>0</th>\n",
       "      <td>12202227</td>\n",
       "      <td>11250</td>\n",
       "      <td>0.0</td>\n",
       "      <td>1.0</td>\n",
       "      <td>1.0</td>\n",
       "      <td>1.0</td>\n",
       "      <td>0.0</td>\n",
       "      <td>112500</td>\n",
       "      <td>4474.8</td>\n",
       "      <td>Relative</td>\n",
       "      <td>...</td>\n",
       "      <td>16.0</td>\n",
       "      <td>Yes</td>\n",
       "      <td>Yes</td>\n",
       "      <td>Self-employed</td>\n",
       "      <td>NaN</td>\n",
       "      <td>0.757151</td>\n",
       "      <td>0.629674</td>\n",
       "      <td>0.0515</td>\n",
       "      <td>716.0</td>\n",
       "      <td>2.0</td>\n",
       "    </tr>\n",
       "    <tr>\n",
       "      <th>1</th>\n",
       "      <td>12279381</td>\n",
       "      <td>13500</td>\n",
       "      <td>1.0</td>\n",
       "      <td>1.0</td>\n",
       "      <td>1.0</td>\n",
       "      <td>1.0</td>\n",
       "      <td>3.0</td>\n",
       "      <td>49752</td>\n",
       "      <td>3252.15</td>\n",
       "      <td>Alone</td>\n",
       "      <td>...</td>\n",
       "      <td>18.0</td>\n",
       "      <td>No</td>\n",
       "      <td>Yes</td>\n",
       "      <td>Self-employed</td>\n",
       "      <td>NaN</td>\n",
       "      <td>0.342269</td>\n",
       "      <td>NaN</td>\n",
       "      <td>NaN</td>\n",
       "      <td>181.0</td>\n",
       "      <td>NaN</td>\n",
       "    </tr>\n",
       "    <tr>\n",
       "      <th>2</th>\n",
       "      <td>12222714</td>\n",
       "      <td>38250</td>\n",
       "      <td>0.0</td>\n",
       "      <td>1.0</td>\n",
       "      <td>0.0</td>\n",
       "      <td>1.0</td>\n",
       "      <td>0.0</td>\n",
       "      <td>67500</td>\n",
       "      <td>3375</td>\n",
       "      <td>Alone</td>\n",
       "      <td>...</td>\n",
       "      <td>19.0</td>\n",
       "      <td>Yes</td>\n",
       "      <td>Yes</td>\n",
       "      <td>Business Entity Type 3</td>\n",
       "      <td>NaN</td>\n",
       "      <td>0.683665</td>\n",
       "      <td>NaN</td>\n",
       "      <td>0.1503</td>\n",
       "      <td>281.0</td>\n",
       "      <td>NaN</td>\n",
       "    </tr>\n",
       "    <tr>\n",
       "      <th>3</th>\n",
       "      <td>12265215</td>\n",
       "      <td>20250</td>\n",
       "      <td>0.0</td>\n",
       "      <td>0.0</td>\n",
       "      <td>1.0</td>\n",
       "      <td>0.0</td>\n",
       "      <td>0.0</td>\n",
       "      <td>50849.55</td>\n",
       "      <td>3814.65</td>\n",
       "      <td>Alone</td>\n",
       "      <td>...</td>\n",
       "      <td>20.0</td>\n",
       "      <td>No</td>\n",
       "      <td>No</td>\n",
       "      <td>Medicine</td>\n",
       "      <td>0.351581</td>\n",
       "      <td>0.22995</td>\n",
       "      <td>0.672243</td>\n",
       "      <td>NaN</td>\n",
       "      <td>1442.0</td>\n",
       "      <td>4.0</td>\n",
       "    </tr>\n",
       "    <tr>\n",
       "      <th>4</th>\n",
       "      <td>12203970</td>\n",
       "      <td>13500</td>\n",
       "      <td>1.0</td>\n",
       "      <td>1.0</td>\n",
       "      <td>0.0</td>\n",
       "      <td>1.0</td>\n",
       "      <td>0.0</td>\n",
       "      <td>43603.2</td>\n",
       "      <td>2515.95</td>\n",
       "      <td>Alone</td>\n",
       "      <td>...</td>\n",
       "      <td>13.0</td>\n",
       "      <td>Yes</td>\n",
       "      <td>Yes</td>\n",
       "      <td>Self-employed</td>\n",
       "      <td>0.731110</td>\n",
       "      <td>0.566971</td>\n",
       "      <td>0.730987</td>\n",
       "      <td>NaN</td>\n",
       "      <td>927.0</td>\n",
       "      <td>1.0</td>\n",
       "    </tr>\n",
       "  </tbody>\n",
       "</table>\n",
       "<p>5 rows × 39 columns</p>\n",
       "</div>"
      ],
      "text/plain": [
       "         ID Client_Income  Car_Owned  Bike_Owned  Active_Loan  House_Own  \\\n",
       "0  12202227         11250        0.0         1.0          1.0        1.0   \n",
       "1  12279381         13500        1.0         1.0          1.0        1.0   \n",
       "2  12222714         38250        0.0         1.0          0.0        1.0   \n",
       "3  12265215         20250        0.0         0.0          1.0        0.0   \n",
       "4  12203970         13500        1.0         1.0          0.0        1.0   \n",
       "\n",
       "   Child_Count Credit_Amount Loan_Annuity Accompany_Client  ...  \\\n",
       "0          0.0        112500       4474.8         Relative  ...   \n",
       "1          3.0         49752      3252.15            Alone  ...   \n",
       "2          0.0         67500         3375            Alone  ...   \n",
       "3          0.0      50849.55      3814.65            Alone  ...   \n",
       "4          0.0       43603.2      2515.95            Alone  ...   \n",
       "\n",
       "  Application_Process_Hour Client_Permanent_Match_Tag Client_Contact_Work_Tag  \\\n",
       "0                     16.0                        Yes                     Yes   \n",
       "1                     18.0                         No                     Yes   \n",
       "2                     19.0                        Yes                     Yes   \n",
       "3                     20.0                         No                      No   \n",
       "4                     13.0                        Yes                     Yes   \n",
       "\n",
       "        Type_Organization Score_Source_1 Score_Source_2 Score_Source_3  \\\n",
       "0           Self-employed            NaN       0.757151       0.629674   \n",
       "1           Self-employed            NaN       0.342269            NaN   \n",
       "2  Business Entity Type 3            NaN       0.683665            NaN   \n",
       "3                Medicine       0.351581        0.22995       0.672243   \n",
       "4           Self-employed       0.731110       0.566971       0.730987   \n",
       "\n",
       "  Social_Circle_Default Phone_Change Credit_Bureau  \n",
       "0                0.0515        716.0           2.0  \n",
       "1                   NaN        181.0           NaN  \n",
       "2                0.1503        281.0           NaN  \n",
       "3                   NaN       1442.0           4.0  \n",
       "4                   NaN        927.0           1.0  \n",
       "\n",
       "[5 rows x 39 columns]"
      ]
     },
     "execution_count": 129,
     "metadata": {},
     "output_type": "execute_result"
    }
   ],
   "source": [
    "df.head()"
   ]
  },
  {
   "cell_type": "code",
   "execution_count": 7,
   "metadata": {},
   "outputs": [
    {
     "data": {
      "text/plain": [
       "ID                            0.000000\n",
       "Client_Income                 0.029601\n",
       "Car_Owned                     0.029387\n",
       "Bike_Owned                    0.029740\n",
       "Active_Loan                   0.029830\n",
       "House_Own                     0.030044\n",
       "Child_Count                   0.029855\n",
       "Credit_Amount                 0.029806\n",
       "Loan_Annuity                  0.039489\n",
       "Accompany_Client              0.014328\n",
       "Client_Income_Type            0.030372\n",
       "Client_Education              0.029912\n",
       "Client_Marital_Status         0.028501\n",
       "Client_Gender                 0.019802\n",
       "Loan_Contract_Type            0.029962\n",
       "Client_Housing_Type           0.030257\n",
       "Population_Region_Relative    0.039859\n",
       "Age_Days                      0.029543\n",
       "Employed_Days                 0.029945\n",
       "Registration_Days             0.029658\n",
       "ID_Days                       0.048976\n",
       "Own_House_Age                 0.657292\n",
       "Mobile_Tag                    0.000000\n",
       "Homephone_Tag                 0.000000\n",
       "Workphone_Working             0.000000\n",
       "Client_Occupation             0.340032\n",
       "Client_Family_Members         0.019777\n",
       "Cleint_City_Rating            0.019769\n",
       "Application_Process_Day       0.019925\n",
       "Application_Process_Hour      0.030060\n",
       "Client_Permanent_Match_Tag    0.000000\n",
       "Client_Contact_Work_Tag       0.000000\n",
       "Type_Organization             0.029617\n",
       "Score_Source_1                0.564888\n",
       "Score_Source_2                0.046662\n",
       "Score_Source_3                0.220925\n",
       "Social_Circle_Default         0.508206\n",
       "Phone_Change                  0.030068\n",
       "Credit_Bureau                 0.152147\n",
       "Default                       0.000000\n",
       "dtype: float64"
      ]
     },
     "execution_count": 7,
     "metadata": {},
     "output_type": "execute_result"
    }
   ],
   "source": [
    "train_set.isnull().sum()/len(train_set)"
   ]
  },
  {
   "cell_type": "code",
   "execution_count": 8,
   "metadata": {},
   "outputs": [],
   "source": [
    "train_set= train_set.drop(['Own_House_Age','Score_Source_1','Social_Circle_Default'],axis=1)"
   ]
  },
  {
   "cell_type": "code",
   "execution_count": 130,
   "metadata": {},
   "outputs": [],
   "source": [
    "df=df.drop(['Own_House_Age','Score_Source_1','Social_Circle_Default'],axis=1)"
   ]
  },
  {
   "cell_type": "code",
   "execution_count": 9,
   "metadata": {},
   "outputs": [
    {
     "data": {
      "text/html": [
       "<div>\n",
       "<style scoped>\n",
       "    .dataframe tbody tr th:only-of-type {\n",
       "        vertical-align: middle;\n",
       "    }\n",
       "\n",
       "    .dataframe tbody tr th {\n",
       "        vertical-align: top;\n",
       "    }\n",
       "\n",
       "    .dataframe thead th {\n",
       "        text-align: right;\n",
       "    }\n",
       "</style>\n",
       "<table border=\"1\" class=\"dataframe\">\n",
       "  <thead>\n",
       "    <tr style=\"text-align: right;\">\n",
       "      <th></th>\n",
       "      <th>ID</th>\n",
       "      <th>Client_Income</th>\n",
       "      <th>Car_Owned</th>\n",
       "      <th>Bike_Owned</th>\n",
       "      <th>Active_Loan</th>\n",
       "      <th>House_Own</th>\n",
       "      <th>Child_Count</th>\n",
       "      <th>Credit_Amount</th>\n",
       "      <th>Loan_Annuity</th>\n",
       "      <th>Accompany_Client</th>\n",
       "      <th>...</th>\n",
       "      <th>Application_Process_Day</th>\n",
       "      <th>Application_Process_Hour</th>\n",
       "      <th>Client_Permanent_Match_Tag</th>\n",
       "      <th>Client_Contact_Work_Tag</th>\n",
       "      <th>Type_Organization</th>\n",
       "      <th>Score_Source_2</th>\n",
       "      <th>Score_Source_3</th>\n",
       "      <th>Phone_Change</th>\n",
       "      <th>Credit_Bureau</th>\n",
       "      <th>Default</th>\n",
       "    </tr>\n",
       "  </thead>\n",
       "  <tbody>\n",
       "    <tr>\n",
       "      <th>0</th>\n",
       "      <td>12142509</td>\n",
       "      <td>6750</td>\n",
       "      <td>0.0</td>\n",
       "      <td>0.0</td>\n",
       "      <td>1.0</td>\n",
       "      <td>0.0</td>\n",
       "      <td>0.0</td>\n",
       "      <td>61190.55</td>\n",
       "      <td>3416.85</td>\n",
       "      <td>Alone</td>\n",
       "      <td>...</td>\n",
       "      <td>6.0</td>\n",
       "      <td>17.0</td>\n",
       "      <td>Yes</td>\n",
       "      <td>Yes</td>\n",
       "      <td>Self-employed</td>\n",
       "      <td>0.478787</td>\n",
       "      <td>NaN</td>\n",
       "      <td>63.0</td>\n",
       "      <td>NaN</td>\n",
       "      <td>0</td>\n",
       "    </tr>\n",
       "    <tr>\n",
       "      <th>1</th>\n",
       "      <td>12138936</td>\n",
       "      <td>20250</td>\n",
       "      <td>1.0</td>\n",
       "      <td>0.0</td>\n",
       "      <td>1.0</td>\n",
       "      <td>NaN</td>\n",
       "      <td>0.0</td>\n",
       "      <td>15282</td>\n",
       "      <td>1826.55</td>\n",
       "      <td>Alone</td>\n",
       "      <td>...</td>\n",
       "      <td>3.0</td>\n",
       "      <td>10.0</td>\n",
       "      <td>Yes</td>\n",
       "      <td>Yes</td>\n",
       "      <td>Government</td>\n",
       "      <td>0.215068</td>\n",
       "      <td>NaN</td>\n",
       "      <td>NaN</td>\n",
       "      <td>NaN</td>\n",
       "      <td>0</td>\n",
       "    </tr>\n",
       "    <tr>\n",
       "      <th>2</th>\n",
       "      <td>12181264</td>\n",
       "      <td>18000</td>\n",
       "      <td>0.0</td>\n",
       "      <td>0.0</td>\n",
       "      <td>1.0</td>\n",
       "      <td>0.0</td>\n",
       "      <td>1.0</td>\n",
       "      <td>59527.35</td>\n",
       "      <td>2788.2</td>\n",
       "      <td>Alone</td>\n",
       "      <td>...</td>\n",
       "      <td>4.0</td>\n",
       "      <td>NaN</td>\n",
       "      <td>Yes</td>\n",
       "      <td>Yes</td>\n",
       "      <td>Self-employed</td>\n",
       "      <td>0.552795</td>\n",
       "      <td>0.329655</td>\n",
       "      <td>277.0</td>\n",
       "      <td>0.0</td>\n",
       "      <td>0</td>\n",
       "    </tr>\n",
       "    <tr>\n",
       "      <th>3</th>\n",
       "      <td>12188929</td>\n",
       "      <td>15750</td>\n",
       "      <td>0.0</td>\n",
       "      <td>0.0</td>\n",
       "      <td>1.0</td>\n",
       "      <td>1.0</td>\n",
       "      <td>0.0</td>\n",
       "      <td>53870.4</td>\n",
       "      <td>2295.45</td>\n",
       "      <td>Alone</td>\n",
       "      <td>...</td>\n",
       "      <td>2.0</td>\n",
       "      <td>15.0</td>\n",
       "      <td>Yes</td>\n",
       "      <td>Yes</td>\n",
       "      <td>XNA</td>\n",
       "      <td>0.135182</td>\n",
       "      <td>0.631355</td>\n",
       "      <td>1700.0</td>\n",
       "      <td>3.0</td>\n",
       "      <td>0</td>\n",
       "    </tr>\n",
       "    <tr>\n",
       "      <th>4</th>\n",
       "      <td>12133385</td>\n",
       "      <td>33750</td>\n",
       "      <td>1.0</td>\n",
       "      <td>0.0</td>\n",
       "      <td>1.0</td>\n",
       "      <td>0.0</td>\n",
       "      <td>2.0</td>\n",
       "      <td>133988.4</td>\n",
       "      <td>3547.35</td>\n",
       "      <td>Alone</td>\n",
       "      <td>...</td>\n",
       "      <td>3.0</td>\n",
       "      <td>NaN</td>\n",
       "      <td>Yes</td>\n",
       "      <td>Yes</td>\n",
       "      <td>Business Entity Type 3</td>\n",
       "      <td>0.301182</td>\n",
       "      <td>0.355639</td>\n",
       "      <td>674.0</td>\n",
       "      <td>1.0</td>\n",
       "      <td>0</td>\n",
       "    </tr>\n",
       "  </tbody>\n",
       "</table>\n",
       "<p>5 rows × 37 columns</p>\n",
       "</div>"
      ],
      "text/plain": [
       "         ID Client_Income  Car_Owned  Bike_Owned  Active_Loan  House_Own  \\\n",
       "0  12142509          6750        0.0         0.0          1.0        0.0   \n",
       "1  12138936         20250        1.0         0.0          1.0        NaN   \n",
       "2  12181264         18000        0.0         0.0          1.0        0.0   \n",
       "3  12188929         15750        0.0         0.0          1.0        1.0   \n",
       "4  12133385         33750        1.0         0.0          1.0        0.0   \n",
       "\n",
       "   Child_Count Credit_Amount Loan_Annuity Accompany_Client  ...  \\\n",
       "0          0.0      61190.55      3416.85            Alone  ...   \n",
       "1          0.0         15282      1826.55            Alone  ...   \n",
       "2          1.0      59527.35       2788.2            Alone  ...   \n",
       "3          0.0       53870.4      2295.45            Alone  ...   \n",
       "4          2.0      133988.4      3547.35            Alone  ...   \n",
       "\n",
       "  Application_Process_Day Application_Process_Hour Client_Permanent_Match_Tag  \\\n",
       "0                     6.0                     17.0                        Yes   \n",
       "1                     3.0                     10.0                        Yes   \n",
       "2                     4.0                      NaN                        Yes   \n",
       "3                     2.0                     15.0                        Yes   \n",
       "4                     3.0                      NaN                        Yes   \n",
       "\n",
       "  Client_Contact_Work_Tag       Type_Organization Score_Source_2  \\\n",
       "0                     Yes           Self-employed       0.478787   \n",
       "1                     Yes              Government       0.215068   \n",
       "2                     Yes           Self-employed       0.552795   \n",
       "3                     Yes                     XNA       0.135182   \n",
       "4                     Yes  Business Entity Type 3       0.301182   \n",
       "\n",
       "  Score_Source_3 Phone_Change Credit_Bureau Default  \n",
       "0            NaN         63.0           NaN       0  \n",
       "1            NaN          NaN           NaN       0  \n",
       "2       0.329655        277.0           0.0       0  \n",
       "3       0.631355       1700.0           3.0       0  \n",
       "4       0.355639        674.0           1.0       0  \n",
       "\n",
       "[5 rows x 37 columns]"
      ]
     },
     "execution_count": 9,
     "metadata": {},
     "output_type": "execute_result"
    }
   ],
   "source": [
    "train_set.head()"
   ]
  },
  {
   "cell_type": "code",
   "execution_count": 10,
   "metadata": {},
   "outputs": [
    {
     "data": {
      "text/plain": [
       "array([ 0.,  1., nan])"
      ]
     },
     "execution_count": 10,
     "metadata": {},
     "output_type": "execute_result"
    }
   ],
   "source": [
    "train_set['Car_Owned'].unique()"
   ]
  },
  {
   "cell_type": "code",
   "execution_count": 11,
   "metadata": {},
   "outputs": [],
   "source": [
    "train_set['Car_Owned']=train_set['Car_Owned'].astype('str')"
   ]
  },
  {
   "cell_type": "code",
   "execution_count": 12,
   "metadata": {},
   "outputs": [],
   "source": [
    "train_set['Car_Owned']= train_set['Car_Owned'].replace('nan','0.0')"
   ]
  },
  {
   "cell_type": "code",
   "execution_count": 13,
   "metadata": {},
   "outputs": [],
   "source": [
    "train_set['Car_Owned']= train_set['Car_Owned'].apply(lambda x:x[0])"
   ]
  },
  {
   "cell_type": "code",
   "execution_count": 131,
   "metadata": {},
   "outputs": [],
   "source": [
    "df['Car_Owned']=df['Car_Owned'].astype('str')\n",
    "df['Car_Owned']= df['Car_Owned'].replace('nan','0.0')\n",
    "df['Car_Owned']= df['Car_Owned'].apply(lambda x:x[0])"
   ]
  },
  {
   "cell_type": "code",
   "execution_count": 14,
   "metadata": {},
   "outputs": [],
   "source": [
    "train_set['Bike_Owned']=train_set['Bike_Owned'].astype('str')\n",
    "train_set['Bike_Owned']= train_set['Bike_Owned'].replace('nan','0.0')\n",
    "train_set['Bike_Owned']= train_set['Bike_Owned'].apply(lambda x:x[0])"
   ]
  },
  {
   "cell_type": "code",
   "execution_count": 132,
   "metadata": {},
   "outputs": [],
   "source": [
    "df['Bike_Owned']=df['Bike_Owned'].astype('str')\n",
    "df['Bike_Owned']= df['Bike_Owned'].replace('nan','0.0')\n",
    "df['Bike_Owned']= df['Bike_Owned'].apply(lambda x:x[0])"
   ]
  },
  {
   "cell_type": "code",
   "execution_count": 15,
   "metadata": {},
   "outputs": [],
   "source": [
    "train_set['Active_Loan']=train_set['Active_Loan'].astype('str')\n",
    "train_set['Active_Loan']= train_set['Active_Loan'].replace('nan','0.0')\n",
    "train_set['Active_Loan']= train_set['Active_Loan'].apply(lambda x:x[0])"
   ]
  },
  {
   "cell_type": "code",
   "execution_count": 133,
   "metadata": {},
   "outputs": [],
   "source": [
    "df['Active_Loan']=df['Active_Loan'].astype('str')\n",
    "df['Active_Loan']= df['Active_Loan'].replace('nan','0.0')\n",
    "df['Active_Loan']= df['Active_Loan'].apply(lambda x:x[0])"
   ]
  },
  {
   "cell_type": "code",
   "execution_count": 16,
   "metadata": {},
   "outputs": [],
   "source": [
    "train_set['House_Own']=train_set['House_Own'].astype('str')\n",
    "train_set['House_Own']= train_set['House_Own'].replace('nan','0.0')\n",
    "train_set['House_Own']= train_set['House_Own'].apply(lambda x:x[0])"
   ]
  },
  {
   "cell_type": "code",
   "execution_count": 134,
   "metadata": {},
   "outputs": [],
   "source": [
    "df['House_Own']=df['House_Own'].astype('str')\n",
    "df['House_Own']= df['House_Own'].replace('nan','0.0')\n",
    "df['House_Own']= df['House_Own'].apply(lambda x:x[0])"
   ]
  },
  {
   "cell_type": "code",
   "execution_count": 17,
   "metadata": {},
   "outputs": [],
   "source": [
    "train_set['Child_Count']=train_set['Child_Count'].astype('str')\n",
    "train_set['Child_Count']= train_set['Child_Count'].replace('nan','0.0')\n",
    "train_set['Child_Count']= train_set['Child_Count'].apply(lambda x:x[0])"
   ]
  },
  {
   "cell_type": "code",
   "execution_count": 135,
   "metadata": {},
   "outputs": [],
   "source": [
    "df['Child_Count']=df['Child_Count'].astype('str')\n",
    "df['Child_Count']= df['Child_Count'].replace('nan','0.0')\n",
    "df['Child_Count']= df['Child_Count'].apply(lambda x:x[0])"
   ]
  },
  {
   "cell_type": "code",
   "execution_count": 18,
   "metadata": {},
   "outputs": [
    {
     "data": {
      "text/plain": [
       "ID                                0\n",
       "Client_Income                  3607\n",
       "Car_Owned                         0\n",
       "Bike_Owned                        0\n",
       "Active_Loan                       0\n",
       "House_Own                         0\n",
       "Child_Count                       0\n",
       "Credit_Amount                  3632\n",
       "Loan_Annuity                   4812\n",
       "Accompany_Client               1746\n",
       "Client_Income_Type             3701\n",
       "Client_Education               3645\n",
       "Client_Marital_Status          3473\n",
       "Client_Gender                  2413\n",
       "Loan_Contract_Type             3651\n",
       "Client_Housing_Type            3687\n",
       "Population_Region_Relative     4857\n",
       "Age_Days                       3600\n",
       "Employed_Days                  3649\n",
       "Registration_Days              3614\n",
       "ID_Days                        5968\n",
       "Mobile_Tag                        0\n",
       "Homephone_Tag                     0\n",
       "Workphone_Working                 0\n",
       "Client_Occupation             41435\n",
       "Client_Family_Members          2410\n",
       "Cleint_City_Rating             2409\n",
       "Application_Process_Day        2428\n",
       "Application_Process_Hour       3663\n",
       "Client_Permanent_Match_Tag        0\n",
       "Client_Contact_Work_Tag           0\n",
       "Type_Organization              3609\n",
       "Score_Source_2                 5686\n",
       "Score_Source_3                26921\n",
       "Phone_Change                   3664\n",
       "Credit_Bureau                 18540\n",
       "Default                           0\n",
       "dtype: int64"
      ]
     },
     "execution_count": 18,
     "metadata": {},
     "output_type": "execute_result"
    }
   ],
   "source": [
    "train_set.isnull().sum()"
   ]
  },
  {
   "cell_type": "code",
   "execution_count": 19,
   "metadata": {
    "scrolled": true
   },
   "outputs": [
    {
     "data": {
      "text/plain": [
       "0    82572\n",
       "1    39284\n",
       "Name: Bike_Owned, dtype: int64"
      ]
     },
     "execution_count": 19,
     "metadata": {},
     "output_type": "execute_result"
    }
   ],
   "source": [
    "train_set['Bike_Owned'].value_counts()"
   ]
  },
  {
   "cell_type": "code",
   "execution_count": 20,
   "metadata": {},
   "outputs": [
    {
     "data": {
      "text/plain": [
       "0    62843\n",
       "1    59013\n",
       "Name: Active_Loan, dtype: int64"
      ]
     },
     "execution_count": 20,
     "metadata": {},
     "output_type": "execute_result"
    }
   ],
   "source": [
    "train_set['Active_Loan'].value_counts()"
   ]
  },
  {
   "cell_type": "code",
   "execution_count": 21,
   "metadata": {},
   "outputs": [
    {
     "data": {
      "text/plain": [
       "1    81798\n",
       "0    40058\n",
       "Name: House_Own, dtype: int64"
      ]
     },
     "execution_count": 21,
     "metadata": {},
     "output_type": "execute_result"
    }
   ],
   "source": [
    "train_set['House_Own'].value_counts()"
   ]
  },
  {
   "cell_type": "code",
   "execution_count": 22,
   "metadata": {},
   "outputs": [
    {
     "data": {
      "text/plain": [
       "0    86472\n",
       "1    23440\n",
       "2    10294\n",
       "3     1430\n",
       "4      167\n",
       "5       34\n",
       "6       12\n",
       "7        4\n",
       "8        2\n",
       "9        1\n",
       "Name: Child_Count, dtype: int64"
      ]
     },
     "execution_count": 22,
     "metadata": {},
     "output_type": "execute_result"
    }
   ],
   "source": [
    "train_set['Child_Count'].value_counts()"
   ]
  },
  {
   "cell_type": "code",
   "execution_count": 23,
   "metadata": {},
   "outputs": [],
   "source": [
    "train_set['Credit_Amount'].fillna('0',inplace=True)\n",
    "train_set['Loan_Annuity'].fillna('0',inplace=True)"
   ]
  },
  {
   "cell_type": "code",
   "execution_count": 136,
   "metadata": {},
   "outputs": [],
   "source": [
    "df['Credit_Amount'].fillna('0',inplace=True)\n",
    "df['Loan_Annuity'].fillna('0',inplace=True)"
   ]
  },
  {
   "cell_type": "code",
   "execution_count": 24,
   "metadata": {},
   "outputs": [],
   "source": [
    "train_set['Credit_Amount']=train_set['Credit_Amount'].replace('$','0')"
   ]
  },
  {
   "cell_type": "code",
   "execution_count": 137,
   "metadata": {},
   "outputs": [],
   "source": [
    "df['Credit_Amount']=df['Credit_Amount'].replace('$','0')"
   ]
  },
  {
   "cell_type": "code",
   "execution_count": 25,
   "metadata": {},
   "outputs": [],
   "source": [
    "train_set['Loan_Annuity']=train_set['Loan_Annuity'].replace('$','0')"
   ]
  },
  {
   "cell_type": "code",
   "execution_count": 138,
   "metadata": {},
   "outputs": [],
   "source": [
    "df['Loan_Annuity']=df['Loan_Annuity'].replace('$','0')"
   ]
  },
  {
   "cell_type": "code",
   "execution_count": 26,
   "metadata": {},
   "outputs": [],
   "source": [
    "train_set['Loan_Annuity']=train_set['Loan_Annuity'].replace('#VALUE!','0')"
   ]
  },
  {
   "cell_type": "code",
   "execution_count": 139,
   "metadata": {},
   "outputs": [],
   "source": [
    "df['Loan_Annuity']=df['Loan_Annuity'].replace('#VALUE!','0')"
   ]
  },
  {
   "cell_type": "code",
   "execution_count": 27,
   "metadata": {},
   "outputs": [],
   "source": [
    "train_set['Credit_Amount']=train_set['Credit_Amount'].astype('float')\n",
    "train_set['Loan_Annuity']=train_set['Loan_Annuity'].astype('float')"
   ]
  },
  {
   "cell_type": "code",
   "execution_count": 140,
   "metadata": {},
   "outputs": [],
   "source": [
    "df['Credit_Amount']=df['Credit_Amount'].astype('float')\n",
    "df['Loan_Annuity']=df['Loan_Annuity'].astype('float')"
   ]
  },
  {
   "cell_type": "code",
   "execution_count": 28,
   "metadata": {
    "scrolled": true
   },
   "outputs": [
    {
     "data": {
      "text/html": [
       "<div>\n",
       "<style scoped>\n",
       "    .dataframe tbody tr th:only-of-type {\n",
       "        vertical-align: middle;\n",
       "    }\n",
       "\n",
       "    .dataframe tbody tr th {\n",
       "        vertical-align: top;\n",
       "    }\n",
       "\n",
       "    .dataframe thead th {\n",
       "        text-align: right;\n",
       "    }\n",
       "</style>\n",
       "<table border=\"1\" class=\"dataframe\">\n",
       "  <thead>\n",
       "    <tr style=\"text-align: right;\">\n",
       "      <th></th>\n",
       "      <th>ID</th>\n",
       "      <th>Client_Income</th>\n",
       "      <th>Car_Owned</th>\n",
       "      <th>Bike_Owned</th>\n",
       "      <th>Active_Loan</th>\n",
       "      <th>House_Own</th>\n",
       "      <th>Child_Count</th>\n",
       "      <th>Credit_Amount</th>\n",
       "      <th>Loan_Annuity</th>\n",
       "      <th>Accompany_Client</th>\n",
       "      <th>...</th>\n",
       "      <th>Application_Process_Day</th>\n",
       "      <th>Application_Process_Hour</th>\n",
       "      <th>Client_Permanent_Match_Tag</th>\n",
       "      <th>Client_Contact_Work_Tag</th>\n",
       "      <th>Type_Organization</th>\n",
       "      <th>Score_Source_2</th>\n",
       "      <th>Score_Source_3</th>\n",
       "      <th>Phone_Change</th>\n",
       "      <th>Credit_Bureau</th>\n",
       "      <th>Default</th>\n",
       "    </tr>\n",
       "  </thead>\n",
       "  <tbody>\n",
       "    <tr>\n",
       "      <th>0</th>\n",
       "      <td>12142509</td>\n",
       "      <td>6750</td>\n",
       "      <td>0</td>\n",
       "      <td>0</td>\n",
       "      <td>1</td>\n",
       "      <td>0</td>\n",
       "      <td>0</td>\n",
       "      <td>61190.55</td>\n",
       "      <td>3416.85</td>\n",
       "      <td>Alone</td>\n",
       "      <td>...</td>\n",
       "      <td>6.0</td>\n",
       "      <td>17.0</td>\n",
       "      <td>Yes</td>\n",
       "      <td>Yes</td>\n",
       "      <td>Self-employed</td>\n",
       "      <td>0.478787</td>\n",
       "      <td>NaN</td>\n",
       "      <td>63.0</td>\n",
       "      <td>NaN</td>\n",
       "      <td>0</td>\n",
       "    </tr>\n",
       "    <tr>\n",
       "      <th>1</th>\n",
       "      <td>12138936</td>\n",
       "      <td>20250</td>\n",
       "      <td>1</td>\n",
       "      <td>0</td>\n",
       "      <td>1</td>\n",
       "      <td>0</td>\n",
       "      <td>0</td>\n",
       "      <td>15282.00</td>\n",
       "      <td>1826.55</td>\n",
       "      <td>Alone</td>\n",
       "      <td>...</td>\n",
       "      <td>3.0</td>\n",
       "      <td>10.0</td>\n",
       "      <td>Yes</td>\n",
       "      <td>Yes</td>\n",
       "      <td>Government</td>\n",
       "      <td>0.215068</td>\n",
       "      <td>NaN</td>\n",
       "      <td>NaN</td>\n",
       "      <td>NaN</td>\n",
       "      <td>0</td>\n",
       "    </tr>\n",
       "    <tr>\n",
       "      <th>2</th>\n",
       "      <td>12181264</td>\n",
       "      <td>18000</td>\n",
       "      <td>0</td>\n",
       "      <td>0</td>\n",
       "      <td>1</td>\n",
       "      <td>0</td>\n",
       "      <td>1</td>\n",
       "      <td>59527.35</td>\n",
       "      <td>2788.20</td>\n",
       "      <td>Alone</td>\n",
       "      <td>...</td>\n",
       "      <td>4.0</td>\n",
       "      <td>NaN</td>\n",
       "      <td>Yes</td>\n",
       "      <td>Yes</td>\n",
       "      <td>Self-employed</td>\n",
       "      <td>0.552795</td>\n",
       "      <td>0.329655</td>\n",
       "      <td>277.0</td>\n",
       "      <td>0.0</td>\n",
       "      <td>0</td>\n",
       "    </tr>\n",
       "    <tr>\n",
       "      <th>3</th>\n",
       "      <td>12188929</td>\n",
       "      <td>15750</td>\n",
       "      <td>0</td>\n",
       "      <td>0</td>\n",
       "      <td>1</td>\n",
       "      <td>1</td>\n",
       "      <td>0</td>\n",
       "      <td>53870.40</td>\n",
       "      <td>2295.45</td>\n",
       "      <td>Alone</td>\n",
       "      <td>...</td>\n",
       "      <td>2.0</td>\n",
       "      <td>15.0</td>\n",
       "      <td>Yes</td>\n",
       "      <td>Yes</td>\n",
       "      <td>XNA</td>\n",
       "      <td>0.135182</td>\n",
       "      <td>0.631355</td>\n",
       "      <td>1700.0</td>\n",
       "      <td>3.0</td>\n",
       "      <td>0</td>\n",
       "    </tr>\n",
       "    <tr>\n",
       "      <th>4</th>\n",
       "      <td>12133385</td>\n",
       "      <td>33750</td>\n",
       "      <td>1</td>\n",
       "      <td>0</td>\n",
       "      <td>1</td>\n",
       "      <td>0</td>\n",
       "      <td>2</td>\n",
       "      <td>133988.40</td>\n",
       "      <td>3547.35</td>\n",
       "      <td>Alone</td>\n",
       "      <td>...</td>\n",
       "      <td>3.0</td>\n",
       "      <td>NaN</td>\n",
       "      <td>Yes</td>\n",
       "      <td>Yes</td>\n",
       "      <td>Business Entity Type 3</td>\n",
       "      <td>0.301182</td>\n",
       "      <td>0.355639</td>\n",
       "      <td>674.0</td>\n",
       "      <td>1.0</td>\n",
       "      <td>0</td>\n",
       "    </tr>\n",
       "    <tr>\n",
       "      <th>...</th>\n",
       "      <td>...</td>\n",
       "      <td>...</td>\n",
       "      <td>...</td>\n",
       "      <td>...</td>\n",
       "      <td>...</td>\n",
       "      <td>...</td>\n",
       "      <td>...</td>\n",
       "      <td>...</td>\n",
       "      <td>...</td>\n",
       "      <td>...</td>\n",
       "      <td>...</td>\n",
       "      <td>...</td>\n",
       "      <td>...</td>\n",
       "      <td>...</td>\n",
       "      <td>...</td>\n",
       "      <td>...</td>\n",
       "      <td>...</td>\n",
       "      <td>...</td>\n",
       "      <td>...</td>\n",
       "      <td>...</td>\n",
       "      <td>...</td>\n",
       "    </tr>\n",
       "    <tr>\n",
       "      <th>121851</th>\n",
       "      <td>12207714</td>\n",
       "      <td>29250</td>\n",
       "      <td>0</td>\n",
       "      <td>0</td>\n",
       "      <td>0</td>\n",
       "      <td>1</td>\n",
       "      <td>0</td>\n",
       "      <td>107820.00</td>\n",
       "      <td>3165.30</td>\n",
       "      <td>Relative</td>\n",
       "      <td>...</td>\n",
       "      <td>4.0</td>\n",
       "      <td>16.0</td>\n",
       "      <td>Yes</td>\n",
       "      <td>No</td>\n",
       "      <td>Business Entity Type 2</td>\n",
       "      <td>0.173527</td>\n",
       "      <td>0.184116</td>\n",
       "      <td>0.0</td>\n",
       "      <td>1.0</td>\n",
       "      <td>1</td>\n",
       "    </tr>\n",
       "    <tr>\n",
       "      <th>121852</th>\n",
       "      <td>12173765</td>\n",
       "      <td>15750</td>\n",
       "      <td>0</td>\n",
       "      <td>1</td>\n",
       "      <td>1</td>\n",
       "      <td>0</td>\n",
       "      <td>0</td>\n",
       "      <td>104256.00</td>\n",
       "      <td>3388.05</td>\n",
       "      <td>Alone</td>\n",
       "      <td>...</td>\n",
       "      <td>4.0</td>\n",
       "      <td>12.0</td>\n",
       "      <td>Yes</td>\n",
       "      <td>Yes</td>\n",
       "      <td>Self-employed</td>\n",
       "      <td>0.371559</td>\n",
       "      <td>0.406617</td>\n",
       "      <td>4.0</td>\n",
       "      <td>0.0</td>\n",
       "      <td>0</td>\n",
       "    </tr>\n",
       "    <tr>\n",
       "      <th>121853</th>\n",
       "      <td>12103937</td>\n",
       "      <td>8100</td>\n",
       "      <td>0</td>\n",
       "      <td>1</td>\n",
       "      <td>0</td>\n",
       "      <td>1</td>\n",
       "      <td>1</td>\n",
       "      <td>55107.90</td>\n",
       "      <td>2989.35</td>\n",
       "      <td>Alone</td>\n",
       "      <td>...</td>\n",
       "      <td>5.0</td>\n",
       "      <td>11.0</td>\n",
       "      <td>No</td>\n",
       "      <td>No</td>\n",
       "      <td>Trade: type 6</td>\n",
       "      <td>0.048079</td>\n",
       "      <td>NaN</td>\n",
       "      <td>0.0</td>\n",
       "      <td>NaN</td>\n",
       "      <td>0</td>\n",
       "    </tr>\n",
       "    <tr>\n",
       "      <th>121854</th>\n",
       "      <td>12170623</td>\n",
       "      <td>38250</td>\n",
       "      <td>1</td>\n",
       "      <td>1</td>\n",
       "      <td>0</td>\n",
       "      <td>1</td>\n",
       "      <td>0</td>\n",
       "      <td>45000.00</td>\n",
       "      <td>2719.35</td>\n",
       "      <td>Alone</td>\n",
       "      <td>...</td>\n",
       "      <td>1.0</td>\n",
       "      <td>12.0</td>\n",
       "      <td>Yes</td>\n",
       "      <td>Yes</td>\n",
       "      <td>Business Entity Type 3</td>\n",
       "      <td>0.103538</td>\n",
       "      <td>0.0774985</td>\n",
       "      <td>0.0</td>\n",
       "      <td>2.0</td>\n",
       "      <td>0</td>\n",
       "    </tr>\n",
       "    <tr>\n",
       "      <th>121855</th>\n",
       "      <td>12105610</td>\n",
       "      <td>9000</td>\n",
       "      <td>1</td>\n",
       "      <td>1</td>\n",
       "      <td>1</td>\n",
       "      <td>1</td>\n",
       "      <td>1</td>\n",
       "      <td>62428.95</td>\n",
       "      <td>4201.65</td>\n",
       "      <td>Alone</td>\n",
       "      <td>...</td>\n",
       "      <td>4.0</td>\n",
       "      <td>6.0</td>\n",
       "      <td>Yes</td>\n",
       "      <td>Yes</td>\n",
       "      <td>Business Entity Type 3</td>\n",
       "      <td>0.556414</td>\n",
       "      <td>0.298595</td>\n",
       "      <td>805.0</td>\n",
       "      <td>0.0</td>\n",
       "      <td>0</td>\n",
       "    </tr>\n",
       "  </tbody>\n",
       "</table>\n",
       "<p>121856 rows × 37 columns</p>\n",
       "</div>"
      ],
      "text/plain": [
       "              ID Client_Income Car_Owned Bike_Owned Active_Loan House_Own  \\\n",
       "0       12142509          6750         0          0           1         0   \n",
       "1       12138936         20250         1          0           1         0   \n",
       "2       12181264         18000         0          0           1         0   \n",
       "3       12188929         15750         0          0           1         1   \n",
       "4       12133385         33750         1          0           1         0   \n",
       "...          ...           ...       ...        ...         ...       ...   \n",
       "121851  12207714         29250         0          0           0         1   \n",
       "121852  12173765         15750         0          1           1         0   \n",
       "121853  12103937          8100         0          1           0         1   \n",
       "121854  12170623         38250         1          1           0         1   \n",
       "121855  12105610          9000         1          1           1         1   \n",
       "\n",
       "       Child_Count  Credit_Amount  Loan_Annuity Accompany_Client  ...  \\\n",
       "0                0       61190.55       3416.85            Alone  ...   \n",
       "1                0       15282.00       1826.55            Alone  ...   \n",
       "2                1       59527.35       2788.20            Alone  ...   \n",
       "3                0       53870.40       2295.45            Alone  ...   \n",
       "4                2      133988.40       3547.35            Alone  ...   \n",
       "...            ...            ...           ...              ...  ...   \n",
       "121851           0      107820.00       3165.30         Relative  ...   \n",
       "121852           0      104256.00       3388.05            Alone  ...   \n",
       "121853           1       55107.90       2989.35            Alone  ...   \n",
       "121854           0       45000.00       2719.35            Alone  ...   \n",
       "121855           1       62428.95       4201.65            Alone  ...   \n",
       "\n",
       "       Application_Process_Day Application_Process_Hour  \\\n",
       "0                          6.0                     17.0   \n",
       "1                          3.0                     10.0   \n",
       "2                          4.0                      NaN   \n",
       "3                          2.0                     15.0   \n",
       "4                          3.0                      NaN   \n",
       "...                        ...                      ...   \n",
       "121851                     4.0                     16.0   \n",
       "121852                     4.0                     12.0   \n",
       "121853                     5.0                     11.0   \n",
       "121854                     1.0                     12.0   \n",
       "121855                     4.0                      6.0   \n",
       "\n",
       "       Client_Permanent_Match_Tag Client_Contact_Work_Tag  \\\n",
       "0                             Yes                     Yes   \n",
       "1                             Yes                     Yes   \n",
       "2                             Yes                     Yes   \n",
       "3                             Yes                     Yes   \n",
       "4                             Yes                     Yes   \n",
       "...                           ...                     ...   \n",
       "121851                        Yes                      No   \n",
       "121852                        Yes                     Yes   \n",
       "121853                         No                      No   \n",
       "121854                        Yes                     Yes   \n",
       "121855                        Yes                     Yes   \n",
       "\n",
       "             Type_Organization Score_Source_2 Score_Source_3 Phone_Change  \\\n",
       "0                Self-employed       0.478787            NaN         63.0   \n",
       "1                   Government       0.215068            NaN          NaN   \n",
       "2                Self-employed       0.552795       0.329655        277.0   \n",
       "3                          XNA       0.135182       0.631355       1700.0   \n",
       "4       Business Entity Type 3       0.301182       0.355639        674.0   \n",
       "...                        ...            ...            ...          ...   \n",
       "121851  Business Entity Type 2       0.173527       0.184116          0.0   \n",
       "121852           Self-employed       0.371559       0.406617          4.0   \n",
       "121853           Trade: type 6       0.048079            NaN          0.0   \n",
       "121854  Business Entity Type 3       0.103538      0.0774985          0.0   \n",
       "121855  Business Entity Type 3       0.556414       0.298595        805.0   \n",
       "\n",
       "       Credit_Bureau Default  \n",
       "0                NaN       0  \n",
       "1                NaN       0  \n",
       "2                0.0       0  \n",
       "3                3.0       0  \n",
       "4                1.0       0  \n",
       "...              ...     ...  \n",
       "121851           1.0       1  \n",
       "121852           0.0       0  \n",
       "121853           NaN       0  \n",
       "121854           2.0       0  \n",
       "121855           0.0       0  \n",
       "\n",
       "[121856 rows x 37 columns]"
      ]
     },
     "execution_count": 28,
     "metadata": {},
     "output_type": "execute_result"
    }
   ],
   "source": [
    "train_set"
   ]
  },
  {
   "cell_type": "code",
   "execution_count": 29,
   "metadata": {},
   "outputs": [
    {
     "data": {
      "text/plain": [
       "ID                                0\n",
       "Client_Income                  3607\n",
       "Car_Owned                         0\n",
       "Bike_Owned                        0\n",
       "Active_Loan                       0\n",
       "House_Own                         0\n",
       "Child_Count                       0\n",
       "Credit_Amount                     0\n",
       "Loan_Annuity                      0\n",
       "Accompany_Client               1746\n",
       "Client_Income_Type             3701\n",
       "Client_Education               3645\n",
       "Client_Marital_Status          3473\n",
       "Client_Gender                  2413\n",
       "Loan_Contract_Type             3651\n",
       "Client_Housing_Type            3687\n",
       "Population_Region_Relative     4857\n",
       "Age_Days                       3600\n",
       "Employed_Days                  3649\n",
       "Registration_Days              3614\n",
       "ID_Days                        5968\n",
       "Mobile_Tag                        0\n",
       "Homephone_Tag                     0\n",
       "Workphone_Working                 0\n",
       "Client_Occupation             41435\n",
       "Client_Family_Members          2410\n",
       "Cleint_City_Rating             2409\n",
       "Application_Process_Day        2428\n",
       "Application_Process_Hour       3663\n",
       "Client_Permanent_Match_Tag        0\n",
       "Client_Contact_Work_Tag           0\n",
       "Type_Organization              3609\n",
       "Score_Source_2                 5686\n",
       "Score_Source_3                26921\n",
       "Phone_Change                   3664\n",
       "Credit_Bureau                 18540\n",
       "Default                           0\n",
       "dtype: int64"
      ]
     },
     "execution_count": 29,
     "metadata": {},
     "output_type": "execute_result"
    }
   ],
   "source": [
    "train_set.isnull().sum()"
   ]
  },
  {
   "cell_type": "code",
   "execution_count": 30,
   "metadata": {},
   "outputs": [
    {
     "data": {
      "text/plain": [
       "Alone       97409\n",
       "Relative    15748\n",
       "Partner      4516\n",
       "Kids         1334\n",
       "Others        987\n",
       "Group         104\n",
       "##             12\n",
       "Name: Accompany_Client, dtype: int64"
      ]
     },
     "execution_count": 30,
     "metadata": {},
     "output_type": "execute_result"
    }
   ],
   "source": [
    "train_set['Accompany_Client'].value_counts()"
   ]
  },
  {
   "cell_type": "code",
   "execution_count": 31,
   "metadata": {},
   "outputs": [],
   "source": [
    "train_set['Accompany_Client']=train_set['Accompany_Client'].replace('##',np.nan)"
   ]
  },
  {
   "cell_type": "code",
   "execution_count": 141,
   "metadata": {},
   "outputs": [],
   "source": [
    "df['Accompany_Client']=df['Accompany_Client'].replace('##',np.nan)"
   ]
  },
  {
   "cell_type": "code",
   "execution_count": 32,
   "metadata": {},
   "outputs": [
    {
     "data": {
      "text/plain": [
       "0    Alone\n",
       "dtype: object"
      ]
     },
     "execution_count": 32,
     "metadata": {},
     "output_type": "execute_result"
    }
   ],
   "source": [
    "train_set['Accompany_Client'].mode()"
   ]
  },
  {
   "cell_type": "code",
   "execution_count": 33,
   "metadata": {},
   "outputs": [
    {
     "data": {
      "text/plain": [
       "False    120098\n",
       "True       1758\n",
       "Name: Accompany_Client, dtype: int64"
      ]
     },
     "execution_count": 33,
     "metadata": {},
     "output_type": "execute_result"
    }
   ],
   "source": [
    "train_set['Accompany_Client'].isnull().value_counts()"
   ]
  },
  {
   "cell_type": "code",
   "execution_count": 34,
   "metadata": {},
   "outputs": [
    {
     "data": {
      "text/plain": [
       "array(['Alone', 'Relative', 'Others', 'Kids', nan, 'Partner', 'Group'],\n",
       "      dtype=object)"
      ]
     },
     "execution_count": 34,
     "metadata": {},
     "output_type": "execute_result"
    }
   ],
   "source": [
    "train_set['Accompany_Client'].unique()"
   ]
  },
  {
   "cell_type": "code",
   "execution_count": 35,
   "metadata": {},
   "outputs": [],
   "source": [
    "train_set['Accompany_Client']=train_set['Accompany_Client'].replace(np.nan,'nan')"
   ]
  },
  {
   "cell_type": "code",
   "execution_count": 142,
   "metadata": {},
   "outputs": [],
   "source": [
    "df['Accompany_Client']=df['Accompany_Client'].replace(np.nan,'nan')"
   ]
  },
  {
   "cell_type": "code",
   "execution_count": 36,
   "metadata": {},
   "outputs": [
    {
     "data": {
      "text/plain": [
       "0"
      ]
     },
     "execution_count": 36,
     "metadata": {},
     "output_type": "execute_result"
    }
   ],
   "source": [
    "train_set['Accompany_Client'].isnull().sum()"
   ]
  },
  {
   "cell_type": "code",
   "execution_count": 37,
   "metadata": {},
   "outputs": [],
   "source": [
    "train_set['Accompany_Client']=train_set['Accompany_Client'].replace('nan',train_set['Accompany_Client'].mode())"
   ]
  },
  {
   "cell_type": "code",
   "execution_count": 143,
   "metadata": {},
   "outputs": [],
   "source": [
    "df['Accompany_Client']=df['Accompany_Client'].replace('nan',train_set['Accompany_Client'].mode())"
   ]
  },
  {
   "cell_type": "code",
   "execution_count": 38,
   "metadata": {},
   "outputs": [
    {
     "data": {
      "text/plain": [
       "Alone       97409\n",
       "Relative    15748\n",
       "Partner      4516\n",
       "nan          1758\n",
       "Kids         1334\n",
       "Others        987\n",
       "Group         104\n",
       "Name: Accompany_Client, dtype: int64"
      ]
     },
     "execution_count": 38,
     "metadata": {},
     "output_type": "execute_result"
    }
   ],
   "source": [
    "train_set['Accompany_Client'].value_counts()"
   ]
  },
  {
   "cell_type": "code",
   "execution_count": 39,
   "metadata": {},
   "outputs": [
    {
     "data": {
      "text/plain": [
       "Service            61028\n",
       "Commercial         27764\n",
       "Retired            21043\n",
       "Govt Job            8303\n",
       "Student                8\n",
       "Unemployed             6\n",
       "Maternity leave        2\n",
       "Businessman            1\n",
       "Name: Client_Income_Type, dtype: int64"
      ]
     },
     "execution_count": 39,
     "metadata": {},
     "output_type": "execute_result"
    }
   ],
   "source": [
    "train_set['Client_Income_Type'].value_counts()"
   ]
  },
  {
   "cell_type": "code",
   "execution_count": 40,
   "metadata": {},
   "outputs": [],
   "source": [
    "train_set['Client_Income_Type']= train_set['Client_Income_Type'].replace(np.nan,'nan')"
   ]
  },
  {
   "cell_type": "code",
   "execution_count": 41,
   "metadata": {},
   "outputs": [],
   "source": [
    "train_set['Client_Income_Type']= train_set['Client_Income_Type'].replace('nan',train_set['Client_Income_Type'].mode())"
   ]
  },
  {
   "cell_type": "code",
   "execution_count": 42,
   "metadata": {},
   "outputs": [],
   "source": [
    "train_set['Client_Education']= train_set['Client_Education'].replace(np.nan,'nan')\n",
    "train_set['Client_Education']= train_set['Client_Education'].replace('nan',train_set['Client_Education'].mode())"
   ]
  },
  {
   "cell_type": "code",
   "execution_count": 43,
   "metadata": {},
   "outputs": [
    {
     "data": {
      "text/plain": [
       "M    87349\n",
       "S    17404\n",
       "D     7556\n",
       "W     6074\n",
       "Name: Client_Marital_Status, dtype: int64"
      ]
     },
     "execution_count": 43,
     "metadata": {},
     "output_type": "execute_result"
    }
   ],
   "source": [
    "train_set['Client_Marital_Status'].value_counts()"
   ]
  },
  {
   "cell_type": "code",
   "execution_count": 44,
   "metadata": {},
   "outputs": [],
   "source": [
    "train_set['Client_Marital_Status']= train_set['Client_Marital_Status'].replace(np.nan,'nan')\n",
    "train_set['Client_Marital_Status']= train_set['Client_Marital_Status'].replace('nan',train_set['Client_Marital_Status'].mode())"
   ]
  },
  {
   "cell_type": "code",
   "execution_count": 45,
   "metadata": {},
   "outputs": [
    {
     "data": {
      "text/plain": [
       "0.035792    4159\n",
       "0.04622     3444\n",
       "0.030755    3116\n",
       "0.025164    3017\n",
       "0.026392    2967\n",
       "            ... \n",
       "@              6\n",
       "#              5\n",
       "0.000938       3\n",
       "100            1\n",
       "100.0          1\n",
       "Name: Population_Region_Relative, Length: 164, dtype: int64"
      ]
     },
     "execution_count": 45,
     "metadata": {},
     "output_type": "execute_result"
    }
   ],
   "source": [
    "train_set['Population_Region_Relative'].value_counts()"
   ]
  },
  {
   "cell_type": "code",
   "execution_count": 46,
   "metadata": {},
   "outputs": [
    {
     "data": {
      "text/plain": [
       "Male      78463\n",
       "Female    40977\n",
       "XNA           3\n",
       "Name: Client_Gender, dtype: int64"
      ]
     },
     "execution_count": 46,
     "metadata": {},
     "output_type": "execute_result"
    }
   ],
   "source": [
    "train_set['Client_Gender'].value_counts()"
   ]
  },
  {
   "cell_type": "code",
   "execution_count": 47,
   "metadata": {},
   "outputs": [],
   "source": [
    "train_set['Client_Gender']= train_set['Client_Gender'].replace(np.nan,'nan')\n",
    "train_set['Client_Gender']= train_set['Client_Gender'].replace('nan',train_set['Client_Gender'].mode())"
   ]
  },
  {
   "cell_type": "code",
   "execution_count": 48,
   "metadata": {},
   "outputs": [
    {
     "data": {
      "text/plain": [
       "CL    107118\n",
       "RL     11087\n",
       "Name: Loan_Contract_Type, dtype: int64"
      ]
     },
     "execution_count": 48,
     "metadata": {},
     "output_type": "execute_result"
    }
   ],
   "source": [
    "train_set['Loan_Contract_Type'].value_counts()"
   ]
  },
  {
   "cell_type": "code",
   "execution_count": 49,
   "metadata": {},
   "outputs": [],
   "source": [
    "train_set['Loan_Contract_Type']= train_set['Loan_Contract_Type'].replace(np.nan,'nan')\n",
    "train_set['Loan_Contract_Type']= train_set['Loan_Contract_Type'].replace('nan',train_set['Loan_Contract_Type'].mode())"
   ]
  },
  {
   "cell_type": "code",
   "execution_count": 50,
   "metadata": {},
   "outputs": [],
   "source": [
    "train_set['Client_Housing_Type']= train_set['Client_Housing_Type'].replace(np.nan,'nan')\n",
    "train_set['Client_Housing_Type']= train_set['Client_Housing_Type'].replace('nan',train_set['Client_Housing_Type'].mode())"
   ]
  },
  {
   "cell_type": "code",
   "execution_count": 51,
   "metadata": {},
   "outputs": [],
   "source": [
    "train_set=train_set[(train_set['Population_Region_Relative']!= '@' )&(train_set['Population_Region_Relative']!= '#' )]"
   ]
  },
  {
   "cell_type": "code",
   "execution_count": 52,
   "metadata": {},
   "outputs": [
    {
     "data": {
      "text/html": [
       "<div>\n",
       "<style scoped>\n",
       "    .dataframe tbody tr th:only-of-type {\n",
       "        vertical-align: middle;\n",
       "    }\n",
       "\n",
       "    .dataframe tbody tr th {\n",
       "        vertical-align: top;\n",
       "    }\n",
       "\n",
       "    .dataframe thead th {\n",
       "        text-align: right;\n",
       "    }\n",
       "</style>\n",
       "<table border=\"1\" class=\"dataframe\">\n",
       "  <thead>\n",
       "    <tr style=\"text-align: right;\">\n",
       "      <th></th>\n",
       "      <th>ID</th>\n",
       "      <th>Client_Income</th>\n",
       "      <th>Car_Owned</th>\n",
       "      <th>Bike_Owned</th>\n",
       "      <th>Active_Loan</th>\n",
       "      <th>House_Own</th>\n",
       "      <th>Child_Count</th>\n",
       "      <th>Credit_Amount</th>\n",
       "      <th>Loan_Annuity</th>\n",
       "      <th>Accompany_Client</th>\n",
       "      <th>...</th>\n",
       "      <th>Application_Process_Day</th>\n",
       "      <th>Application_Process_Hour</th>\n",
       "      <th>Client_Permanent_Match_Tag</th>\n",
       "      <th>Client_Contact_Work_Tag</th>\n",
       "      <th>Type_Organization</th>\n",
       "      <th>Score_Source_2</th>\n",
       "      <th>Score_Source_3</th>\n",
       "      <th>Phone_Change</th>\n",
       "      <th>Credit_Bureau</th>\n",
       "      <th>Default</th>\n",
       "    </tr>\n",
       "  </thead>\n",
       "  <tbody>\n",
       "    <tr>\n",
       "      <th>0</th>\n",
       "      <td>12142509</td>\n",
       "      <td>6750</td>\n",
       "      <td>0</td>\n",
       "      <td>0</td>\n",
       "      <td>1</td>\n",
       "      <td>0</td>\n",
       "      <td>0</td>\n",
       "      <td>61190.55</td>\n",
       "      <td>3416.85</td>\n",
       "      <td>Alone</td>\n",
       "      <td>...</td>\n",
       "      <td>6.0</td>\n",
       "      <td>17.0</td>\n",
       "      <td>Yes</td>\n",
       "      <td>Yes</td>\n",
       "      <td>Self-employed</td>\n",
       "      <td>0.478787</td>\n",
       "      <td>NaN</td>\n",
       "      <td>63.0</td>\n",
       "      <td>NaN</td>\n",
       "      <td>0</td>\n",
       "    </tr>\n",
       "    <tr>\n",
       "      <th>1</th>\n",
       "      <td>12138936</td>\n",
       "      <td>20250</td>\n",
       "      <td>1</td>\n",
       "      <td>0</td>\n",
       "      <td>1</td>\n",
       "      <td>0</td>\n",
       "      <td>0</td>\n",
       "      <td>15282.00</td>\n",
       "      <td>1826.55</td>\n",
       "      <td>Alone</td>\n",
       "      <td>...</td>\n",
       "      <td>3.0</td>\n",
       "      <td>10.0</td>\n",
       "      <td>Yes</td>\n",
       "      <td>Yes</td>\n",
       "      <td>Government</td>\n",
       "      <td>0.215068</td>\n",
       "      <td>NaN</td>\n",
       "      <td>NaN</td>\n",
       "      <td>NaN</td>\n",
       "      <td>0</td>\n",
       "    </tr>\n",
       "    <tr>\n",
       "      <th>2</th>\n",
       "      <td>12181264</td>\n",
       "      <td>18000</td>\n",
       "      <td>0</td>\n",
       "      <td>0</td>\n",
       "      <td>1</td>\n",
       "      <td>0</td>\n",
       "      <td>1</td>\n",
       "      <td>59527.35</td>\n",
       "      <td>2788.20</td>\n",
       "      <td>Alone</td>\n",
       "      <td>...</td>\n",
       "      <td>4.0</td>\n",
       "      <td>NaN</td>\n",
       "      <td>Yes</td>\n",
       "      <td>Yes</td>\n",
       "      <td>Self-employed</td>\n",
       "      <td>0.552795</td>\n",
       "      <td>0.329655</td>\n",
       "      <td>277.0</td>\n",
       "      <td>0.0</td>\n",
       "      <td>0</td>\n",
       "    </tr>\n",
       "    <tr>\n",
       "      <th>3</th>\n",
       "      <td>12188929</td>\n",
       "      <td>15750</td>\n",
       "      <td>0</td>\n",
       "      <td>0</td>\n",
       "      <td>1</td>\n",
       "      <td>1</td>\n",
       "      <td>0</td>\n",
       "      <td>53870.40</td>\n",
       "      <td>2295.45</td>\n",
       "      <td>Alone</td>\n",
       "      <td>...</td>\n",
       "      <td>2.0</td>\n",
       "      <td>15.0</td>\n",
       "      <td>Yes</td>\n",
       "      <td>Yes</td>\n",
       "      <td>XNA</td>\n",
       "      <td>0.135182</td>\n",
       "      <td>0.631355</td>\n",
       "      <td>1700.0</td>\n",
       "      <td>3.0</td>\n",
       "      <td>0</td>\n",
       "    </tr>\n",
       "    <tr>\n",
       "      <th>4</th>\n",
       "      <td>12133385</td>\n",
       "      <td>33750</td>\n",
       "      <td>1</td>\n",
       "      <td>0</td>\n",
       "      <td>1</td>\n",
       "      <td>0</td>\n",
       "      <td>2</td>\n",
       "      <td>133988.40</td>\n",
       "      <td>3547.35</td>\n",
       "      <td>Alone</td>\n",
       "      <td>...</td>\n",
       "      <td>3.0</td>\n",
       "      <td>NaN</td>\n",
       "      <td>Yes</td>\n",
       "      <td>Yes</td>\n",
       "      <td>Business Entity Type 3</td>\n",
       "      <td>0.301182</td>\n",
       "      <td>0.355639</td>\n",
       "      <td>674.0</td>\n",
       "      <td>1.0</td>\n",
       "      <td>0</td>\n",
       "    </tr>\n",
       "  </tbody>\n",
       "</table>\n",
       "<p>5 rows × 37 columns</p>\n",
       "</div>"
      ],
      "text/plain": [
       "         ID Client_Income Car_Owned Bike_Owned Active_Loan House_Own  \\\n",
       "0  12142509          6750         0          0           1         0   \n",
       "1  12138936         20250         1          0           1         0   \n",
       "2  12181264         18000         0          0           1         0   \n",
       "3  12188929         15750         0          0           1         1   \n",
       "4  12133385         33750         1          0           1         0   \n",
       "\n",
       "  Child_Count  Credit_Amount  Loan_Annuity Accompany_Client  ...  \\\n",
       "0           0       61190.55       3416.85            Alone  ...   \n",
       "1           0       15282.00       1826.55            Alone  ...   \n",
       "2           1       59527.35       2788.20            Alone  ...   \n",
       "3           0       53870.40       2295.45            Alone  ...   \n",
       "4           2      133988.40       3547.35            Alone  ...   \n",
       "\n",
       "  Application_Process_Day Application_Process_Hour Client_Permanent_Match_Tag  \\\n",
       "0                     6.0                     17.0                        Yes   \n",
       "1                     3.0                     10.0                        Yes   \n",
       "2                     4.0                      NaN                        Yes   \n",
       "3                     2.0                     15.0                        Yes   \n",
       "4                     3.0                      NaN                        Yes   \n",
       "\n",
       "  Client_Contact_Work_Tag       Type_Organization Score_Source_2  \\\n",
       "0                     Yes           Self-employed       0.478787   \n",
       "1                     Yes              Government       0.215068   \n",
       "2                     Yes           Self-employed       0.552795   \n",
       "3                     Yes                     XNA       0.135182   \n",
       "4                     Yes  Business Entity Type 3       0.301182   \n",
       "\n",
       "  Score_Source_3 Phone_Change Credit_Bureau Default  \n",
       "0            NaN         63.0           NaN       0  \n",
       "1            NaN          NaN           NaN       0  \n",
       "2       0.329655        277.0           0.0       0  \n",
       "3       0.631355       1700.0           3.0       0  \n",
       "4       0.355639        674.0           1.0       0  \n",
       "\n",
       "[5 rows x 37 columns]"
      ]
     },
     "execution_count": 52,
     "metadata": {},
     "output_type": "execute_result"
    }
   ],
   "source": [
    "train_set.head()"
   ]
  },
  {
   "cell_type": "code",
   "execution_count": 53,
   "metadata": {},
   "outputs": [
    {
     "data": {
      "text/plain": [
       "0.035792    4159\n",
       "0.04622     3444\n",
       "0.030755    3116\n",
       "0.025164    3017\n",
       "0.026392    2967\n",
       "            ... \n",
       "0.000938       9\n",
       "0.000533       6\n",
       "0.000938       3\n",
       "100            1\n",
       "100.0          1\n",
       "Name: Population_Region_Relative, Length: 162, dtype: int64"
      ]
     },
     "execution_count": 53,
     "metadata": {},
     "output_type": "execute_result"
    }
   ],
   "source": [
    "train_set['Population_Region_Relative'].value_counts()"
   ]
  },
  {
   "cell_type": "code",
   "execution_count": 54,
   "metadata": {},
   "outputs": [
    {
     "data": {
      "text/plain": [
       "Laborers              21022\n",
       "Sales                 12136\n",
       "Core                  10610\n",
       "Managers               8097\n",
       "Drivers                7150\n",
       "High skill tech        4316\n",
       "Accountants            3766\n",
       "Medicine               3171\n",
       "Security               2683\n",
       "Cooking                2224\n",
       "Cleaning               1722\n",
       "Private service        1006\n",
       "Low-skill Laborers      787\n",
       "Secretaries             531\n",
       "Waiters/barmen          511\n",
       "Realty agents           280\n",
       "HR                      206\n",
       "IT                      196\n",
       "Name: Client_Occupation, dtype: int64"
      ]
     },
     "execution_count": 54,
     "metadata": {},
     "output_type": "execute_result"
    }
   ],
   "source": [
    "train_set['Client_Occupation'].value_counts()"
   ]
  },
  {
   "cell_type": "code",
   "execution_count": 55,
   "metadata": {},
   "outputs": [],
   "source": [
    "train_set = train_set[train_set['Client_Gender']!='XNA']"
   ]
  },
  {
   "cell_type": "code",
   "execution_count": 56,
   "metadata": {},
   "outputs": [
    {
     "data": {
      "text/plain": [
       "ID                                0\n",
       "Client_Income                  3607\n",
       "Car_Owned                         0\n",
       "Bike_Owned                        0\n",
       "Active_Loan                       0\n",
       "House_Own                         0\n",
       "Child_Count                       0\n",
       "Credit_Amount                     0\n",
       "Loan_Annuity                      0\n",
       "Accompany_Client                  0\n",
       "Client_Income_Type                0\n",
       "Client_Education                  0\n",
       "Client_Marital_Status             0\n",
       "Client_Gender                     0\n",
       "Loan_Contract_Type                0\n",
       "Client_Housing_Type               0\n",
       "Population_Region_Relative     4856\n",
       "Age_Days                       3600\n",
       "Employed_Days                  3649\n",
       "Registration_Days              3614\n",
       "ID_Days                        5968\n",
       "Mobile_Tag                        0\n",
       "Homephone_Tag                     0\n",
       "Workphone_Working                 0\n",
       "Client_Occupation             41430\n",
       "Client_Family_Members          2410\n",
       "Cleint_City_Rating             2408\n",
       "Application_Process_Day        2428\n",
       "Application_Process_Hour       3662\n",
       "Client_Permanent_Match_Tag        0\n",
       "Client_Contact_Work_Tag           0\n",
       "Type_Organization              3609\n",
       "Score_Source_2                 5686\n",
       "Score_Source_3                26919\n",
       "Phone_Change                   3663\n",
       "Credit_Bureau                 18539\n",
       "Default                           0\n",
       "dtype: int64"
      ]
     },
     "execution_count": 56,
     "metadata": {},
     "output_type": "execute_result"
    }
   ],
   "source": [
    "train_set.isnull().sum()"
   ]
  },
  {
   "cell_type": "code",
   "execution_count": 57,
   "metadata": {},
   "outputs": [],
   "source": [
    "train_set['Age_Days']=train_set['Age_Days'].replace('x',np.nan)"
   ]
  },
  {
   "cell_type": "code",
   "execution_count": 58,
   "metadata": {},
   "outputs": [],
   "source": [
    "train_set['Age_Days']= train_set['Age_Days'].astype('float')"
   ]
  },
  {
   "cell_type": "code",
   "execution_count": 59,
   "metadata": {},
   "outputs": [],
   "source": [
    "train_set['Age_Days']= train_set['Age_Days'].fillna(train_set['Age_Days'].mean())"
   ]
  },
  {
   "cell_type": "code",
   "execution_count": 60,
   "metadata": {},
   "outputs": [],
   "source": [
    "train_set['Employed_Days']=train_set['Employed_Days'].replace('x',np.nan)\n",
    "train_set['Employed_Days']= train_set['Employed_Days'].astype('float')\n",
    "train_set['Employed_Days']= train_set['Employed_Days'].fillna(train_set['Employed_Days'].mean())"
   ]
  },
  {
   "cell_type": "code",
   "execution_count": 61,
   "metadata": {},
   "outputs": [],
   "source": [
    "train_set['Registration_Days']=train_set['Registration_Days'].replace('x',np.nan)\n",
    "train_set['Registration_Days']= train_set['Registration_Days'].astype('float')\n",
    "train_set['Registration_Days']= train_set['Registration_Days'].fillna(train_set['Registration_Days'].mean())"
   ]
  },
  {
   "cell_type": "code",
   "execution_count": 62,
   "metadata": {},
   "outputs": [],
   "source": [
    "train_set['ID_Days']=train_set['ID_Days'].replace('x',np.nan)\n",
    "train_set['ID_Days']= train_set['ID_Days'].astype('float')\n",
    "train_set['ID_Days']= train_set['ID_Days'].fillna(train_set['ID_Days'].mean())"
   ]
  },
  {
   "cell_type": "code",
   "execution_count": 63,
   "metadata": {},
   "outputs": [],
   "source": [
    "train_set['Client_Family_Members']=train_set['Client_Family_Members'].fillna(train_set['Client_Family_Members'].mean())"
   ]
  },
  {
   "cell_type": "code",
   "execution_count": 64,
   "metadata": {},
   "outputs": [],
   "source": [
    "train_set['Cleint_City_Rating']=train_set['Cleint_City_Rating'].astype('str')"
   ]
  },
  {
   "cell_type": "code",
   "execution_count": 65,
   "metadata": {},
   "outputs": [
    {
     "data": {
      "text/html": [
       "<div>\n",
       "<style scoped>\n",
       "    .dataframe tbody tr th:only-of-type {\n",
       "        vertical-align: middle;\n",
       "    }\n",
       "\n",
       "    .dataframe tbody tr th {\n",
       "        vertical-align: top;\n",
       "    }\n",
       "\n",
       "    .dataframe thead th {\n",
       "        text-align: right;\n",
       "    }\n",
       "</style>\n",
       "<table border=\"1\" class=\"dataframe\">\n",
       "  <thead>\n",
       "    <tr style=\"text-align: right;\">\n",
       "      <th></th>\n",
       "      <th>ID</th>\n",
       "      <th>Client_Income</th>\n",
       "      <th>Car_Owned</th>\n",
       "      <th>Bike_Owned</th>\n",
       "      <th>Active_Loan</th>\n",
       "      <th>House_Own</th>\n",
       "      <th>Child_Count</th>\n",
       "      <th>Credit_Amount</th>\n",
       "      <th>Loan_Annuity</th>\n",
       "      <th>Accompany_Client</th>\n",
       "      <th>...</th>\n",
       "      <th>Application_Process_Day</th>\n",
       "      <th>Application_Process_Hour</th>\n",
       "      <th>Client_Permanent_Match_Tag</th>\n",
       "      <th>Client_Contact_Work_Tag</th>\n",
       "      <th>Type_Organization</th>\n",
       "      <th>Score_Source_2</th>\n",
       "      <th>Score_Source_3</th>\n",
       "      <th>Phone_Change</th>\n",
       "      <th>Credit_Bureau</th>\n",
       "      <th>Default</th>\n",
       "    </tr>\n",
       "  </thead>\n",
       "  <tbody>\n",
       "  </tbody>\n",
       "</table>\n",
       "<p>0 rows × 37 columns</p>\n",
       "</div>"
      ],
      "text/plain": [
       "Empty DataFrame\n",
       "Columns: [ID, Client_Income, Car_Owned, Bike_Owned, Active_Loan, House_Own, Child_Count, Credit_Amount, Loan_Annuity, Accompany_Client, Client_Income_Type, Client_Education, Client_Marital_Status, Client_Gender, Loan_Contract_Type, Client_Housing_Type, Population_Region_Relative, Age_Days, Employed_Days, Registration_Days, ID_Days, Mobile_Tag, Homephone_Tag, Workphone_Working, Client_Occupation, Client_Family_Members, Cleint_City_Rating, Application_Process_Day, Application_Process_Hour, Client_Permanent_Match_Tag, Client_Contact_Work_Tag, Type_Organization, Score_Source_2, Score_Source_3, Phone_Change, Credit_Bureau, Default]\n",
       "Index: []\n",
       "\n",
       "[0 rows x 37 columns]"
      ]
     },
     "execution_count": 65,
     "metadata": {},
     "output_type": "execute_result"
    }
   ],
   "source": [
    "train_set[train_set['Cleint_City_Rating']=='NaN']"
   ]
  },
  {
   "cell_type": "code",
   "execution_count": 66,
   "metadata": {},
   "outputs": [],
   "source": [
    "train_set['Cleint_City_Rating']=train_set['Cleint_City_Rating'].replace(np.nan,'0.0')"
   ]
  },
  {
   "cell_type": "code",
   "execution_count": 67,
   "metadata": {},
   "outputs": [],
   "source": [
    "train_set['Cleint_City_Rating']=train_set['Cleint_City_Rating'].apply(lambda x:x[0])"
   ]
  },
  {
   "cell_type": "code",
   "execution_count": 68,
   "metadata": {},
   "outputs": [],
   "source": [
    "train_set['Cleint_City_Rating']=train_set['Cleint_City_Rating'].replace('n','0.0')"
   ]
  },
  {
   "cell_type": "code",
   "execution_count": 69,
   "metadata": {},
   "outputs": [
    {
     "data": {
      "text/plain": [
       "0    2\n",
       "dtype: object"
      ]
     },
     "execution_count": 69,
     "metadata": {},
     "output_type": "execute_result"
    }
   ],
   "source": [
    "train_set['Cleint_City_Rating'].mode()"
   ]
  },
  {
   "cell_type": "code",
   "execution_count": 70,
   "metadata": {},
   "outputs": [
    {
     "data": {
      "text/plain": [
       "2      88937\n",
       "3      17042\n",
       "1      13455\n",
       "0.0     2408\n",
       "Name: Cleint_City_Rating, dtype: int64"
      ]
     },
     "execution_count": 70,
     "metadata": {},
     "output_type": "execute_result"
    }
   ],
   "source": [
    "train_set['Cleint_City_Rating'].value_counts()"
   ]
  },
  {
   "cell_type": "code",
   "execution_count": 71,
   "metadata": {},
   "outputs": [],
   "source": [
    "train_set['Cleint_City_Rating']=train_set['Cleint_City_Rating'].astype('str')"
   ]
  },
  {
   "cell_type": "code",
   "execution_count": 74,
   "metadata": {},
   "outputs": [],
   "source": [
    "train_set['Cleint_City_Rating']=train_set['Cleint_City_Rating'].replace('0.0','2')"
   ]
  },
  {
   "cell_type": "code",
   "execution_count": 75,
   "metadata": {},
   "outputs": [],
   "source": [
    "train_set['Cleint_City_Rating']=train_set['Cleint_City_Rating'].astype('int')"
   ]
  },
  {
   "cell_type": "code",
   "execution_count": 76,
   "metadata": {},
   "outputs": [],
   "source": [
    "train_set['Application_Process_Day']=train_set['Application_Process_Day'].fillna(train_set['Application_Process_Day'].mean())"
   ]
  },
  {
   "cell_type": "code",
   "execution_count": 77,
   "metadata": {},
   "outputs": [],
   "source": [
    "train_set['Application_Process_Hour']=train_set['Application_Process_Hour'].fillna(train_set['Application_Process_Hour'].mean())"
   ]
  },
  {
   "cell_type": "code",
   "execution_count": 78,
   "metadata": {},
   "outputs": [
    {
     "data": {
      "text/plain": [
       "Business Entity Type 3    26278\n",
       "XNA                       21082\n",
       "Self-employed             14724\n",
       "Other                      6290\n",
       "Medicine                   4317\n",
       "Business Entity Type 2     4126\n",
       "Government                 3970\n",
       "School                     3371\n",
       "Trade: type 7              2979\n",
       "Kindergarten               2685\n",
       "Construction               2623\n",
       "Business Entity Type 1     2313\n",
       "Transport: type 4          2076\n",
       "Trade: type 3              1338\n",
       "Security                   1284\n",
       "Industry: type 9           1280\n",
       "Industry: type 3           1234\n",
       "Housing                    1161\n",
       "Military                   1031\n",
       "Bank                       1012\n",
       "Agriculture                1011\n",
       "Industry: type 11           999\n",
       "Police                      934\n",
       "Postal                      834\n",
       "Transport: type 2           810\n",
       "Security Ministries         756\n",
       "Trade: type 2               717\n",
       "Restaurant                  710\n",
       "Services                    570\n",
       "University                  559\n",
       "Transport: type 3           501\n",
       "Industry: type 7            497\n",
       "Industry: type 1            401\n",
       "Hotel                       393\n",
       "Electricity                 366\n",
       "Industry: type 4            337\n",
       "Trade: type 6               249\n",
       "Industry: type 5            232\n",
       "Telecom                     224\n",
       "Insurance                   215\n",
       "Emergency                   207\n",
       "Industry: type 2            172\n",
       "Realtor                     156\n",
       "Industry: type 12           153\n",
       "Advertising                 152\n",
       "Trade: type 1               135\n",
       "Culture                     131\n",
       "Mobile                      122\n",
       "Legal Services              119\n",
       "Cleaning                    118\n",
       "Transport: type 1            77\n",
       "Industry: type 6             40\n",
       "Industry: type 10            40\n",
       "Religion                     37\n",
       "Industry: type 13            35\n",
       "Trade: type 4                28\n",
       "Trade: type 5                12\n",
       "Industry: type 8             10\n",
       "Name: Type_Organization, dtype: int64"
      ]
     },
     "execution_count": 78,
     "metadata": {},
     "output_type": "execute_result"
    }
   ],
   "source": [
    "train_set['Type_Organization'].value_counts()"
   ]
  },
  {
   "cell_type": "code",
   "execution_count": 79,
   "metadata": {},
   "outputs": [],
   "source": [
    "train_set= train_set.drop('Type_Organization',axis=1)"
   ]
  },
  {
   "cell_type": "code",
   "execution_count": 80,
   "metadata": {},
   "outputs": [],
   "source": [
    "train_set['Score_Source_2'] = train_set['Score_Source_2'].fillna(train_set['Score_Source_2'].mean())"
   ]
  },
  {
   "cell_type": "code",
   "execution_count": 81,
   "metadata": {},
   "outputs": [],
   "source": [
    "train_set['Score_Source_3'] = train_set['Score_Source_3'].fillna('0')"
   ]
  },
  {
   "cell_type": "code",
   "execution_count": 82,
   "metadata": {},
   "outputs": [],
   "source": [
    "train_set['Score_Source_3']=train_set['Score_Source_3'].replace('&','0')"
   ]
  },
  {
   "cell_type": "code",
   "execution_count": 83,
   "metadata": {},
   "outputs": [],
   "source": [
    "train_set['Score_Source_3']=train_set['Score_Source_3'].astype('float')"
   ]
  },
  {
   "cell_type": "code",
   "execution_count": 84,
   "metadata": {},
   "outputs": [
    {
     "data": {
      "text/plain": [
       "0.3982518379560469"
      ]
     },
     "execution_count": 84,
     "metadata": {},
     "output_type": "execute_result"
    }
   ],
   "source": [
    "train_set['Score_Source_3'].mean()"
   ]
  },
  {
   "cell_type": "code",
   "execution_count": 85,
   "metadata": {},
   "outputs": [],
   "source": [
    "train_set['Score_Source_3']=train_set['Score_Source_3'].astype('str')"
   ]
  },
  {
   "cell_type": "code",
   "execution_count": 86,
   "metadata": {},
   "outputs": [],
   "source": [
    "train_set['Score_Source_3']= train_set['Score_Source_3'].replace('0','0.39')"
   ]
  },
  {
   "cell_type": "code",
   "execution_count": 87,
   "metadata": {},
   "outputs": [],
   "source": [
    "train_set['Score_Source_3']=train_set['Score_Source_3'].astype('float')"
   ]
  },
  {
   "cell_type": "code",
   "execution_count": 88,
   "metadata": {},
   "outputs": [],
   "source": [
    "train_set['Phone_Change']=train_set['Phone_Change'].fillna(train_set['Phone_Change'].mean())"
   ]
  },
  {
   "cell_type": "code",
   "execution_count": 89,
   "metadata": {},
   "outputs": [],
   "source": [
    "train_set['Credit_Bureau']= train_set['Credit_Bureau'].fillna(train_set['Credit_Bureau'].mean())"
   ]
  },
  {
   "cell_type": "code",
   "execution_count": 90,
   "metadata": {},
   "outputs": [
    {
     "data": {
      "text/plain": [
       "0         13957.0\n",
       "1         14162.0\n",
       "2         16790.0\n",
       "3         23195.0\n",
       "4         11366.0\n",
       "           ...   \n",
       "121851    12889.0\n",
       "121852     8648.0\n",
       "121853     9152.0\n",
       "121854    10290.0\n",
       "121855    14772.0\n",
       "Name: Age_Days, Length: 121842, dtype: float64"
      ]
     },
     "execution_count": 90,
     "metadata": {},
     "output_type": "execute_result"
    }
   ],
   "source": [
    "train_set['Age_Days']"
   ]
  },
  {
   "cell_type": "code",
   "execution_count": 91,
   "metadata": {},
   "outputs": [],
   "source": [
    "train_set['Client_Income']=train_set['Client_Income'].replace('$','0')\n"
   ]
  },
  {
   "cell_type": "code",
   "execution_count": 92,
   "metadata": {},
   "outputs": [],
   "source": [
    "train_set['Client_Income']=train_set['Client_Income'].replace('0',np.nan)"
   ]
  },
  {
   "cell_type": "code",
   "execution_count": 93,
   "metadata": {},
   "outputs": [],
   "source": [
    "train_set['Client_Income']=train_set['Client_Income'].astype('float')"
   ]
  },
  {
   "cell_type": "code",
   "execution_count": 94,
   "metadata": {},
   "outputs": [],
   "source": [
    "train_set['Client_Income']=train_set['Client_Income'].fillna(train_set['Client_Income'].mean())"
   ]
  },
  {
   "cell_type": "code",
   "execution_count": 95,
   "metadata": {},
   "outputs": [
    {
     "data": {
      "text/plain": [
       "<matplotlib.collections.PathCollection at 0x299f3a30c08>"
      ]
     },
     "execution_count": 95,
     "metadata": {},
     "output_type": "execute_result"
    },
    {
     "data": {
      "image/png": "[encoded data removed]",
      "text/plain": [
       "<Figure size 432x288 with 1 Axes>"
      ]
     },
     "metadata": {
      "needs_background": "light"
     },
     "output_type": "display_data"
    }
   ],
   "source": [
    "plt.scatter(train_set['Age_Days'],train_set['Client_Income'])"
   ]
  },
  {
   "cell_type": "code",
   "execution_count": 96,
   "metadata": {},
   "outputs": [
    {
     "data": {
      "text/plain": [
       "<matplotlib.axes._subplots.AxesSubplot at 0x299f36eae48>"
      ]
     },
     "execution_count": 96,
     "metadata": {},
     "output_type": "execute_result"
    },
    {
     "data": {
      "image/png": "[encoded data removed]",
      "text/plain": [
       "<Figure size 1584x360 with 1 Axes>"
      ]
     },
     "metadata": {
      "needs_background": "light"
     },
     "output_type": "display_data"
    }
   ],
   "source": [
    "plt.figure(figsize=(22,5))\n",
    "sns.boxplot(train_set['Client_Occupation'],train_set['Age_Days'])"
   ]
  },
  {
   "cell_type": "code",
   "execution_count": 97,
   "metadata": {},
   "outputs": [],
   "source": [
    "train_set= train_set.drop(['Client_Occupation','Population_Region_Relative'],axis=1)"
   ]
  },
  {
   "cell_type": "code",
   "execution_count": 98,
   "metadata": {},
   "outputs": [
    {
     "data": {
      "text/html": [
       "<div>\n",
       "<style scoped>\n",
       "    .dataframe tbody tr th:only-of-type {\n",
       "        vertical-align: middle;\n",
       "    }\n",
       "\n",
       "    .dataframe tbody tr th {\n",
       "        vertical-align: top;\n",
       "    }\n",
       "\n",
       "    .dataframe thead th {\n",
       "        text-align: right;\n",
       "    }\n",
       "</style>\n",
       "<table border=\"1\" class=\"dataframe\">\n",
       "  <thead>\n",
       "    <tr style=\"text-align: right;\">\n",
       "      <th></th>\n",
       "      <th>ID</th>\n",
       "      <th>Client_Income</th>\n",
       "      <th>Car_Owned</th>\n",
       "      <th>Bike_Owned</th>\n",
       "      <th>Active_Loan</th>\n",
       "      <th>House_Own</th>\n",
       "      <th>Child_Count</th>\n",
       "      <th>Credit_Amount</th>\n",
       "      <th>Loan_Annuity</th>\n",
       "      <th>Accompany_Client</th>\n",
       "      <th>...</th>\n",
       "      <th>Cleint_City_Rating</th>\n",
       "      <th>Application_Process_Day</th>\n",
       "      <th>Application_Process_Hour</th>\n",
       "      <th>Client_Permanent_Match_Tag</th>\n",
       "      <th>Client_Contact_Work_Tag</th>\n",
       "      <th>Score_Source_2</th>\n",
       "      <th>Score_Source_3</th>\n",
       "      <th>Phone_Change</th>\n",
       "      <th>Credit_Bureau</th>\n",
       "      <th>Default</th>\n",
       "    </tr>\n",
       "  </thead>\n",
       "  <tbody>\n",
       "    <tr>\n",
       "      <th>0</th>\n",
       "      <td>12142509</td>\n",
       "      <td>6750.0</td>\n",
       "      <td>0</td>\n",
       "      <td>0</td>\n",
       "      <td>1</td>\n",
       "      <td>0</td>\n",
       "      <td>0</td>\n",
       "      <td>61190.55</td>\n",
       "      <td>3416.85</td>\n",
       "      <td>Alone</td>\n",
       "      <td>...</td>\n",
       "      <td>2</td>\n",
       "      <td>6.0</td>\n",
       "      <td>17.000000</td>\n",
       "      <td>Yes</td>\n",
       "      <td>Yes</td>\n",
       "      <td>0.478787</td>\n",
       "      <td>0.000000</td>\n",
       "      <td>63.000000</td>\n",
       "      <td>1.891078</td>\n",
       "      <td>0</td>\n",
       "    </tr>\n",
       "    <tr>\n",
       "      <th>1</th>\n",
       "      <td>12138936</td>\n",
       "      <td>20250.0</td>\n",
       "      <td>1</td>\n",
       "      <td>0</td>\n",
       "      <td>1</td>\n",
       "      <td>0</td>\n",
       "      <td>0</td>\n",
       "      <td>15282.00</td>\n",
       "      <td>1826.55</td>\n",
       "      <td>Alone</td>\n",
       "      <td>...</td>\n",
       "      <td>2</td>\n",
       "      <td>3.0</td>\n",
       "      <td>10.000000</td>\n",
       "      <td>Yes</td>\n",
       "      <td>Yes</td>\n",
       "      <td>0.215068</td>\n",
       "      <td>0.000000</td>\n",
       "      <td>962.152007</td>\n",
       "      <td>1.891078</td>\n",
       "      <td>0</td>\n",
       "    </tr>\n",
       "    <tr>\n",
       "      <th>2</th>\n",
       "      <td>12181264</td>\n",
       "      <td>18000.0</td>\n",
       "      <td>0</td>\n",
       "      <td>0</td>\n",
       "      <td>1</td>\n",
       "      <td>0</td>\n",
       "      <td>1</td>\n",
       "      <td>59527.35</td>\n",
       "      <td>2788.20</td>\n",
       "      <td>Alone</td>\n",
       "      <td>...</td>\n",
       "      <td>2</td>\n",
       "      <td>4.0</td>\n",
       "      <td>12.063099</td>\n",
       "      <td>Yes</td>\n",
       "      <td>Yes</td>\n",
       "      <td>0.552795</td>\n",
       "      <td>0.329655</td>\n",
       "      <td>277.000000</td>\n",
       "      <td>0.000000</td>\n",
       "      <td>0</td>\n",
       "    </tr>\n",
       "    <tr>\n",
       "      <th>3</th>\n",
       "      <td>12188929</td>\n",
       "      <td>15750.0</td>\n",
       "      <td>0</td>\n",
       "      <td>0</td>\n",
       "      <td>1</td>\n",
       "      <td>1</td>\n",
       "      <td>0</td>\n",
       "      <td>53870.40</td>\n",
       "      <td>2295.45</td>\n",
       "      <td>Alone</td>\n",
       "      <td>...</td>\n",
       "      <td>3</td>\n",
       "      <td>2.0</td>\n",
       "      <td>15.000000</td>\n",
       "      <td>Yes</td>\n",
       "      <td>Yes</td>\n",
       "      <td>0.135182</td>\n",
       "      <td>0.631355</td>\n",
       "      <td>1700.000000</td>\n",
       "      <td>3.000000</td>\n",
       "      <td>0</td>\n",
       "    </tr>\n",
       "    <tr>\n",
       "      <th>4</th>\n",
       "      <td>12133385</td>\n",
       "      <td>33750.0</td>\n",
       "      <td>1</td>\n",
       "      <td>0</td>\n",
       "      <td>1</td>\n",
       "      <td>0</td>\n",
       "      <td>2</td>\n",
       "      <td>133988.40</td>\n",
       "      <td>3547.35</td>\n",
       "      <td>Alone</td>\n",
       "      <td>...</td>\n",
       "      <td>1</td>\n",
       "      <td>3.0</td>\n",
       "      <td>12.063099</td>\n",
       "      <td>Yes</td>\n",
       "      <td>Yes</td>\n",
       "      <td>0.301182</td>\n",
       "      <td>0.355639</td>\n",
       "      <td>674.000000</td>\n",
       "      <td>1.000000</td>\n",
       "      <td>0</td>\n",
       "    </tr>\n",
       "    <tr>\n",
       "      <th>...</th>\n",
       "      <td>...</td>\n",
       "      <td>...</td>\n",
       "      <td>...</td>\n",
       "      <td>...</td>\n",
       "      <td>...</td>\n",
       "      <td>...</td>\n",
       "      <td>...</td>\n",
       "      <td>...</td>\n",
       "      <td>...</td>\n",
       "      <td>...</td>\n",
       "      <td>...</td>\n",
       "      <td>...</td>\n",
       "      <td>...</td>\n",
       "      <td>...</td>\n",
       "      <td>...</td>\n",
       "      <td>...</td>\n",
       "      <td>...</td>\n",
       "      <td>...</td>\n",
       "      <td>...</td>\n",
       "      <td>...</td>\n",
       "      <td>...</td>\n",
       "    </tr>\n",
       "    <tr>\n",
       "      <th>121851</th>\n",
       "      <td>12207714</td>\n",
       "      <td>29250.0</td>\n",
       "      <td>0</td>\n",
       "      <td>0</td>\n",
       "      <td>0</td>\n",
       "      <td>1</td>\n",
       "      <td>0</td>\n",
       "      <td>107820.00</td>\n",
       "      <td>3165.30</td>\n",
       "      <td>Relative</td>\n",
       "      <td>...</td>\n",
       "      <td>2</td>\n",
       "      <td>4.0</td>\n",
       "      <td>16.000000</td>\n",
       "      <td>Yes</td>\n",
       "      <td>No</td>\n",
       "      <td>0.173527</td>\n",
       "      <td>0.184116</td>\n",
       "      <td>0.000000</td>\n",
       "      <td>1.000000</td>\n",
       "      <td>1</td>\n",
       "    </tr>\n",
       "    <tr>\n",
       "      <th>121852</th>\n",
       "      <td>12173765</td>\n",
       "      <td>15750.0</td>\n",
       "      <td>0</td>\n",
       "      <td>1</td>\n",
       "      <td>1</td>\n",
       "      <td>0</td>\n",
       "      <td>0</td>\n",
       "      <td>104256.00</td>\n",
       "      <td>3388.05</td>\n",
       "      <td>Alone</td>\n",
       "      <td>...</td>\n",
       "      <td>3</td>\n",
       "      <td>4.0</td>\n",
       "      <td>12.000000</td>\n",
       "      <td>Yes</td>\n",
       "      <td>Yes</td>\n",
       "      <td>0.371559</td>\n",
       "      <td>0.406617</td>\n",
       "      <td>4.000000</td>\n",
       "      <td>0.000000</td>\n",
       "      <td>0</td>\n",
       "    </tr>\n",
       "    <tr>\n",
       "      <th>121853</th>\n",
       "      <td>12103937</td>\n",
       "      <td>8100.0</td>\n",
       "      <td>0</td>\n",
       "      <td>1</td>\n",
       "      <td>0</td>\n",
       "      <td>1</td>\n",
       "      <td>1</td>\n",
       "      <td>55107.90</td>\n",
       "      <td>2989.35</td>\n",
       "      <td>Alone</td>\n",
       "      <td>...</td>\n",
       "      <td>3</td>\n",
       "      <td>5.0</td>\n",
       "      <td>11.000000</td>\n",
       "      <td>No</td>\n",
       "      <td>No</td>\n",
       "      <td>0.048079</td>\n",
       "      <td>0.000000</td>\n",
       "      <td>0.000000</td>\n",
       "      <td>1.891078</td>\n",
       "      <td>0</td>\n",
       "    </tr>\n",
       "    <tr>\n",
       "      <th>121854</th>\n",
       "      <td>12170623</td>\n",
       "      <td>38250.0</td>\n",
       "      <td>1</td>\n",
       "      <td>1</td>\n",
       "      <td>0</td>\n",
       "      <td>1</td>\n",
       "      <td>0</td>\n",
       "      <td>45000.00</td>\n",
       "      <td>2719.35</td>\n",
       "      <td>Alone</td>\n",
       "      <td>...</td>\n",
       "      <td>2</td>\n",
       "      <td>1.0</td>\n",
       "      <td>12.000000</td>\n",
       "      <td>Yes</td>\n",
       "      <td>Yes</td>\n",
       "      <td>0.103538</td>\n",
       "      <td>0.077499</td>\n",
       "      <td>0.000000</td>\n",
       "      <td>2.000000</td>\n",
       "      <td>0</td>\n",
       "    </tr>\n",
       "    <tr>\n",
       "      <th>121855</th>\n",
       "      <td>12105610</td>\n",
       "      <td>9000.0</td>\n",
       "      <td>1</td>\n",
       "      <td>1</td>\n",
       "      <td>1</td>\n",
       "      <td>1</td>\n",
       "      <td>1</td>\n",
       "      <td>62428.95</td>\n",
       "      <td>4201.65</td>\n",
       "      <td>Alone</td>\n",
       "      <td>...</td>\n",
       "      <td>3</td>\n",
       "      <td>4.0</td>\n",
       "      <td>6.000000</td>\n",
       "      <td>Yes</td>\n",
       "      <td>Yes</td>\n",
       "      <td>0.556414</td>\n",
       "      <td>0.298595</td>\n",
       "      <td>805.000000</td>\n",
       "      <td>0.000000</td>\n",
       "      <td>0</td>\n",
       "    </tr>\n",
       "  </tbody>\n",
       "</table>\n",
       "<p>121842 rows × 34 columns</p>\n",
       "</div>"
      ],
      "text/plain": [
       "              ID  Client_Income Car_Owned Bike_Owned Active_Loan House_Own  \\\n",
       "0       12142509         6750.0         0          0           1         0   \n",
       "1       12138936        20250.0         1          0           1         0   \n",
       "2       12181264        18000.0         0          0           1         0   \n",
       "3       12188929        15750.0         0          0           1         1   \n",
       "4       12133385        33750.0         1          0           1         0   \n",
       "...          ...            ...       ...        ...         ...       ...   \n",
       "121851  12207714        29250.0         0          0           0         1   \n",
       "121852  12173765        15750.0         0          1           1         0   \n",
       "121853  12103937         8100.0         0          1           0         1   \n",
       "121854  12170623        38250.0         1          1           0         1   \n",
       "121855  12105610         9000.0         1          1           1         1   \n",
       "\n",
       "       Child_Count  Credit_Amount  Loan_Annuity Accompany_Client  ...  \\\n",
       "0                0       61190.55       3416.85            Alone  ...   \n",
       "1                0       15282.00       1826.55            Alone  ...   \n",
       "2                1       59527.35       2788.20            Alone  ...   \n",
       "3                0       53870.40       2295.45            Alone  ...   \n",
       "4                2      133988.40       3547.35            Alone  ...   \n",
       "...            ...            ...           ...              ...  ...   \n",
       "121851           0      107820.00       3165.30         Relative  ...   \n",
       "121852           0      104256.00       3388.05            Alone  ...   \n",
       "121853           1       55107.90       2989.35            Alone  ...   \n",
       "121854           0       45000.00       2719.35            Alone  ...   \n",
       "121855           1       62428.95       4201.65            Alone  ...   \n",
       "\n",
       "       Cleint_City_Rating Application_Process_Day Application_Process_Hour  \\\n",
       "0                       2                     6.0                17.000000   \n",
       "1                       2                     3.0                10.000000   \n",
       "2                       2                     4.0                12.063099   \n",
       "3                       3                     2.0                15.000000   \n",
       "4                       1                     3.0                12.063099   \n",
       "...                   ...                     ...                      ...   \n",
       "121851                  2                     4.0                16.000000   \n",
       "121852                  3                     4.0                12.000000   \n",
       "121853                  3                     5.0                11.000000   \n",
       "121854                  2                     1.0                12.000000   \n",
       "121855                  3                     4.0                 6.000000   \n",
       "\n",
       "       Client_Permanent_Match_Tag Client_Contact_Work_Tag Score_Source_2  \\\n",
       "0                             Yes                     Yes       0.478787   \n",
       "1                             Yes                     Yes       0.215068   \n",
       "2                             Yes                     Yes       0.552795   \n",
       "3                             Yes                     Yes       0.135182   \n",
       "4                             Yes                     Yes       0.301182   \n",
       "...                           ...                     ...            ...   \n",
       "121851                        Yes                      No       0.173527   \n",
       "121852                        Yes                     Yes       0.371559   \n",
       "121853                         No                      No       0.048079   \n",
       "121854                        Yes                     Yes       0.103538   \n",
       "121855                        Yes                     Yes       0.556414   \n",
       "\n",
       "        Score_Source_3  Phone_Change  Credit_Bureau  Default  \n",
       "0             0.000000     63.000000       1.891078        0  \n",
       "1             0.000000    962.152007       1.891078        0  \n",
       "2             0.329655    277.000000       0.000000        0  \n",
       "3             0.631355   1700.000000       3.000000        0  \n",
       "4             0.355639    674.000000       1.000000        0  \n",
       "...                ...           ...            ...      ...  \n",
       "121851        0.184116      0.000000       1.000000        1  \n",
       "121852        0.406617      4.000000       0.000000        0  \n",
       "121853        0.000000      0.000000       1.891078        0  \n",
       "121854        0.077499      0.000000       2.000000        0  \n",
       "121855        0.298595    805.000000       0.000000        0  \n",
       "\n",
       "[121842 rows x 34 columns]"
      ]
     },
     "execution_count": 98,
     "metadata": {},
     "output_type": "execute_result"
    }
   ],
   "source": [
    "train_set"
   ]
  },
  {
   "cell_type": "code",
   "execution_count": 99,
   "metadata": {},
   "outputs": [
    {
     "name": "stdout",
     "output_type": "stream",
     "text": [
      "<class 'pandas.core.frame.DataFrame'>\n",
      "Int64Index: 121842 entries, 0 to 121855\n",
      "Data columns (total 34 columns):\n",
      " #   Column                      Non-Null Count   Dtype  \n",
      "---  ------                      --------------   -----  \n",
      " 0   ID                          121842 non-null  int64  \n",
      " 1   Client_Income               121842 non-null  float64\n",
      " 2   Car_Owned                   121842 non-null  object \n",
      " 3   Bike_Owned                  121842 non-null  object \n",
      " 4   Active_Loan                 121842 non-null  object \n",
      " 5   House_Own                   121842 non-null  object \n",
      " 6   Child_Count                 121842 non-null  object \n",
      " 7   Credit_Amount               121842 non-null  float64\n",
      " 8   Loan_Annuity                121842 non-null  float64\n",
      " 9   Accompany_Client            121842 non-null  object \n",
      " 10  Client_Income_Type          121842 non-null  object \n",
      " 11  Client_Education            121842 non-null  object \n",
      " 12  Client_Marital_Status       121842 non-null  object \n",
      " 13  Client_Gender               121842 non-null  object \n",
      " 14  Loan_Contract_Type          121842 non-null  object \n",
      " 15  Client_Housing_Type         121842 non-null  object \n",
      " 16  Age_Days                    121842 non-null  float64\n",
      " 17  Employed_Days               121842 non-null  float64\n",
      " 18  Registration_Days           121842 non-null  float64\n",
      " 19  ID_Days                     121842 non-null  float64\n",
      " 20  Mobile_Tag                  121842 non-null  int64  \n",
      " 21  Homephone_Tag               121842 non-null  int64  \n",
      " 22  Workphone_Working           121842 non-null  int64  \n",
      " 23  Client_Family_Members       121842 non-null  float64\n",
      " 24  Cleint_City_Rating          121842 non-null  int32  \n",
      " 25  Application_Process_Day     121842 non-null  float64\n",
      " 26  Application_Process_Hour    121842 non-null  float64\n",
      " 27  Client_Permanent_Match_Tag  121842 non-null  object \n",
      " 28  Client_Contact_Work_Tag     121842 non-null  object \n",
      " 29  Score_Source_2              121842 non-null  float64\n",
      " 30  Score_Source_3              121842 non-null  float64\n",
      " 31  Phone_Change                121842 non-null  float64\n",
      " 32  Credit_Bureau               121842 non-null  float64\n",
      " 33  Default                     121842 non-null  int64  \n",
      "dtypes: float64(14), int32(1), int64(5), object(14)\n",
      "memory usage: 37.1+ MB\n"
     ]
    }
   ],
   "source": [
    "train_set.info()"
   ]
  },
  {
   "cell_type": "code",
   "execution_count": 100,
   "metadata": {},
   "outputs": [],
   "source": [
    "train_set[['Car_Owned','Bike_Owned','Active_Loan','House_Own','Child_Count']]=train_set[['Car_Owned','Bike_Owned','Active_Loan','House_Own','Child_Count']].astype('int')"
   ]
  },
  {
   "cell_type": "code",
   "execution_count": 101,
   "metadata": {},
   "outputs": [
    {
     "data": {
      "text/plain": [
       "0    111997\n",
       "1      9845\n",
       "Name: Default, dtype: int64"
      ]
     },
     "execution_count": 101,
     "metadata": {},
     "output_type": "execute_result"
    }
   ],
   "source": [
    "train_set['Default'].value_counts()"
   ]
  },
  {
   "cell_type": "code",
   "execution_count": 102,
   "metadata": {},
   "outputs": [],
   "source": [
    "from sklearn.linear_model import LogisticRegression\n",
    "lr= LogisticRegression()"
   ]
  },
  {
   "cell_type": "code",
   "execution_count": 103,
   "metadata": {},
   "outputs": [],
   "source": [
    "df1= pd.get_dummies(train_set,drop_first=True)"
   ]
  },
  {
   "cell_type": "code",
   "execution_count": 104,
   "metadata": {},
   "outputs": [
    {
     "data": {
      "text/html": [
       "<div>\n",
       "<style scoped>\n",
       "    .dataframe tbody tr th:only-of-type {\n",
       "        vertical-align: middle;\n",
       "    }\n",
       "\n",
       "    .dataframe tbody tr th {\n",
       "        vertical-align: top;\n",
       "    }\n",
       "\n",
       "    .dataframe thead th {\n",
       "        text-align: right;\n",
       "    }\n",
       "</style>\n",
       "<table border=\"1\" class=\"dataframe\">\n",
       "  <thead>\n",
       "    <tr style=\"text-align: right;\">\n",
       "      <th></th>\n",
       "      <th>ID</th>\n",
       "      <th>Client_Income</th>\n",
       "      <th>Car_Owned</th>\n",
       "      <th>Bike_Owned</th>\n",
       "      <th>Active_Loan</th>\n",
       "      <th>House_Own</th>\n",
       "      <th>Child_Count</th>\n",
       "      <th>Credit_Amount</th>\n",
       "      <th>Loan_Annuity</th>\n",
       "      <th>Age_Days</th>\n",
       "      <th>...</th>\n",
       "      <th>Loan_Contract_Type_RL</th>\n",
       "      <th>Loan_Contract_Type_nan</th>\n",
       "      <th>Client_Housing_Type_Home</th>\n",
       "      <th>Client_Housing_Type_Municipal</th>\n",
       "      <th>Client_Housing_Type_Office</th>\n",
       "      <th>Client_Housing_Type_Rental</th>\n",
       "      <th>Client_Housing_Type_Shared</th>\n",
       "      <th>Client_Housing_Type_nan</th>\n",
       "      <th>Client_Permanent_Match_Tag_Yes</th>\n",
       "      <th>Client_Contact_Work_Tag_Yes</th>\n",
       "    </tr>\n",
       "  </thead>\n",
       "  <tbody>\n",
       "    <tr>\n",
       "      <th>0</th>\n",
       "      <td>12142509</td>\n",
       "      <td>6750.0</td>\n",
       "      <td>0</td>\n",
       "      <td>0</td>\n",
       "      <td>1</td>\n",
       "      <td>0</td>\n",
       "      <td>0</td>\n",
       "      <td>61190.55</td>\n",
       "      <td>3416.85</td>\n",
       "      <td>13957.0</td>\n",
       "      <td>...</td>\n",
       "      <td>0</td>\n",
       "      <td>0</td>\n",
       "      <td>1</td>\n",
       "      <td>0</td>\n",
       "      <td>0</td>\n",
       "      <td>0</td>\n",
       "      <td>0</td>\n",
       "      <td>0</td>\n",
       "      <td>1</td>\n",
       "      <td>1</td>\n",
       "    </tr>\n",
       "    <tr>\n",
       "      <th>1</th>\n",
       "      <td>12138936</td>\n",
       "      <td>20250.0</td>\n",
       "      <td>1</td>\n",
       "      <td>0</td>\n",
       "      <td>1</td>\n",
       "      <td>0</td>\n",
       "      <td>0</td>\n",
       "      <td>15282.00</td>\n",
       "      <td>1826.55</td>\n",
       "      <td>14162.0</td>\n",
       "      <td>...</td>\n",
       "      <td>0</td>\n",
       "      <td>0</td>\n",
       "      <td>1</td>\n",
       "      <td>0</td>\n",
       "      <td>0</td>\n",
       "      <td>0</td>\n",
       "      <td>0</td>\n",
       "      <td>0</td>\n",
       "      <td>1</td>\n",
       "      <td>1</td>\n",
       "    </tr>\n",
       "    <tr>\n",
       "      <th>2</th>\n",
       "      <td>12181264</td>\n",
       "      <td>18000.0</td>\n",
       "      <td>0</td>\n",
       "      <td>0</td>\n",
       "      <td>1</td>\n",
       "      <td>0</td>\n",
       "      <td>1</td>\n",
       "      <td>59527.35</td>\n",
       "      <td>2788.20</td>\n",
       "      <td>16790.0</td>\n",
       "      <td>...</td>\n",
       "      <td>0</td>\n",
       "      <td>0</td>\n",
       "      <td>0</td>\n",
       "      <td>0</td>\n",
       "      <td>0</td>\n",
       "      <td>0</td>\n",
       "      <td>0</td>\n",
       "      <td>0</td>\n",
       "      <td>1</td>\n",
       "      <td>1</td>\n",
       "    </tr>\n",
       "    <tr>\n",
       "      <th>3</th>\n",
       "      <td>12188929</td>\n",
       "      <td>15750.0</td>\n",
       "      <td>0</td>\n",
       "      <td>0</td>\n",
       "      <td>1</td>\n",
       "      <td>1</td>\n",
       "      <td>0</td>\n",
       "      <td>53870.40</td>\n",
       "      <td>2295.45</td>\n",
       "      <td>23195.0</td>\n",
       "      <td>...</td>\n",
       "      <td>0</td>\n",
       "      <td>0</td>\n",
       "      <td>1</td>\n",
       "      <td>0</td>\n",
       "      <td>0</td>\n",
       "      <td>0</td>\n",
       "      <td>0</td>\n",
       "      <td>0</td>\n",
       "      <td>1</td>\n",
       "      <td>1</td>\n",
       "    </tr>\n",
       "    <tr>\n",
       "      <th>4</th>\n",
       "      <td>12133385</td>\n",
       "      <td>33750.0</td>\n",
       "      <td>1</td>\n",
       "      <td>0</td>\n",
       "      <td>1</td>\n",
       "      <td>0</td>\n",
       "      <td>2</td>\n",
       "      <td>133988.40</td>\n",
       "      <td>3547.35</td>\n",
       "      <td>11366.0</td>\n",
       "      <td>...</td>\n",
       "      <td>0</td>\n",
       "      <td>0</td>\n",
       "      <td>1</td>\n",
       "      <td>0</td>\n",
       "      <td>0</td>\n",
       "      <td>0</td>\n",
       "      <td>0</td>\n",
       "      <td>0</td>\n",
       "      <td>1</td>\n",
       "      <td>1</td>\n",
       "    </tr>\n",
       "  </tbody>\n",
       "</table>\n",
       "<p>5 rows × 60 columns</p>\n",
       "</div>"
      ],
      "text/plain": [
       "         ID  Client_Income  Car_Owned  Bike_Owned  Active_Loan  House_Own  \\\n",
       "0  12142509         6750.0          0           0            1          0   \n",
       "1  12138936        20250.0          1           0            1          0   \n",
       "2  12181264        18000.0          0           0            1          0   \n",
       "3  12188929        15750.0          0           0            1          1   \n",
       "4  12133385        33750.0          1           0            1          0   \n",
       "\n",
       "   Child_Count  Credit_Amount  Loan_Annuity  Age_Days  ...  \\\n",
       "0            0       61190.55       3416.85   13957.0  ...   \n",
       "1            0       15282.00       1826.55   14162.0  ...   \n",
       "2            1       59527.35       2788.20   16790.0  ...   \n",
       "3            0       53870.40       2295.45   23195.0  ...   \n",
       "4            2      133988.40       3547.35   11366.0  ...   \n",
       "\n",
       "   Loan_Contract_Type_RL  Loan_Contract_Type_nan  Client_Housing_Type_Home  \\\n",
       "0                      0                       0                         1   \n",
       "1                      0                       0                         1   \n",
       "2                      0                       0                         0   \n",
       "3                      0                       0                         1   \n",
       "4                      0                       0                         1   \n",
       "\n",
       "   Client_Housing_Type_Municipal  Client_Housing_Type_Office  \\\n",
       "0                              0                           0   \n",
       "1                              0                           0   \n",
       "2                              0                           0   \n",
       "3                              0                           0   \n",
       "4                              0                           0   \n",
       "\n",
       "   Client_Housing_Type_Rental  Client_Housing_Type_Shared  \\\n",
       "0                           0                           0   \n",
       "1                           0                           0   \n",
       "2                           0                           0   \n",
       "3                           0                           0   \n",
       "4                           0                           0   \n",
       "\n",
       "   Client_Housing_Type_nan  Client_Permanent_Match_Tag_Yes  \\\n",
       "0                        0                               1   \n",
       "1                        0                               1   \n",
       "2                        0                               1   \n",
       "3                        0                               1   \n",
       "4                        0                               1   \n",
       "\n",
       "   Client_Contact_Work_Tag_Yes  \n",
       "0                            1  \n",
       "1                            1  \n",
       "2                            1  \n",
       "3                            1  \n",
       "4                            1  \n",
       "\n",
       "[5 rows x 60 columns]"
      ]
     },
     "execution_count": 104,
     "metadata": {},
     "output_type": "execute_result"
    }
   ],
   "source": [
    "df1.head()"
   ]
  },
  {
   "cell_type": "code",
   "execution_count": null,
   "metadata": {
    "scrolled": true
   },
   "outputs": [],
   "source": [
    "df1.columns"
   ]
  },
  {
   "cell_type": "code",
   "execution_count": null,
   "metadata": {},
   "outputs": [],
   "source": [
    "df1"
   ]
  },
  {
   "cell_type": "code",
   "execution_count": 105,
   "metadata": {},
   "outputs": [
    {
     "data": {
      "text/plain": [
       "CL     107107\n",
       "RL      11084\n",
       "nan      3651\n",
       "Name: Loan_Contract_Type, dtype: int64"
      ]
     },
     "execution_count": 105,
     "metadata": {},
     "output_type": "execute_result"
    }
   ],
   "source": [
    "train_set['Loan_Contract_Type'].value_counts()"
   ]
  },
  {
   "cell_type": "code",
   "execution_count": 106,
   "metadata": {},
   "outputs": [],
   "source": [
    "train_set['Loan_Contract_Type']= train_set['Loan_Contract_Type'].replace('nan','CL')"
   ]
  },
  {
   "cell_type": "code",
   "execution_count": 107,
   "metadata": {},
   "outputs": [
    {
     "data": {
      "text/plain": [
       "M      87340\n",
       "S      17403\n",
       "D       7554\n",
       "W       6074\n",
       "nan     3471\n",
       "Name: Client_Marital_Status, dtype: int64"
      ]
     },
     "execution_count": 107,
     "metadata": {},
     "output_type": "execute_result"
    }
   ],
   "source": [
    "train_set['Client_Marital_Status'].value_counts()"
   ]
  },
  {
   "cell_type": "code",
   "execution_count": 108,
   "metadata": {},
   "outputs": [],
   "source": [
    "train_set['Client_Marital_Status']= train_set['Client_Marital_Status'].replace('nan','M')"
   ]
  },
  {
   "cell_type": "code",
   "execution_count": null,
   "metadata": {},
   "outputs": [],
   "source": []
  },
  {
   "cell_type": "code",
   "execution_count": 109,
   "metadata": {},
   "outputs": [
    {
     "name": "stdout",
     "output_type": "stream",
     "text": [
      "Empty DataFrame\n",
      "Columns: [ID, Client_Income, Car_Owned, Bike_Owned, Active_Loan, House_Own, Child_Count, Credit_Amount, Loan_Annuity, Age_Days, Employed_Days, Registration_Days, ID_Days, Mobile_Tag, Homephone_Tag, Workphone_Working, Client_Family_Members, Cleint_City_Rating, Application_Process_Day, Application_Process_Hour, Score_Source_2, Score_Source_3, Phone_Change, Credit_Bureau, Default, Accompany_Client_Group, Accompany_Client_Kids, Accompany_Client_Others, Accompany_Client_Partner, Accompany_Client_Relative, Accompany_Client_nan, Client_Income_Type_Commercial, Client_Income_Type_Govt Job, Client_Income_Type_Maternity leave, Client_Income_Type_Retired, Client_Income_Type_Service, Client_Income_Type_Student, Client_Income_Type_Unemployed, Client_Income_Type_nan, Client_Education_Graduation dropout, Client_Education_Junior secondary, Client_Education_Post Grad, Client_Education_Secondary, Client_Education_nan, Client_Marital_Status_M, Client_Marital_Status_S, Client_Marital_Status_W, Client_Marital_Status_nan, Client_Gender_Male, Client_Gender_nan, Loan_Contract_Type_RL, Loan_Contract_Type_nan, Client_Housing_Type_Home, Client_Housing_Type_Municipal, Client_Housing_Type_Office, Client_Housing_Type_Rental, Client_Housing_Type_Shared, Client_Housing_Type_nan, Client_Permanent_Match_Tag_Yes, Client_Contact_Work_Tag_Yes]\n",
      "Index: []\n",
      "\n",
      "[0 rows x 60 columns]\n",
      "Empty DataFrame\n",
      "Columns: [ID, Client_Income, Car_Owned, Bike_Owned, Active_Loan, House_Own, Child_Count, Credit_Amount, Loan_Annuity, Age_Days, Employed_Days, Registration_Days, ID_Days, Mobile_Tag, Homephone_Tag, Workphone_Working, Client_Family_Members, Cleint_City_Rating, Application_Process_Day, Application_Process_Hour, Score_Source_2, Score_Source_3, Phone_Change, Credit_Bureau, Default, Accompany_Client_Group, Accompany_Client_Kids, Accompany_Client_Others, Accompany_Client_Partner, Accompany_Client_Relative, Accompany_Client_nan, Client_Income_Type_Commercial, Client_Income_Type_Govt Job, Client_Income_Type_Maternity leave, Client_Income_Type_Retired, Client_Income_Type_Service, Client_Income_Type_Student, Client_Income_Type_Unemployed, Client_Income_Type_nan, Client_Education_Graduation dropout, Client_Education_Junior secondary, Client_Education_Post Grad, Client_Education_Secondary, Client_Education_nan, Client_Marital_Status_M, Client_Marital_Status_S, Client_Marital_Status_W, Client_Marital_Status_nan, Client_Gender_Male, Client_Gender_nan, Loan_Contract_Type_RL, Loan_Contract_Type_nan, Client_Housing_Type_Home, Client_Housing_Type_Municipal, Client_Housing_Type_Office, Client_Housing_Type_Rental, Client_Housing_Type_Shared, Client_Housing_Type_nan, Client_Permanent_Match_Tag_Yes, Client_Contact_Work_Tag_Yes]\n",
      "Index: []\n",
      "\n",
      "[0 rows x 60 columns]\n",
      "Empty DataFrame\n",
      "Columns: [ID, Client_Income, Car_Owned, Bike_Owned, Active_Loan, House_Own, Child_Count, Credit_Amount, Loan_Annuity, Age_Days, Employed_Days, Registration_Days, ID_Days, Mobile_Tag, Homephone_Tag, Workphone_Working, Client_Family_Members, Cleint_City_Rating, Application_Process_Day, Application_Process_Hour, Score_Source_2, Score_Source_3, Phone_Change, Credit_Bureau, Default, Accompany_Client_Group, Accompany_Client_Kids, Accompany_Client_Others, Accompany_Client_Partner, Accompany_Client_Relative, Accompany_Client_nan, Client_Income_Type_Commercial, Client_Income_Type_Govt Job, Client_Income_Type_Maternity leave, Client_Income_Type_Retired, Client_Income_Type_Service, Client_Income_Type_Student, Client_Income_Type_Unemployed, Client_Income_Type_nan, Client_Education_Graduation dropout, Client_Education_Junior secondary, Client_Education_Post Grad, Client_Education_Secondary, Client_Education_nan, Client_Marital_Status_M, Client_Marital_Status_S, Client_Marital_Status_W, Client_Marital_Status_nan, Client_Gender_Male, Client_Gender_nan, Loan_Contract_Type_RL, Loan_Contract_Type_nan, Client_Housing_Type_Home, Client_Housing_Type_Municipal, Client_Housing_Type_Office, Client_Housing_Type_Rental, Client_Housing_Type_Shared, Client_Housing_Type_nan, Client_Permanent_Match_Tag_Yes, Client_Contact_Work_Tag_Yes]\n",
      "Index: []\n",
      "\n",
      "[0 rows x 60 columns]\n",
      "Empty DataFrame\n",
      "Columns: [ID, Client_Income, Car_Owned, Bike_Owned, Active_Loan, House_Own, Child_Count, Credit_Amount, Loan_Annuity, Age_Days, Employed_Days, Registration_Days, ID_Days, Mobile_Tag, Homephone_Tag, Workphone_Working, Client_Family_Members, Cleint_City_Rating, Application_Process_Day, Application_Process_Hour, Score_Source_2, Score_Source_3, Phone_Change, Credit_Bureau, Default, Accompany_Client_Group, Accompany_Client_Kids, Accompany_Client_Others, Accompany_Client_Partner, Accompany_Client_Relative, Accompany_Client_nan, Client_Income_Type_Commercial, Client_Income_Type_Govt Job, Client_Income_Type_Maternity leave, Client_Income_Type_Retired, Client_Income_Type_Service, Client_Income_Type_Student, Client_Income_Type_Unemployed, Client_Income_Type_nan, Client_Education_Graduation dropout, Client_Education_Junior secondary, Client_Education_Post Grad, Client_Education_Secondary, Client_Education_nan, Client_Marital_Status_M, Client_Marital_Status_S, Client_Marital_Status_W, Client_Marital_Status_nan, Client_Gender_Male, Client_Gender_nan, Loan_Contract_Type_RL, Loan_Contract_Type_nan, Client_Housing_Type_Home, Client_Housing_Type_Municipal, Client_Housing_Type_Office, Client_Housing_Type_Rental, Client_Housing_Type_Shared, Client_Housing_Type_nan, Client_Permanent_Match_Tag_Yes, Client_Contact_Work_Tag_Yes]\n",
      "Index: []\n",
      "\n",
      "[0 rows x 60 columns]\n",
      "Empty DataFrame\n",
      "Columns: [ID, Client_Income, Car_Owned, Bike_Owned, Active_Loan, House_Own, Child_Count, Credit_Amount, Loan_Annuity, Age_Days, Employed_Days, Registration_Days, ID_Days, Mobile_Tag, Homephone_Tag, Workphone_Working, Client_Family_Members, Cleint_City_Rating, Application_Process_Day, Application_Process_Hour, Score_Source_2, Score_Source_3, Phone_Change, Credit_Bureau, Default, Accompany_Client_Group, Accompany_Client_Kids, Accompany_Client_Others, Accompany_Client_Partner, Accompany_Client_Relative, Accompany_Client_nan, Client_Income_Type_Commercial, Client_Income_Type_Govt Job, Client_Income_Type_Maternity leave, Client_Income_Type_Retired, Client_Income_Type_Service, Client_Income_Type_Student, Client_Income_Type_Unemployed, Client_Income_Type_nan, Client_Education_Graduation dropout, Client_Education_Junior secondary, Client_Education_Post Grad, Client_Education_Secondary, Client_Education_nan, Client_Marital_Status_M, Client_Marital_Status_S, Client_Marital_Status_W, Client_Marital_Status_nan, Client_Gender_Male, Client_Gender_nan, Loan_Contract_Type_RL, Loan_Contract_Type_nan, Client_Housing_Type_Home, Client_Housing_Type_Municipal, Client_Housing_Type_Office, Client_Housing_Type_Rental, Client_Housing_Type_Shared, Client_Housing_Type_nan, Client_Permanent_Match_Tag_Yes, Client_Contact_Work_Tag_Yes]\n",
      "Index: []\n",
      "\n",
      "[0 rows x 60 columns]\n",
      "Empty DataFrame\n",
      "Columns: [ID, Client_Income, Car_Owned, Bike_Owned, Active_Loan, House_Own, Child_Count, Credit_Amount, Loan_Annuity, Age_Days, Employed_Days, Registration_Days, ID_Days, Mobile_Tag, Homephone_Tag, Workphone_Working, Client_Family_Members, Cleint_City_Rating, Application_Process_Day, Application_Process_Hour, Score_Source_2, Score_Source_3, Phone_Change, Credit_Bureau, Default, Accompany_Client_Group, Accompany_Client_Kids, Accompany_Client_Others, Accompany_Client_Partner, Accompany_Client_Relative, Accompany_Client_nan, Client_Income_Type_Commercial, Client_Income_Type_Govt Job, Client_Income_Type_Maternity leave, Client_Income_Type_Retired, Client_Income_Type_Service, Client_Income_Type_Student, Client_Income_Type_Unemployed, Client_Income_Type_nan, Client_Education_Graduation dropout, Client_Education_Junior secondary, Client_Education_Post Grad, Client_Education_Secondary, Client_Education_nan, Client_Marital_Status_M, Client_Marital_Status_S, Client_Marital_Status_W, Client_Marital_Status_nan, Client_Gender_Male, Client_Gender_nan, Loan_Contract_Type_RL, Loan_Contract_Type_nan, Client_Housing_Type_Home, Client_Housing_Type_Municipal, Client_Housing_Type_Office, Client_Housing_Type_Rental, Client_Housing_Type_Shared, Client_Housing_Type_nan, Client_Permanent_Match_Tag_Yes, Client_Contact_Work_Tag_Yes]\n",
      "Index: []\n",
      "\n",
      "[0 rows x 60 columns]\n",
      "Empty DataFrame\n",
      "Columns: [ID, Client_Income, Car_Owned, Bike_Owned, Active_Loan, House_Own, Child_Count, Credit_Amount, Loan_Annuity, Age_Days, Employed_Days, Registration_Days, ID_Days, Mobile_Tag, Homephone_Tag, Workphone_Working, Client_Family_Members, Cleint_City_Rating, Application_Process_Day, Application_Process_Hour, Score_Source_2, Score_Source_3, Phone_Change, Credit_Bureau, Default, Accompany_Client_Group, Accompany_Client_Kids, Accompany_Client_Others, Accompany_Client_Partner, Accompany_Client_Relative, Accompany_Client_nan, Client_Income_Type_Commercial, Client_Income_Type_Govt Job, Client_Income_Type_Maternity leave, Client_Income_Type_Retired, Client_Income_Type_Service, Client_Income_Type_Student, Client_Income_Type_Unemployed, Client_Income_Type_nan, Client_Education_Graduation dropout, Client_Education_Junior secondary, Client_Education_Post Grad, Client_Education_Secondary, Client_Education_nan, Client_Marital_Status_M, Client_Marital_Status_S, Client_Marital_Status_W, Client_Marital_Status_nan, Client_Gender_Male, Client_Gender_nan, Loan_Contract_Type_RL, Loan_Contract_Type_nan, Client_Housing_Type_Home, Client_Housing_Type_Municipal, Client_Housing_Type_Office, Client_Housing_Type_Rental, Client_Housing_Type_Shared, Client_Housing_Type_nan, Client_Permanent_Match_Tag_Yes, Client_Contact_Work_Tag_Yes]\n",
      "Index: []\n",
      "\n",
      "[0 rows x 60 columns]\n",
      "Empty DataFrame\n",
      "Columns: [ID, Client_Income, Car_Owned, Bike_Owned, Active_Loan, House_Own, Child_Count, Credit_Amount, Loan_Annuity, Age_Days, Employed_Days, Registration_Days, ID_Days, Mobile_Tag, Homephone_Tag, Workphone_Working, Client_Family_Members, Cleint_City_Rating, Application_Process_Day, Application_Process_Hour, Score_Source_2, Score_Source_3, Phone_Change, Credit_Bureau, Default, Accompany_Client_Group, Accompany_Client_Kids, Accompany_Client_Others, Accompany_Client_Partner, Accompany_Client_Relative, Accompany_Client_nan, Client_Income_Type_Commercial, Client_Income_Type_Govt Job, Client_Income_Type_Maternity leave, Client_Income_Type_Retired, Client_Income_Type_Service, Client_Income_Type_Student, Client_Income_Type_Unemployed, Client_Income_Type_nan, Client_Education_Graduation dropout, Client_Education_Junior secondary, Client_Education_Post Grad, Client_Education_Secondary, Client_Education_nan, Client_Marital_Status_M, Client_Marital_Status_S, Client_Marital_Status_W, Client_Marital_Status_nan, Client_Gender_Male, Client_Gender_nan, Loan_Contract_Type_RL, Loan_Contract_Type_nan, Client_Housing_Type_Home, Client_Housing_Type_Municipal, Client_Housing_Type_Office, Client_Housing_Type_Rental, Client_Housing_Type_Shared, Client_Housing_Type_nan, Client_Permanent_Match_Tag_Yes, Client_Contact_Work_Tag_Yes]\n",
      "Index: []\n",
      "\n",
      "[0 rows x 60 columns]\n",
      "Empty DataFrame\n",
      "Columns: [ID, Client_Income, Car_Owned, Bike_Owned, Active_Loan, House_Own, Child_Count, Credit_Amount, Loan_Annuity, Age_Days, Employed_Days, Registration_Days, ID_Days, Mobile_Tag, Homephone_Tag, Workphone_Working, Client_Family_Members, Cleint_City_Rating, Application_Process_Day, Application_Process_Hour, Score_Source_2, Score_Source_3, Phone_Change, Credit_Bureau, Default, Accompany_Client_Group, Accompany_Client_Kids, Accompany_Client_Others, Accompany_Client_Partner, Accompany_Client_Relative, Accompany_Client_nan, Client_Income_Type_Commercial, Client_Income_Type_Govt Job, Client_Income_Type_Maternity leave, Client_Income_Type_Retired, Client_Income_Type_Service, Client_Income_Type_Student, Client_Income_Type_Unemployed, Client_Income_Type_nan, Client_Education_Graduation dropout, Client_Education_Junior secondary, Client_Education_Post Grad, Client_Education_Secondary, Client_Education_nan, Client_Marital_Status_M, Client_Marital_Status_S, Client_Marital_Status_W, Client_Marital_Status_nan, Client_Gender_Male, Client_Gender_nan, Loan_Contract_Type_RL, Loan_Contract_Type_nan, Client_Housing_Type_Home, Client_Housing_Type_Municipal, Client_Housing_Type_Office, Client_Housing_Type_Rental, Client_Housing_Type_Shared, Client_Housing_Type_nan, Client_Permanent_Match_Tag_Yes, Client_Contact_Work_Tag_Yes]\n",
      "Index: []\n",
      "\n",
      "[0 rows x 60 columns]\n",
      "Empty DataFrame\n",
      "Columns: [ID, Client_Income, Car_Owned, Bike_Owned, Active_Loan, House_Own, Child_Count, Credit_Amount, Loan_Annuity, Age_Days, Employed_Days, Registration_Days, ID_Days, Mobile_Tag, Homephone_Tag, Workphone_Working, Client_Family_Members, Cleint_City_Rating, Application_Process_Day, Application_Process_Hour, Score_Source_2, Score_Source_3, Phone_Change, Credit_Bureau, Default, Accompany_Client_Group, Accompany_Client_Kids, Accompany_Client_Others, Accompany_Client_Partner, Accompany_Client_Relative, Accompany_Client_nan, Client_Income_Type_Commercial, Client_Income_Type_Govt Job, Client_Income_Type_Maternity leave, Client_Income_Type_Retired, Client_Income_Type_Service, Client_Income_Type_Student, Client_Income_Type_Unemployed, Client_Income_Type_nan, Client_Education_Graduation dropout, Client_Education_Junior secondary, Client_Education_Post Grad, Client_Education_Secondary, Client_Education_nan, Client_Marital_Status_M, Client_Marital_Status_S, Client_Marital_Status_W, Client_Marital_Status_nan, Client_Gender_Male, Client_Gender_nan, Loan_Contract_Type_RL, Loan_Contract_Type_nan, Client_Housing_Type_Home, Client_Housing_Type_Municipal, Client_Housing_Type_Office, Client_Housing_Type_Rental, Client_Housing_Type_Shared, Client_Housing_Type_nan, Client_Permanent_Match_Tag_Yes, Client_Contact_Work_Tag_Yes]\n",
      "Index: []\n",
      "\n",
      "[0 rows x 60 columns]\n",
      "Empty DataFrame\n",
      "Columns: [ID, Client_Income, Car_Owned, Bike_Owned, Active_Loan, House_Own, Child_Count, Credit_Amount, Loan_Annuity, Age_Days, Employed_Days, Registration_Days, ID_Days, Mobile_Tag, Homephone_Tag, Workphone_Working, Client_Family_Members, Cleint_City_Rating, Application_Process_Day, Application_Process_Hour, Score_Source_2, Score_Source_3, Phone_Change, Credit_Bureau, Default, Accompany_Client_Group, Accompany_Client_Kids, Accompany_Client_Others, Accompany_Client_Partner, Accompany_Client_Relative, Accompany_Client_nan, Client_Income_Type_Commercial, Client_Income_Type_Govt Job, Client_Income_Type_Maternity leave, Client_Income_Type_Retired, Client_Income_Type_Service, Client_Income_Type_Student, Client_Income_Type_Unemployed, Client_Income_Type_nan, Client_Education_Graduation dropout, Client_Education_Junior secondary, Client_Education_Post Grad, Client_Education_Secondary, Client_Education_nan, Client_Marital_Status_M, Client_Marital_Status_S, Client_Marital_Status_W, Client_Marital_Status_nan, Client_Gender_Male, Client_Gender_nan, Loan_Contract_Type_RL, Loan_Contract_Type_nan, Client_Housing_Type_Home, Client_Housing_Type_Municipal, Client_Housing_Type_Office, Client_Housing_Type_Rental, Client_Housing_Type_Shared, Client_Housing_Type_nan, Client_Permanent_Match_Tag_Yes, Client_Contact_Work_Tag_Yes]\n",
      "Index: []\n",
      "\n",
      "[0 rows x 60 columns]\n",
      "Empty DataFrame\n",
      "Columns: [ID, Client_Income, Car_Owned, Bike_Owned, Active_Loan, House_Own, Child_Count, Credit_Amount, Loan_Annuity, Age_Days, Employed_Days, Registration_Days, ID_Days, Mobile_Tag, Homephone_Tag, Workphone_Working, Client_Family_Members, Cleint_City_Rating, Application_Process_Day, Application_Process_Hour, Score_Source_2, Score_Source_3, Phone_Change, Credit_Bureau, Default, Accompany_Client_Group, Accompany_Client_Kids, Accompany_Client_Others, Accompany_Client_Partner, Accompany_Client_Relative, Accompany_Client_nan, Client_Income_Type_Commercial, Client_Income_Type_Govt Job, Client_Income_Type_Maternity leave, Client_Income_Type_Retired, Client_Income_Type_Service, Client_Income_Type_Student, Client_Income_Type_Unemployed, Client_Income_Type_nan, Client_Education_Graduation dropout, Client_Education_Junior secondary, Client_Education_Post Grad, Client_Education_Secondary, Client_Education_nan, Client_Marital_Status_M, Client_Marital_Status_S, Client_Marital_Status_W, Client_Marital_Status_nan, Client_Gender_Male, Client_Gender_nan, Loan_Contract_Type_RL, Loan_Contract_Type_nan, Client_Housing_Type_Home, Client_Housing_Type_Municipal, Client_Housing_Type_Office, Client_Housing_Type_Rental, Client_Housing_Type_Shared, Client_Housing_Type_nan, Client_Permanent_Match_Tag_Yes, Client_Contact_Work_Tag_Yes]\n",
      "Index: []\n",
      "\n",
      "[0 rows x 60 columns]\n",
      "Empty DataFrame\n",
      "Columns: [ID, Client_Income, Car_Owned, Bike_Owned, Active_Loan, House_Own, Child_Count, Credit_Amount, Loan_Annuity, Age_Days, Employed_Days, Registration_Days, ID_Days, Mobile_Tag, Homephone_Tag, Workphone_Working, Client_Family_Members, Cleint_City_Rating, Application_Process_Day, Application_Process_Hour, Score_Source_2, Score_Source_3, Phone_Change, Credit_Bureau, Default, Accompany_Client_Group, Accompany_Client_Kids, Accompany_Client_Others, Accompany_Client_Partner, Accompany_Client_Relative, Accompany_Client_nan, Client_Income_Type_Commercial, Client_Income_Type_Govt Job, Client_Income_Type_Maternity leave, Client_Income_Type_Retired, Client_Income_Type_Service, Client_Income_Type_Student, Client_Income_Type_Unemployed, Client_Income_Type_nan, Client_Education_Graduation dropout, Client_Education_Junior secondary, Client_Education_Post Grad, Client_Education_Secondary, Client_Education_nan, Client_Marital_Status_M, Client_Marital_Status_S, Client_Marital_Status_W, Client_Marital_Status_nan, Client_Gender_Male, Client_Gender_nan, Loan_Contract_Type_RL, Loan_Contract_Type_nan, Client_Housing_Type_Home, Client_Housing_Type_Municipal, Client_Housing_Type_Office, Client_Housing_Type_Rental, Client_Housing_Type_Shared, Client_Housing_Type_nan, Client_Permanent_Match_Tag_Yes, Client_Contact_Work_Tag_Yes]\n",
      "Index: []\n",
      "\n",
      "[0 rows x 60 columns]\n",
      "Empty DataFrame\n",
      "Columns: [ID, Client_Income, Car_Owned, Bike_Owned, Active_Loan, House_Own, Child_Count, Credit_Amount, Loan_Annuity, Age_Days, Employed_Days, Registration_Days, ID_Days, Mobile_Tag, Homephone_Tag, Workphone_Working, Client_Family_Members, Cleint_City_Rating, Application_Process_Day, Application_Process_Hour, Score_Source_2, Score_Source_3, Phone_Change, Credit_Bureau, Default, Accompany_Client_Group, Accompany_Client_Kids, Accompany_Client_Others, Accompany_Client_Partner, Accompany_Client_Relative, Accompany_Client_nan, Client_Income_Type_Commercial, Client_Income_Type_Govt Job, Client_Income_Type_Maternity leave, Client_Income_Type_Retired, Client_Income_Type_Service, Client_Income_Type_Student, Client_Income_Type_Unemployed, Client_Income_Type_nan, Client_Education_Graduation dropout, Client_Education_Junior secondary, Client_Education_Post Grad, Client_Education_Secondary, Client_Education_nan, Client_Marital_Status_M, Client_Marital_Status_S, Client_Marital_Status_W, Client_Marital_Status_nan, Client_Gender_Male, Client_Gender_nan, Loan_Contract_Type_RL, Loan_Contract_Type_nan, Client_Housing_Type_Home, Client_Housing_Type_Municipal, Client_Housing_Type_Office, Client_Housing_Type_Rental, Client_Housing_Type_Shared, Client_Housing_Type_nan, Client_Permanent_Match_Tag_Yes, Client_Contact_Work_Tag_Yes]\n",
      "Index: []\n",
      "\n",
      "[0 rows x 60 columns]\n",
      "Empty DataFrame\n",
      "Columns: [ID, Client_Income, Car_Owned, Bike_Owned, Active_Loan, House_Own, Child_Count, Credit_Amount, Loan_Annuity, Age_Days, Employed_Days, Registration_Days, ID_Days, Mobile_Tag, Homephone_Tag, Workphone_Working, Client_Family_Members, Cleint_City_Rating, Application_Process_Day, Application_Process_Hour, Score_Source_2, Score_Source_3, Phone_Change, Credit_Bureau, Default, Accompany_Client_Group, Accompany_Client_Kids, Accompany_Client_Others, Accompany_Client_Partner, Accompany_Client_Relative, Accompany_Client_nan, Client_Income_Type_Commercial, Client_Income_Type_Govt Job, Client_Income_Type_Maternity leave, Client_Income_Type_Retired, Client_Income_Type_Service, Client_Income_Type_Student, Client_Income_Type_Unemployed, Client_Income_Type_nan, Client_Education_Graduation dropout, Client_Education_Junior secondary, Client_Education_Post Grad, Client_Education_Secondary, Client_Education_nan, Client_Marital_Status_M, Client_Marital_Status_S, Client_Marital_Status_W, Client_Marital_Status_nan, Client_Gender_Male, Client_Gender_nan, Loan_Contract_Type_RL, Loan_Contract_Type_nan, Client_Housing_Type_Home, Client_Housing_Type_Municipal, Client_Housing_Type_Office, Client_Housing_Type_Rental, Client_Housing_Type_Shared, Client_Housing_Type_nan, Client_Permanent_Match_Tag_Yes, Client_Contact_Work_Tag_Yes]\n",
      "Index: []\n",
      "\n",
      "[0 rows x 60 columns]\n",
      "Empty DataFrame\n",
      "Columns: [ID, Client_Income, Car_Owned, Bike_Owned, Active_Loan, House_Own, Child_Count, Credit_Amount, Loan_Annuity, Age_Days, Employed_Days, Registration_Days, ID_Days, Mobile_Tag, Homephone_Tag, Workphone_Working, Client_Family_Members, Cleint_City_Rating, Application_Process_Day, Application_Process_Hour, Score_Source_2, Score_Source_3, Phone_Change, Credit_Bureau, Default, Accompany_Client_Group, Accompany_Client_Kids, Accompany_Client_Others, Accompany_Client_Partner, Accompany_Client_Relative, Accompany_Client_nan, Client_Income_Type_Commercial, Client_Income_Type_Govt Job, Client_Income_Type_Maternity leave, Client_Income_Type_Retired, Client_Income_Type_Service, Client_Income_Type_Student, Client_Income_Type_Unemployed, Client_Income_Type_nan, Client_Education_Graduation dropout, Client_Education_Junior secondary, Client_Education_Post Grad, Client_Education_Secondary, Client_Education_nan, Client_Marital_Status_M, Client_Marital_Status_S, Client_Marital_Status_W, Client_Marital_Status_nan, Client_Gender_Male, Client_Gender_nan, Loan_Contract_Type_RL, Loan_Contract_Type_nan, Client_Housing_Type_Home, Client_Housing_Type_Municipal, Client_Housing_Type_Office, Client_Housing_Type_Rental, Client_Housing_Type_Shared, Client_Housing_Type_nan, Client_Permanent_Match_Tag_Yes, Client_Contact_Work_Tag_Yes]\n",
      "Index: []\n",
      "\n",
      "[0 rows x 60 columns]\n",
      "Empty DataFrame\n",
      "Columns: [ID, Client_Income, Car_Owned, Bike_Owned, Active_Loan, House_Own, Child_Count, Credit_Amount, Loan_Annuity, Age_Days, Employed_Days, Registration_Days, ID_Days, Mobile_Tag, Homephone_Tag, Workphone_Working, Client_Family_Members, Cleint_City_Rating, Application_Process_Day, Application_Process_Hour, Score_Source_2, Score_Source_3, Phone_Change, Credit_Bureau, Default, Accompany_Client_Group, Accompany_Client_Kids, Accompany_Client_Others, Accompany_Client_Partner, Accompany_Client_Relative, Accompany_Client_nan, Client_Income_Type_Commercial, Client_Income_Type_Govt Job, Client_Income_Type_Maternity leave, Client_Income_Type_Retired, Client_Income_Type_Service, Client_Income_Type_Student, Client_Income_Type_Unemployed, Client_Income_Type_nan, Client_Education_Graduation dropout, Client_Education_Junior secondary, Client_Education_Post Grad, Client_Education_Secondary, Client_Education_nan, Client_Marital_Status_M, Client_Marital_Status_S, Client_Marital_Status_W, Client_Marital_Status_nan, Client_Gender_Male, Client_Gender_nan, Loan_Contract_Type_RL, Loan_Contract_Type_nan, Client_Housing_Type_Home, Client_Housing_Type_Municipal, Client_Housing_Type_Office, Client_Housing_Type_Rental, Client_Housing_Type_Shared, Client_Housing_Type_nan, Client_Permanent_Match_Tag_Yes, Client_Contact_Work_Tag_Yes]\n",
      "Index: []\n",
      "\n",
      "[0 rows x 60 columns]\n",
      "Empty DataFrame\n",
      "Columns: [ID, Client_Income, Car_Owned, Bike_Owned, Active_Loan, House_Own, Child_Count, Credit_Amount, Loan_Annuity, Age_Days, Employed_Days, Registration_Days, ID_Days, Mobile_Tag, Homephone_Tag, Workphone_Working, Client_Family_Members, Cleint_City_Rating, Application_Process_Day, Application_Process_Hour, Score_Source_2, Score_Source_3, Phone_Change, Credit_Bureau, Default, Accompany_Client_Group, Accompany_Client_Kids, Accompany_Client_Others, Accompany_Client_Partner, Accompany_Client_Relative, Accompany_Client_nan, Client_Income_Type_Commercial, Client_Income_Type_Govt Job, Client_Income_Type_Maternity leave, Client_Income_Type_Retired, Client_Income_Type_Service, Client_Income_Type_Student, Client_Income_Type_Unemployed, Client_Income_Type_nan, Client_Education_Graduation dropout, Client_Education_Junior secondary, Client_Education_Post Grad, Client_Education_Secondary, Client_Education_nan, Client_Marital_Status_M, Client_Marital_Status_S, Client_Marital_Status_W, Client_Marital_Status_nan, Client_Gender_Male, Client_Gender_nan, Loan_Contract_Type_RL, Loan_Contract_Type_nan, Client_Housing_Type_Home, Client_Housing_Type_Municipal, Client_Housing_Type_Office, Client_Housing_Type_Rental, Client_Housing_Type_Shared, Client_Housing_Type_nan, Client_Permanent_Match_Tag_Yes, Client_Contact_Work_Tag_Yes]\n",
      "Index: []\n",
      "\n",
      "[0 rows x 60 columns]\n",
      "Empty DataFrame\n",
      "Columns: [ID, Client_Income, Car_Owned, Bike_Owned, Active_Loan, House_Own, Child_Count, Credit_Amount, Loan_Annuity, Age_Days, Employed_Days, Registration_Days, ID_Days, Mobile_Tag, Homephone_Tag, Workphone_Working, Client_Family_Members, Cleint_City_Rating, Application_Process_Day, Application_Process_Hour, Score_Source_2, Score_Source_3, Phone_Change, Credit_Bureau, Default, Accompany_Client_Group, Accompany_Client_Kids, Accompany_Client_Others, Accompany_Client_Partner, Accompany_Client_Relative, Accompany_Client_nan, Client_Income_Type_Commercial, Client_Income_Type_Govt Job, Client_Income_Type_Maternity leave, Client_Income_Type_Retired, Client_Income_Type_Service, Client_Income_Type_Student, Client_Income_Type_Unemployed, Client_Income_Type_nan, Client_Education_Graduation dropout, Client_Education_Junior secondary, Client_Education_Post Grad, Client_Education_Secondary, Client_Education_nan, Client_Marital_Status_M, Client_Marital_Status_S, Client_Marital_Status_W, Client_Marital_Status_nan, Client_Gender_Male, Client_Gender_nan, Loan_Contract_Type_RL, Loan_Contract_Type_nan, Client_Housing_Type_Home, Client_Housing_Type_Municipal, Client_Housing_Type_Office, Client_Housing_Type_Rental, Client_Housing_Type_Shared, Client_Housing_Type_nan, Client_Permanent_Match_Tag_Yes, Client_Contact_Work_Tag_Yes]\n",
      "Index: []\n",
      "\n",
      "[0 rows x 60 columns]\n",
      "Empty DataFrame\n",
      "Columns: [ID, Client_Income, Car_Owned, Bike_Owned, Active_Loan, House_Own, Child_Count, Credit_Amount, Loan_Annuity, Age_Days, Employed_Days, Registration_Days, ID_Days, Mobile_Tag, Homephone_Tag, Workphone_Working, Client_Family_Members, Cleint_City_Rating, Application_Process_Day, Application_Process_Hour, Score_Source_2, Score_Source_3, Phone_Change, Credit_Bureau, Default, Accompany_Client_Group, Accompany_Client_Kids, Accompany_Client_Others, Accompany_Client_Partner, Accompany_Client_Relative, Accompany_Client_nan, Client_Income_Type_Commercial, Client_Income_Type_Govt Job, Client_Income_Type_Maternity leave, Client_Income_Type_Retired, Client_Income_Type_Service, Client_Income_Type_Student, Client_Income_Type_Unemployed, Client_Income_Type_nan, Client_Education_Graduation dropout, Client_Education_Junior secondary, Client_Education_Post Grad, Client_Education_Secondary, Client_Education_nan, Client_Marital_Status_M, Client_Marital_Status_S, Client_Marital_Status_W, Client_Marital_Status_nan, Client_Gender_Male, Client_Gender_nan, Loan_Contract_Type_RL, Loan_Contract_Type_nan, Client_Housing_Type_Home, Client_Housing_Type_Municipal, Client_Housing_Type_Office, Client_Housing_Type_Rental, Client_Housing_Type_Shared, Client_Housing_Type_nan, Client_Permanent_Match_Tag_Yes, Client_Contact_Work_Tag_Yes]\n",
      "Index: []\n",
      "\n",
      "[0 rows x 60 columns]\n",
      "Empty DataFrame\n",
      "Columns: [ID, Client_Income, Car_Owned, Bike_Owned, Active_Loan, House_Own, Child_Count, Credit_Amount, Loan_Annuity, Age_Days, Employed_Days, Registration_Days, ID_Days, Mobile_Tag, Homephone_Tag, Workphone_Working, Client_Family_Members, Cleint_City_Rating, Application_Process_Day, Application_Process_Hour, Score_Source_2, Score_Source_3, Phone_Change, Credit_Bureau, Default, Accompany_Client_Group, Accompany_Client_Kids, Accompany_Client_Others, Accompany_Client_Partner, Accompany_Client_Relative, Accompany_Client_nan, Client_Income_Type_Commercial, Client_Income_Type_Govt Job, Client_Income_Type_Maternity leave, Client_Income_Type_Retired, Client_Income_Type_Service, Client_Income_Type_Student, Client_Income_Type_Unemployed, Client_Income_Type_nan, Client_Education_Graduation dropout, Client_Education_Junior secondary, Client_Education_Post Grad, Client_Education_Secondary, Client_Education_nan, Client_Marital_Status_M, Client_Marital_Status_S, Client_Marital_Status_W, Client_Marital_Status_nan, Client_Gender_Male, Client_Gender_nan, Loan_Contract_Type_RL, Loan_Contract_Type_nan, Client_Housing_Type_Home, Client_Housing_Type_Municipal, Client_Housing_Type_Office, Client_Housing_Type_Rental, Client_Housing_Type_Shared, Client_Housing_Type_nan, Client_Permanent_Match_Tag_Yes, Client_Contact_Work_Tag_Yes]\n",
      "Index: []\n",
      "\n",
      "[0 rows x 60 columns]\n",
      "Empty DataFrame\n",
      "Columns: [ID, Client_Income, Car_Owned, Bike_Owned, Active_Loan, House_Own, Child_Count, Credit_Amount, Loan_Annuity, Age_Days, Employed_Days, Registration_Days, ID_Days, Mobile_Tag, Homephone_Tag, Workphone_Working, Client_Family_Members, Cleint_City_Rating, Application_Process_Day, Application_Process_Hour, Score_Source_2, Score_Source_3, Phone_Change, Credit_Bureau, Default, Accompany_Client_Group, Accompany_Client_Kids, Accompany_Client_Others, Accompany_Client_Partner, Accompany_Client_Relative, Accompany_Client_nan, Client_Income_Type_Commercial, Client_Income_Type_Govt Job, Client_Income_Type_Maternity leave, Client_Income_Type_Retired, Client_Income_Type_Service, Client_Income_Type_Student, Client_Income_Type_Unemployed, Client_Income_Type_nan, Client_Education_Graduation dropout, Client_Education_Junior secondary, Client_Education_Post Grad, Client_Education_Secondary, Client_Education_nan, Client_Marital_Status_M, Client_Marital_Status_S, Client_Marital_Status_W, Client_Marital_Status_nan, Client_Gender_Male, Client_Gender_nan, Loan_Contract_Type_RL, Loan_Contract_Type_nan, Client_Housing_Type_Home, Client_Housing_Type_Municipal, Client_Housing_Type_Office, Client_Housing_Type_Rental, Client_Housing_Type_Shared, Client_Housing_Type_nan, Client_Permanent_Match_Tag_Yes, Client_Contact_Work_Tag_Yes]\n",
      "Index: []\n",
      "\n",
      "[0 rows x 60 columns]\n",
      "Empty DataFrame\n",
      "Columns: [ID, Client_Income, Car_Owned, Bike_Owned, Active_Loan, House_Own, Child_Count, Credit_Amount, Loan_Annuity, Age_Days, Employed_Days, Registration_Days, ID_Days, Mobile_Tag, Homephone_Tag, Workphone_Working, Client_Family_Members, Cleint_City_Rating, Application_Process_Day, Application_Process_Hour, Score_Source_2, Score_Source_3, Phone_Change, Credit_Bureau, Default, Accompany_Client_Group, Accompany_Client_Kids, Accompany_Client_Others, Accompany_Client_Partner, Accompany_Client_Relative, Accompany_Client_nan, Client_Income_Type_Commercial, Client_Income_Type_Govt Job, Client_Income_Type_Maternity leave, Client_Income_Type_Retired, Client_Income_Type_Service, Client_Income_Type_Student, Client_Income_Type_Unemployed, Client_Income_Type_nan, Client_Education_Graduation dropout, Client_Education_Junior secondary, Client_Education_Post Grad, Client_Education_Secondary, Client_Education_nan, Client_Marital_Status_M, Client_Marital_Status_S, Client_Marital_Status_W, Client_Marital_Status_nan, Client_Gender_Male, Client_Gender_nan, Loan_Contract_Type_RL, Loan_Contract_Type_nan, Client_Housing_Type_Home, Client_Housing_Type_Municipal, Client_Housing_Type_Office, Client_Housing_Type_Rental, Client_Housing_Type_Shared, Client_Housing_Type_nan, Client_Permanent_Match_Tag_Yes, Client_Contact_Work_Tag_Yes]\n",
      "Index: []\n",
      "\n",
      "[0 rows x 60 columns]\n",
      "Empty DataFrame\n",
      "Columns: [ID, Client_Income, Car_Owned, Bike_Owned, Active_Loan, House_Own, Child_Count, Credit_Amount, Loan_Annuity, Age_Days, Employed_Days, Registration_Days, ID_Days, Mobile_Tag, Homephone_Tag, Workphone_Working, Client_Family_Members, Cleint_City_Rating, Application_Process_Day, Application_Process_Hour, Score_Source_2, Score_Source_3, Phone_Change, Credit_Bureau, Default, Accompany_Client_Group, Accompany_Client_Kids, Accompany_Client_Others, Accompany_Client_Partner, Accompany_Client_Relative, Accompany_Client_nan, Client_Income_Type_Commercial, Client_Income_Type_Govt Job, Client_Income_Type_Maternity leave, Client_Income_Type_Retired, Client_Income_Type_Service, Client_Income_Type_Student, Client_Income_Type_Unemployed, Client_Income_Type_nan, Client_Education_Graduation dropout, Client_Education_Junior secondary, Client_Education_Post Grad, Client_Education_Secondary, Client_Education_nan, Client_Marital_Status_M, Client_Marital_Status_S, Client_Marital_Status_W, Client_Marital_Status_nan, Client_Gender_Male, Client_Gender_nan, Loan_Contract_Type_RL, Loan_Contract_Type_nan, Client_Housing_Type_Home, Client_Housing_Type_Municipal, Client_Housing_Type_Office, Client_Housing_Type_Rental, Client_Housing_Type_Shared, Client_Housing_Type_nan, Client_Permanent_Match_Tag_Yes, Client_Contact_Work_Tag_Yes]\n",
      "Index: []\n",
      "\n",
      "[0 rows x 60 columns]\n",
      "Empty DataFrame\n",
      "Columns: [ID, Client_Income, Car_Owned, Bike_Owned, Active_Loan, House_Own, Child_Count, Credit_Amount, Loan_Annuity, Age_Days, Employed_Days, Registration_Days, ID_Days, Mobile_Tag, Homephone_Tag, Workphone_Working, Client_Family_Members, Cleint_City_Rating, Application_Process_Day, Application_Process_Hour, Score_Source_2, Score_Source_3, Phone_Change, Credit_Bureau, Default, Accompany_Client_Group, Accompany_Client_Kids, Accompany_Client_Others, Accompany_Client_Partner, Accompany_Client_Relative, Accompany_Client_nan, Client_Income_Type_Commercial, Client_Income_Type_Govt Job, Client_Income_Type_Maternity leave, Client_Income_Type_Retired, Client_Income_Type_Service, Client_Income_Type_Student, Client_Income_Type_Unemployed, Client_Income_Type_nan, Client_Education_Graduation dropout, Client_Education_Junior secondary, Client_Education_Post Grad, Client_Education_Secondary, Client_Education_nan, Client_Marital_Status_M, Client_Marital_Status_S, Client_Marital_Status_W, Client_Marital_Status_nan, Client_Gender_Male, Client_Gender_nan, Loan_Contract_Type_RL, Loan_Contract_Type_nan, Client_Housing_Type_Home, Client_Housing_Type_Municipal, Client_Housing_Type_Office, Client_Housing_Type_Rental, Client_Housing_Type_Shared, Client_Housing_Type_nan, Client_Permanent_Match_Tag_Yes, Client_Contact_Work_Tag_Yes]\n",
      "Index: []\n",
      "\n",
      "[0 rows x 60 columns]\n",
      "Empty DataFrame\n",
      "Columns: [ID, Client_Income, Car_Owned, Bike_Owned, Active_Loan, House_Own, Child_Count, Credit_Amount, Loan_Annuity, Age_Days, Employed_Days, Registration_Days, ID_Days, Mobile_Tag, Homephone_Tag, Workphone_Working, Client_Family_Members, Cleint_City_Rating, Application_Process_Day, Application_Process_Hour, Score_Source_2, Score_Source_3, Phone_Change, Credit_Bureau, Default, Accompany_Client_Group, Accompany_Client_Kids, Accompany_Client_Others, Accompany_Client_Partner, Accompany_Client_Relative, Accompany_Client_nan, Client_Income_Type_Commercial, Client_Income_Type_Govt Job, Client_Income_Type_Maternity leave, Client_Income_Type_Retired, Client_Income_Type_Service, Client_Income_Type_Student, Client_Income_Type_Unemployed, Client_Income_Type_nan, Client_Education_Graduation dropout, Client_Education_Junior secondary, Client_Education_Post Grad, Client_Education_Secondary, Client_Education_nan, Client_Marital_Status_M, Client_Marital_Status_S, Client_Marital_Status_W, Client_Marital_Status_nan, Client_Gender_Male, Client_Gender_nan, Loan_Contract_Type_RL, Loan_Contract_Type_nan, Client_Housing_Type_Home, Client_Housing_Type_Municipal, Client_Housing_Type_Office, Client_Housing_Type_Rental, Client_Housing_Type_Shared, Client_Housing_Type_nan, Client_Permanent_Match_Tag_Yes, Client_Contact_Work_Tag_Yes]\n",
      "Index: []\n",
      "\n",
      "[0 rows x 60 columns]\n",
      "Empty DataFrame\n",
      "Columns: [ID, Client_Income, Car_Owned, Bike_Owned, Active_Loan, House_Own, Child_Count, Credit_Amount, Loan_Annuity, Age_Days, Employed_Days, Registration_Days, ID_Days, Mobile_Tag, Homephone_Tag, Workphone_Working, Client_Family_Members, Cleint_City_Rating, Application_Process_Day, Application_Process_Hour, Score_Source_2, Score_Source_3, Phone_Change, Credit_Bureau, Default, Accompany_Client_Group, Accompany_Client_Kids, Accompany_Client_Others, Accompany_Client_Partner, Accompany_Client_Relative, Accompany_Client_nan, Client_Income_Type_Commercial, Client_Income_Type_Govt Job, Client_Income_Type_Maternity leave, Client_Income_Type_Retired, Client_Income_Type_Service, Client_Income_Type_Student, Client_Income_Type_Unemployed, Client_Income_Type_nan, Client_Education_Graduation dropout, Client_Education_Junior secondary, Client_Education_Post Grad, Client_Education_Secondary, Client_Education_nan, Client_Marital_Status_M, Client_Marital_Status_S, Client_Marital_Status_W, Client_Marital_Status_nan, Client_Gender_Male, Client_Gender_nan, Loan_Contract_Type_RL, Loan_Contract_Type_nan, Client_Housing_Type_Home, Client_Housing_Type_Municipal, Client_Housing_Type_Office, Client_Housing_Type_Rental, Client_Housing_Type_Shared, Client_Housing_Type_nan, Client_Permanent_Match_Tag_Yes, Client_Contact_Work_Tag_Yes]\n",
      "Index: []\n",
      "\n",
      "[0 rows x 60 columns]\n",
      "Empty DataFrame\n",
      "Columns: [ID, Client_Income, Car_Owned, Bike_Owned, Active_Loan, House_Own, Child_Count, Credit_Amount, Loan_Annuity, Age_Days, Employed_Days, Registration_Days, ID_Days, Mobile_Tag, Homephone_Tag, Workphone_Working, Client_Family_Members, Cleint_City_Rating, Application_Process_Day, Application_Process_Hour, Score_Source_2, Score_Source_3, Phone_Change, Credit_Bureau, Default, Accompany_Client_Group, Accompany_Client_Kids, Accompany_Client_Others, Accompany_Client_Partner, Accompany_Client_Relative, Accompany_Client_nan, Client_Income_Type_Commercial, Client_Income_Type_Govt Job, Client_Income_Type_Maternity leave, Client_Income_Type_Retired, Client_Income_Type_Service, Client_Income_Type_Student, Client_Income_Type_Unemployed, Client_Income_Type_nan, Client_Education_Graduation dropout, Client_Education_Junior secondary, Client_Education_Post Grad, Client_Education_Secondary, Client_Education_nan, Client_Marital_Status_M, Client_Marital_Status_S, Client_Marital_Status_W, Client_Marital_Status_nan, Client_Gender_Male, Client_Gender_nan, Loan_Contract_Type_RL, Loan_Contract_Type_nan, Client_Housing_Type_Home, Client_Housing_Type_Municipal, Client_Housing_Type_Office, Client_Housing_Type_Rental, Client_Housing_Type_Shared, Client_Housing_Type_nan, Client_Permanent_Match_Tag_Yes, Client_Contact_Work_Tag_Yes]\n",
      "Index: []\n",
      "\n",
      "[0 rows x 60 columns]\n",
      "Empty DataFrame\n",
      "Columns: [ID, Client_Income, Car_Owned, Bike_Owned, Active_Loan, House_Own, Child_Count, Credit_Amount, Loan_Annuity, Age_Days, Employed_Days, Registration_Days, ID_Days, Mobile_Tag, Homephone_Tag, Workphone_Working, Client_Family_Members, Cleint_City_Rating, Application_Process_Day, Application_Process_Hour, Score_Source_2, Score_Source_3, Phone_Change, Credit_Bureau, Default, Accompany_Client_Group, Accompany_Client_Kids, Accompany_Client_Others, Accompany_Client_Partner, Accompany_Client_Relative, Accompany_Client_nan, Client_Income_Type_Commercial, Client_Income_Type_Govt Job, Client_Income_Type_Maternity leave, Client_Income_Type_Retired, Client_Income_Type_Service, Client_Income_Type_Student, Client_Income_Type_Unemployed, Client_Income_Type_nan, Client_Education_Graduation dropout, Client_Education_Junior secondary, Client_Education_Post Grad, Client_Education_Secondary, Client_Education_nan, Client_Marital_Status_M, Client_Marital_Status_S, Client_Marital_Status_W, Client_Marital_Status_nan, Client_Gender_Male, Client_Gender_nan, Loan_Contract_Type_RL, Loan_Contract_Type_nan, Client_Housing_Type_Home, Client_Housing_Type_Municipal, Client_Housing_Type_Office, Client_Housing_Type_Rental, Client_Housing_Type_Shared, Client_Housing_Type_nan, Client_Permanent_Match_Tag_Yes, Client_Contact_Work_Tag_Yes]\n",
      "Index: []\n",
      "\n",
      "[0 rows x 60 columns]\n",
      "Empty DataFrame\n",
      "Columns: [ID, Client_Income, Car_Owned, Bike_Owned, Active_Loan, House_Own, Child_Count, Credit_Amount, Loan_Annuity, Age_Days, Employed_Days, Registration_Days, ID_Days, Mobile_Tag, Homephone_Tag, Workphone_Working, Client_Family_Members, Cleint_City_Rating, Application_Process_Day, Application_Process_Hour, Score_Source_2, Score_Source_3, Phone_Change, Credit_Bureau, Default, Accompany_Client_Group, Accompany_Client_Kids, Accompany_Client_Others, Accompany_Client_Partner, Accompany_Client_Relative, Accompany_Client_nan, Client_Income_Type_Commercial, Client_Income_Type_Govt Job, Client_Income_Type_Maternity leave, Client_Income_Type_Retired, Client_Income_Type_Service, Client_Income_Type_Student, Client_Income_Type_Unemployed, Client_Income_Type_nan, Client_Education_Graduation dropout, Client_Education_Junior secondary, Client_Education_Post Grad, Client_Education_Secondary, Client_Education_nan, Client_Marital_Status_M, Client_Marital_Status_S, Client_Marital_Status_W, Client_Marital_Status_nan, Client_Gender_Male, Client_Gender_nan, Loan_Contract_Type_RL, Loan_Contract_Type_nan, Client_Housing_Type_Home, Client_Housing_Type_Municipal, Client_Housing_Type_Office, Client_Housing_Type_Rental, Client_Housing_Type_Shared, Client_Housing_Type_nan, Client_Permanent_Match_Tag_Yes, Client_Contact_Work_Tag_Yes]\n",
      "Index: []\n",
      "\n",
      "[0 rows x 60 columns]\n",
      "Empty DataFrame\n",
      "Columns: [ID, Client_Income, Car_Owned, Bike_Owned, Active_Loan, House_Own, Child_Count, Credit_Amount, Loan_Annuity, Age_Days, Employed_Days, Registration_Days, ID_Days, Mobile_Tag, Homephone_Tag, Workphone_Working, Client_Family_Members, Cleint_City_Rating, Application_Process_Day, Application_Process_Hour, Score_Source_2, Score_Source_3, Phone_Change, Credit_Bureau, Default, Accompany_Client_Group, Accompany_Client_Kids, Accompany_Client_Others, Accompany_Client_Partner, Accompany_Client_Relative, Accompany_Client_nan, Client_Income_Type_Commercial, Client_Income_Type_Govt Job, Client_Income_Type_Maternity leave, Client_Income_Type_Retired, Client_Income_Type_Service, Client_Income_Type_Student, Client_Income_Type_Unemployed, Client_Income_Type_nan, Client_Education_Graduation dropout, Client_Education_Junior secondary, Client_Education_Post Grad, Client_Education_Secondary, Client_Education_nan, Client_Marital_Status_M, Client_Marital_Status_S, Client_Marital_Status_W, Client_Marital_Status_nan, Client_Gender_Male, Client_Gender_nan, Loan_Contract_Type_RL, Loan_Contract_Type_nan, Client_Housing_Type_Home, Client_Housing_Type_Municipal, Client_Housing_Type_Office, Client_Housing_Type_Rental, Client_Housing_Type_Shared, Client_Housing_Type_nan, Client_Permanent_Match_Tag_Yes, Client_Contact_Work_Tag_Yes]\n",
      "Index: []\n",
      "\n",
      "[0 rows x 60 columns]\n"
     ]
    },
    {
     "name": "stdout",
     "output_type": "stream",
     "text": [
      "Empty DataFrame\n",
      "Columns: [ID, Client_Income, Car_Owned, Bike_Owned, Active_Loan, House_Own, Child_Count, Credit_Amount, Loan_Annuity, Age_Days, Employed_Days, Registration_Days, ID_Days, Mobile_Tag, Homephone_Tag, Workphone_Working, Client_Family_Members, Cleint_City_Rating, Application_Process_Day, Application_Process_Hour, Score_Source_2, Score_Source_3, Phone_Change, Credit_Bureau, Default, Accompany_Client_Group, Accompany_Client_Kids, Accompany_Client_Others, Accompany_Client_Partner, Accompany_Client_Relative, Accompany_Client_nan, Client_Income_Type_Commercial, Client_Income_Type_Govt Job, Client_Income_Type_Maternity leave, Client_Income_Type_Retired, Client_Income_Type_Service, Client_Income_Type_Student, Client_Income_Type_Unemployed, Client_Income_Type_nan, Client_Education_Graduation dropout, Client_Education_Junior secondary, Client_Education_Post Grad, Client_Education_Secondary, Client_Education_nan, Client_Marital_Status_M, Client_Marital_Status_S, Client_Marital_Status_W, Client_Marital_Status_nan, Client_Gender_Male, Client_Gender_nan, Loan_Contract_Type_RL, Loan_Contract_Type_nan, Client_Housing_Type_Home, Client_Housing_Type_Municipal, Client_Housing_Type_Office, Client_Housing_Type_Rental, Client_Housing_Type_Shared, Client_Housing_Type_nan, Client_Permanent_Match_Tag_Yes, Client_Contact_Work_Tag_Yes]\n",
      "Index: []\n",
      "\n",
      "[0 rows x 60 columns]\n",
      "Empty DataFrame\n",
      "Columns: [ID, Client_Income, Car_Owned, Bike_Owned, Active_Loan, House_Own, Child_Count, Credit_Amount, Loan_Annuity, Age_Days, Employed_Days, Registration_Days, ID_Days, Mobile_Tag, Homephone_Tag, Workphone_Working, Client_Family_Members, Cleint_City_Rating, Application_Process_Day, Application_Process_Hour, Score_Source_2, Score_Source_3, Phone_Change, Credit_Bureau, Default, Accompany_Client_Group, Accompany_Client_Kids, Accompany_Client_Others, Accompany_Client_Partner, Accompany_Client_Relative, Accompany_Client_nan, Client_Income_Type_Commercial, Client_Income_Type_Govt Job, Client_Income_Type_Maternity leave, Client_Income_Type_Retired, Client_Income_Type_Service, Client_Income_Type_Student, Client_Income_Type_Unemployed, Client_Income_Type_nan, Client_Education_Graduation dropout, Client_Education_Junior secondary, Client_Education_Post Grad, Client_Education_Secondary, Client_Education_nan, Client_Marital_Status_M, Client_Marital_Status_S, Client_Marital_Status_W, Client_Marital_Status_nan, Client_Gender_Male, Client_Gender_nan, Loan_Contract_Type_RL, Loan_Contract_Type_nan, Client_Housing_Type_Home, Client_Housing_Type_Municipal, Client_Housing_Type_Office, Client_Housing_Type_Rental, Client_Housing_Type_Shared, Client_Housing_Type_nan, Client_Permanent_Match_Tag_Yes, Client_Contact_Work_Tag_Yes]\n",
      "Index: []\n",
      "\n",
      "[0 rows x 60 columns]\n",
      "Empty DataFrame\n",
      "Columns: [ID, Client_Income, Car_Owned, Bike_Owned, Active_Loan, House_Own, Child_Count, Credit_Amount, Loan_Annuity, Age_Days, Employed_Days, Registration_Days, ID_Days, Mobile_Tag, Homephone_Tag, Workphone_Working, Client_Family_Members, Cleint_City_Rating, Application_Process_Day, Application_Process_Hour, Score_Source_2, Score_Source_3, Phone_Change, Credit_Bureau, Default, Accompany_Client_Group, Accompany_Client_Kids, Accompany_Client_Others, Accompany_Client_Partner, Accompany_Client_Relative, Accompany_Client_nan, Client_Income_Type_Commercial, Client_Income_Type_Govt Job, Client_Income_Type_Maternity leave, Client_Income_Type_Retired, Client_Income_Type_Service, Client_Income_Type_Student, Client_Income_Type_Unemployed, Client_Income_Type_nan, Client_Education_Graduation dropout, Client_Education_Junior secondary, Client_Education_Post Grad, Client_Education_Secondary, Client_Education_nan, Client_Marital_Status_M, Client_Marital_Status_S, Client_Marital_Status_W, Client_Marital_Status_nan, Client_Gender_Male, Client_Gender_nan, Loan_Contract_Type_RL, Loan_Contract_Type_nan, Client_Housing_Type_Home, Client_Housing_Type_Municipal, Client_Housing_Type_Office, Client_Housing_Type_Rental, Client_Housing_Type_Shared, Client_Housing_Type_nan, Client_Permanent_Match_Tag_Yes, Client_Contact_Work_Tag_Yes]\n",
      "Index: []\n",
      "\n",
      "[0 rows x 60 columns]\n",
      "Empty DataFrame\n",
      "Columns: [ID, Client_Income, Car_Owned, Bike_Owned, Active_Loan, House_Own, Child_Count, Credit_Amount, Loan_Annuity, Age_Days, Employed_Days, Registration_Days, ID_Days, Mobile_Tag, Homephone_Tag, Workphone_Working, Client_Family_Members, Cleint_City_Rating, Application_Process_Day, Application_Process_Hour, Score_Source_2, Score_Source_3, Phone_Change, Credit_Bureau, Default, Accompany_Client_Group, Accompany_Client_Kids, Accompany_Client_Others, Accompany_Client_Partner, Accompany_Client_Relative, Accompany_Client_nan, Client_Income_Type_Commercial, Client_Income_Type_Govt Job, Client_Income_Type_Maternity leave, Client_Income_Type_Retired, Client_Income_Type_Service, Client_Income_Type_Student, Client_Income_Type_Unemployed, Client_Income_Type_nan, Client_Education_Graduation dropout, Client_Education_Junior secondary, Client_Education_Post Grad, Client_Education_Secondary, Client_Education_nan, Client_Marital_Status_M, Client_Marital_Status_S, Client_Marital_Status_W, Client_Marital_Status_nan, Client_Gender_Male, Client_Gender_nan, Loan_Contract_Type_RL, Loan_Contract_Type_nan, Client_Housing_Type_Home, Client_Housing_Type_Municipal, Client_Housing_Type_Office, Client_Housing_Type_Rental, Client_Housing_Type_Shared, Client_Housing_Type_nan, Client_Permanent_Match_Tag_Yes, Client_Contact_Work_Tag_Yes]\n",
      "Index: []\n",
      "\n",
      "[0 rows x 60 columns]\n",
      "Empty DataFrame\n",
      "Columns: [ID, Client_Income, Car_Owned, Bike_Owned, Active_Loan, House_Own, Child_Count, Credit_Amount, Loan_Annuity, Age_Days, Employed_Days, Registration_Days, ID_Days, Mobile_Tag, Homephone_Tag, Workphone_Working, Client_Family_Members, Cleint_City_Rating, Application_Process_Day, Application_Process_Hour, Score_Source_2, Score_Source_3, Phone_Change, Credit_Bureau, Default, Accompany_Client_Group, Accompany_Client_Kids, Accompany_Client_Others, Accompany_Client_Partner, Accompany_Client_Relative, Accompany_Client_nan, Client_Income_Type_Commercial, Client_Income_Type_Govt Job, Client_Income_Type_Maternity leave, Client_Income_Type_Retired, Client_Income_Type_Service, Client_Income_Type_Student, Client_Income_Type_Unemployed, Client_Income_Type_nan, Client_Education_Graduation dropout, Client_Education_Junior secondary, Client_Education_Post Grad, Client_Education_Secondary, Client_Education_nan, Client_Marital_Status_M, Client_Marital_Status_S, Client_Marital_Status_W, Client_Marital_Status_nan, Client_Gender_Male, Client_Gender_nan, Loan_Contract_Type_RL, Loan_Contract_Type_nan, Client_Housing_Type_Home, Client_Housing_Type_Municipal, Client_Housing_Type_Office, Client_Housing_Type_Rental, Client_Housing_Type_Shared, Client_Housing_Type_nan, Client_Permanent_Match_Tag_Yes, Client_Contact_Work_Tag_Yes]\n",
      "Index: []\n",
      "\n",
      "[0 rows x 60 columns]\n",
      "Empty DataFrame\n",
      "Columns: [ID, Client_Income, Car_Owned, Bike_Owned, Active_Loan, House_Own, Child_Count, Credit_Amount, Loan_Annuity, Age_Days, Employed_Days, Registration_Days, ID_Days, Mobile_Tag, Homephone_Tag, Workphone_Working, Client_Family_Members, Cleint_City_Rating, Application_Process_Day, Application_Process_Hour, Score_Source_2, Score_Source_3, Phone_Change, Credit_Bureau, Default, Accompany_Client_Group, Accompany_Client_Kids, Accompany_Client_Others, Accompany_Client_Partner, Accompany_Client_Relative, Accompany_Client_nan, Client_Income_Type_Commercial, Client_Income_Type_Govt Job, Client_Income_Type_Maternity leave, Client_Income_Type_Retired, Client_Income_Type_Service, Client_Income_Type_Student, Client_Income_Type_Unemployed, Client_Income_Type_nan, Client_Education_Graduation dropout, Client_Education_Junior secondary, Client_Education_Post Grad, Client_Education_Secondary, Client_Education_nan, Client_Marital_Status_M, Client_Marital_Status_S, Client_Marital_Status_W, Client_Marital_Status_nan, Client_Gender_Male, Client_Gender_nan, Loan_Contract_Type_RL, Loan_Contract_Type_nan, Client_Housing_Type_Home, Client_Housing_Type_Municipal, Client_Housing_Type_Office, Client_Housing_Type_Rental, Client_Housing_Type_Shared, Client_Housing_Type_nan, Client_Permanent_Match_Tag_Yes, Client_Contact_Work_Tag_Yes]\n",
      "Index: []\n",
      "\n",
      "[0 rows x 60 columns]\n",
      "Empty DataFrame\n",
      "Columns: [ID, Client_Income, Car_Owned, Bike_Owned, Active_Loan, House_Own, Child_Count, Credit_Amount, Loan_Annuity, Age_Days, Employed_Days, Registration_Days, ID_Days, Mobile_Tag, Homephone_Tag, Workphone_Working, Client_Family_Members, Cleint_City_Rating, Application_Process_Day, Application_Process_Hour, Score_Source_2, Score_Source_3, Phone_Change, Credit_Bureau, Default, Accompany_Client_Group, Accompany_Client_Kids, Accompany_Client_Others, Accompany_Client_Partner, Accompany_Client_Relative, Accompany_Client_nan, Client_Income_Type_Commercial, Client_Income_Type_Govt Job, Client_Income_Type_Maternity leave, Client_Income_Type_Retired, Client_Income_Type_Service, Client_Income_Type_Student, Client_Income_Type_Unemployed, Client_Income_Type_nan, Client_Education_Graduation dropout, Client_Education_Junior secondary, Client_Education_Post Grad, Client_Education_Secondary, Client_Education_nan, Client_Marital_Status_M, Client_Marital_Status_S, Client_Marital_Status_W, Client_Marital_Status_nan, Client_Gender_Male, Client_Gender_nan, Loan_Contract_Type_RL, Loan_Contract_Type_nan, Client_Housing_Type_Home, Client_Housing_Type_Municipal, Client_Housing_Type_Office, Client_Housing_Type_Rental, Client_Housing_Type_Shared, Client_Housing_Type_nan, Client_Permanent_Match_Tag_Yes, Client_Contact_Work_Tag_Yes]\n",
      "Index: []\n",
      "\n",
      "[0 rows x 60 columns]\n",
      "Empty DataFrame\n",
      "Columns: [ID, Client_Income, Car_Owned, Bike_Owned, Active_Loan, House_Own, Child_Count, Credit_Amount, Loan_Annuity, Age_Days, Employed_Days, Registration_Days, ID_Days, Mobile_Tag, Homephone_Tag, Workphone_Working, Client_Family_Members, Cleint_City_Rating, Application_Process_Day, Application_Process_Hour, Score_Source_2, Score_Source_3, Phone_Change, Credit_Bureau, Default, Accompany_Client_Group, Accompany_Client_Kids, Accompany_Client_Others, Accompany_Client_Partner, Accompany_Client_Relative, Accompany_Client_nan, Client_Income_Type_Commercial, Client_Income_Type_Govt Job, Client_Income_Type_Maternity leave, Client_Income_Type_Retired, Client_Income_Type_Service, Client_Income_Type_Student, Client_Income_Type_Unemployed, Client_Income_Type_nan, Client_Education_Graduation dropout, Client_Education_Junior secondary, Client_Education_Post Grad, Client_Education_Secondary, Client_Education_nan, Client_Marital_Status_M, Client_Marital_Status_S, Client_Marital_Status_W, Client_Marital_Status_nan, Client_Gender_Male, Client_Gender_nan, Loan_Contract_Type_RL, Loan_Contract_Type_nan, Client_Housing_Type_Home, Client_Housing_Type_Municipal, Client_Housing_Type_Office, Client_Housing_Type_Rental, Client_Housing_Type_Shared, Client_Housing_Type_nan, Client_Permanent_Match_Tag_Yes, Client_Contact_Work_Tag_Yes]\n",
      "Index: []\n",
      "\n",
      "[0 rows x 60 columns]\n",
      "Empty DataFrame\n",
      "Columns: [ID, Client_Income, Car_Owned, Bike_Owned, Active_Loan, House_Own, Child_Count, Credit_Amount, Loan_Annuity, Age_Days, Employed_Days, Registration_Days, ID_Days, Mobile_Tag, Homephone_Tag, Workphone_Working, Client_Family_Members, Cleint_City_Rating, Application_Process_Day, Application_Process_Hour, Score_Source_2, Score_Source_3, Phone_Change, Credit_Bureau, Default, Accompany_Client_Group, Accompany_Client_Kids, Accompany_Client_Others, Accompany_Client_Partner, Accompany_Client_Relative, Accompany_Client_nan, Client_Income_Type_Commercial, Client_Income_Type_Govt Job, Client_Income_Type_Maternity leave, Client_Income_Type_Retired, Client_Income_Type_Service, Client_Income_Type_Student, Client_Income_Type_Unemployed, Client_Income_Type_nan, Client_Education_Graduation dropout, Client_Education_Junior secondary, Client_Education_Post Grad, Client_Education_Secondary, Client_Education_nan, Client_Marital_Status_M, Client_Marital_Status_S, Client_Marital_Status_W, Client_Marital_Status_nan, Client_Gender_Male, Client_Gender_nan, Loan_Contract_Type_RL, Loan_Contract_Type_nan, Client_Housing_Type_Home, Client_Housing_Type_Municipal, Client_Housing_Type_Office, Client_Housing_Type_Rental, Client_Housing_Type_Shared, Client_Housing_Type_nan, Client_Permanent_Match_Tag_Yes, Client_Contact_Work_Tag_Yes]\n",
      "Index: []\n",
      "\n",
      "[0 rows x 60 columns]\n",
      "Empty DataFrame\n",
      "Columns: [ID, Client_Income, Car_Owned, Bike_Owned, Active_Loan, House_Own, Child_Count, Credit_Amount, Loan_Annuity, Age_Days, Employed_Days, Registration_Days, ID_Days, Mobile_Tag, Homephone_Tag, Workphone_Working, Client_Family_Members, Cleint_City_Rating, Application_Process_Day, Application_Process_Hour, Score_Source_2, Score_Source_3, Phone_Change, Credit_Bureau, Default, Accompany_Client_Group, Accompany_Client_Kids, Accompany_Client_Others, Accompany_Client_Partner, Accompany_Client_Relative, Accompany_Client_nan, Client_Income_Type_Commercial, Client_Income_Type_Govt Job, Client_Income_Type_Maternity leave, Client_Income_Type_Retired, Client_Income_Type_Service, Client_Income_Type_Student, Client_Income_Type_Unemployed, Client_Income_Type_nan, Client_Education_Graduation dropout, Client_Education_Junior secondary, Client_Education_Post Grad, Client_Education_Secondary, Client_Education_nan, Client_Marital_Status_M, Client_Marital_Status_S, Client_Marital_Status_W, Client_Marital_Status_nan, Client_Gender_Male, Client_Gender_nan, Loan_Contract_Type_RL, Loan_Contract_Type_nan, Client_Housing_Type_Home, Client_Housing_Type_Municipal, Client_Housing_Type_Office, Client_Housing_Type_Rental, Client_Housing_Type_Shared, Client_Housing_Type_nan, Client_Permanent_Match_Tag_Yes, Client_Contact_Work_Tag_Yes]\n",
      "Index: []\n",
      "\n",
      "[0 rows x 60 columns]\n",
      "Empty DataFrame\n",
      "Columns: [ID, Client_Income, Car_Owned, Bike_Owned, Active_Loan, House_Own, Child_Count, Credit_Amount, Loan_Annuity, Age_Days, Employed_Days, Registration_Days, ID_Days, Mobile_Tag, Homephone_Tag, Workphone_Working, Client_Family_Members, Cleint_City_Rating, Application_Process_Day, Application_Process_Hour, Score_Source_2, Score_Source_3, Phone_Change, Credit_Bureau, Default, Accompany_Client_Group, Accompany_Client_Kids, Accompany_Client_Others, Accompany_Client_Partner, Accompany_Client_Relative, Accompany_Client_nan, Client_Income_Type_Commercial, Client_Income_Type_Govt Job, Client_Income_Type_Maternity leave, Client_Income_Type_Retired, Client_Income_Type_Service, Client_Income_Type_Student, Client_Income_Type_Unemployed, Client_Income_Type_nan, Client_Education_Graduation dropout, Client_Education_Junior secondary, Client_Education_Post Grad, Client_Education_Secondary, Client_Education_nan, Client_Marital_Status_M, Client_Marital_Status_S, Client_Marital_Status_W, Client_Marital_Status_nan, Client_Gender_Male, Client_Gender_nan, Loan_Contract_Type_RL, Loan_Contract_Type_nan, Client_Housing_Type_Home, Client_Housing_Type_Municipal, Client_Housing_Type_Office, Client_Housing_Type_Rental, Client_Housing_Type_Shared, Client_Housing_Type_nan, Client_Permanent_Match_Tag_Yes, Client_Contact_Work_Tag_Yes]\n",
      "Index: []\n",
      "\n",
      "[0 rows x 60 columns]\n",
      "Empty DataFrame\n",
      "Columns: [ID, Client_Income, Car_Owned, Bike_Owned, Active_Loan, House_Own, Child_Count, Credit_Amount, Loan_Annuity, Age_Days, Employed_Days, Registration_Days, ID_Days, Mobile_Tag, Homephone_Tag, Workphone_Working, Client_Family_Members, Cleint_City_Rating, Application_Process_Day, Application_Process_Hour, Score_Source_2, Score_Source_3, Phone_Change, Credit_Bureau, Default, Accompany_Client_Group, Accompany_Client_Kids, Accompany_Client_Others, Accompany_Client_Partner, Accompany_Client_Relative, Accompany_Client_nan, Client_Income_Type_Commercial, Client_Income_Type_Govt Job, Client_Income_Type_Maternity leave, Client_Income_Type_Retired, Client_Income_Type_Service, Client_Income_Type_Student, Client_Income_Type_Unemployed, Client_Income_Type_nan, Client_Education_Graduation dropout, Client_Education_Junior secondary, Client_Education_Post Grad, Client_Education_Secondary, Client_Education_nan, Client_Marital_Status_M, Client_Marital_Status_S, Client_Marital_Status_W, Client_Marital_Status_nan, Client_Gender_Male, Client_Gender_nan, Loan_Contract_Type_RL, Loan_Contract_Type_nan, Client_Housing_Type_Home, Client_Housing_Type_Municipal, Client_Housing_Type_Office, Client_Housing_Type_Rental, Client_Housing_Type_Shared, Client_Housing_Type_nan, Client_Permanent_Match_Tag_Yes, Client_Contact_Work_Tag_Yes]\n",
      "Index: []\n",
      "\n",
      "[0 rows x 60 columns]\n",
      "Empty DataFrame\n",
      "Columns: [ID, Client_Income, Car_Owned, Bike_Owned, Active_Loan, House_Own, Child_Count, Credit_Amount, Loan_Annuity, Age_Days, Employed_Days, Registration_Days, ID_Days, Mobile_Tag, Homephone_Tag, Workphone_Working, Client_Family_Members, Cleint_City_Rating, Application_Process_Day, Application_Process_Hour, Score_Source_2, Score_Source_3, Phone_Change, Credit_Bureau, Default, Accompany_Client_Group, Accompany_Client_Kids, Accompany_Client_Others, Accompany_Client_Partner, Accompany_Client_Relative, Accompany_Client_nan, Client_Income_Type_Commercial, Client_Income_Type_Govt Job, Client_Income_Type_Maternity leave, Client_Income_Type_Retired, Client_Income_Type_Service, Client_Income_Type_Student, Client_Income_Type_Unemployed, Client_Income_Type_nan, Client_Education_Graduation dropout, Client_Education_Junior secondary, Client_Education_Post Grad, Client_Education_Secondary, Client_Education_nan, Client_Marital_Status_M, Client_Marital_Status_S, Client_Marital_Status_W, Client_Marital_Status_nan, Client_Gender_Male, Client_Gender_nan, Loan_Contract_Type_RL, Loan_Contract_Type_nan, Client_Housing_Type_Home, Client_Housing_Type_Municipal, Client_Housing_Type_Office, Client_Housing_Type_Rental, Client_Housing_Type_Shared, Client_Housing_Type_nan, Client_Permanent_Match_Tag_Yes, Client_Contact_Work_Tag_Yes]\n",
      "Index: []\n",
      "\n",
      "[0 rows x 60 columns]\n",
      "Empty DataFrame\n",
      "Columns: [ID, Client_Income, Car_Owned, Bike_Owned, Active_Loan, House_Own, Child_Count, Credit_Amount, Loan_Annuity, Age_Days, Employed_Days, Registration_Days, ID_Days, Mobile_Tag, Homephone_Tag, Workphone_Working, Client_Family_Members, Cleint_City_Rating, Application_Process_Day, Application_Process_Hour, Score_Source_2, Score_Source_3, Phone_Change, Credit_Bureau, Default, Accompany_Client_Group, Accompany_Client_Kids, Accompany_Client_Others, Accompany_Client_Partner, Accompany_Client_Relative, Accompany_Client_nan, Client_Income_Type_Commercial, Client_Income_Type_Govt Job, Client_Income_Type_Maternity leave, Client_Income_Type_Retired, Client_Income_Type_Service, Client_Income_Type_Student, Client_Income_Type_Unemployed, Client_Income_Type_nan, Client_Education_Graduation dropout, Client_Education_Junior secondary, Client_Education_Post Grad, Client_Education_Secondary, Client_Education_nan, Client_Marital_Status_M, Client_Marital_Status_S, Client_Marital_Status_W, Client_Marital_Status_nan, Client_Gender_Male, Client_Gender_nan, Loan_Contract_Type_RL, Loan_Contract_Type_nan, Client_Housing_Type_Home, Client_Housing_Type_Municipal, Client_Housing_Type_Office, Client_Housing_Type_Rental, Client_Housing_Type_Shared, Client_Housing_Type_nan, Client_Permanent_Match_Tag_Yes, Client_Contact_Work_Tag_Yes]\n",
      "Index: []\n",
      "\n",
      "[0 rows x 60 columns]\n",
      "Empty DataFrame\n",
      "Columns: [ID, Client_Income, Car_Owned, Bike_Owned, Active_Loan, House_Own, Child_Count, Credit_Amount, Loan_Annuity, Age_Days, Employed_Days, Registration_Days, ID_Days, Mobile_Tag, Homephone_Tag, Workphone_Working, Client_Family_Members, Cleint_City_Rating, Application_Process_Day, Application_Process_Hour, Score_Source_2, Score_Source_3, Phone_Change, Credit_Bureau, Default, Accompany_Client_Group, Accompany_Client_Kids, Accompany_Client_Others, Accompany_Client_Partner, Accompany_Client_Relative, Accompany_Client_nan, Client_Income_Type_Commercial, Client_Income_Type_Govt Job, Client_Income_Type_Maternity leave, Client_Income_Type_Retired, Client_Income_Type_Service, Client_Income_Type_Student, Client_Income_Type_Unemployed, Client_Income_Type_nan, Client_Education_Graduation dropout, Client_Education_Junior secondary, Client_Education_Post Grad, Client_Education_Secondary, Client_Education_nan, Client_Marital_Status_M, Client_Marital_Status_S, Client_Marital_Status_W, Client_Marital_Status_nan, Client_Gender_Male, Client_Gender_nan, Loan_Contract_Type_RL, Loan_Contract_Type_nan, Client_Housing_Type_Home, Client_Housing_Type_Municipal, Client_Housing_Type_Office, Client_Housing_Type_Rental, Client_Housing_Type_Shared, Client_Housing_Type_nan, Client_Permanent_Match_Tag_Yes, Client_Contact_Work_Tag_Yes]\n",
      "Index: []\n",
      "\n",
      "[0 rows x 60 columns]\n",
      "Empty DataFrame\n",
      "Columns: [ID, Client_Income, Car_Owned, Bike_Owned, Active_Loan, House_Own, Child_Count, Credit_Amount, Loan_Annuity, Age_Days, Employed_Days, Registration_Days, ID_Days, Mobile_Tag, Homephone_Tag, Workphone_Working, Client_Family_Members, Cleint_City_Rating, Application_Process_Day, Application_Process_Hour, Score_Source_2, Score_Source_3, Phone_Change, Credit_Bureau, Default, Accompany_Client_Group, Accompany_Client_Kids, Accompany_Client_Others, Accompany_Client_Partner, Accompany_Client_Relative, Accompany_Client_nan, Client_Income_Type_Commercial, Client_Income_Type_Govt Job, Client_Income_Type_Maternity leave, Client_Income_Type_Retired, Client_Income_Type_Service, Client_Income_Type_Student, Client_Income_Type_Unemployed, Client_Income_Type_nan, Client_Education_Graduation dropout, Client_Education_Junior secondary, Client_Education_Post Grad, Client_Education_Secondary, Client_Education_nan, Client_Marital_Status_M, Client_Marital_Status_S, Client_Marital_Status_W, Client_Marital_Status_nan, Client_Gender_Male, Client_Gender_nan, Loan_Contract_Type_RL, Loan_Contract_Type_nan, Client_Housing_Type_Home, Client_Housing_Type_Municipal, Client_Housing_Type_Office, Client_Housing_Type_Rental, Client_Housing_Type_Shared, Client_Housing_Type_nan, Client_Permanent_Match_Tag_Yes, Client_Contact_Work_Tag_Yes]\n",
      "Index: []\n",
      "\n",
      "[0 rows x 60 columns]\n",
      "Empty DataFrame\n",
      "Columns: [ID, Client_Income, Car_Owned, Bike_Owned, Active_Loan, House_Own, Child_Count, Credit_Amount, Loan_Annuity, Age_Days, Employed_Days, Registration_Days, ID_Days, Mobile_Tag, Homephone_Tag, Workphone_Working, Client_Family_Members, Cleint_City_Rating, Application_Process_Day, Application_Process_Hour, Score_Source_2, Score_Source_3, Phone_Change, Credit_Bureau, Default, Accompany_Client_Group, Accompany_Client_Kids, Accompany_Client_Others, Accompany_Client_Partner, Accompany_Client_Relative, Accompany_Client_nan, Client_Income_Type_Commercial, Client_Income_Type_Govt Job, Client_Income_Type_Maternity leave, Client_Income_Type_Retired, Client_Income_Type_Service, Client_Income_Type_Student, Client_Income_Type_Unemployed, Client_Income_Type_nan, Client_Education_Graduation dropout, Client_Education_Junior secondary, Client_Education_Post Grad, Client_Education_Secondary, Client_Education_nan, Client_Marital_Status_M, Client_Marital_Status_S, Client_Marital_Status_W, Client_Marital_Status_nan, Client_Gender_Male, Client_Gender_nan, Loan_Contract_Type_RL, Loan_Contract_Type_nan, Client_Housing_Type_Home, Client_Housing_Type_Municipal, Client_Housing_Type_Office, Client_Housing_Type_Rental, Client_Housing_Type_Shared, Client_Housing_Type_nan, Client_Permanent_Match_Tag_Yes, Client_Contact_Work_Tag_Yes]\n",
      "Index: []\n",
      "\n",
      "[0 rows x 60 columns]\n",
      "Empty DataFrame\n",
      "Columns: [ID, Client_Income, Car_Owned, Bike_Owned, Active_Loan, House_Own, Child_Count, Credit_Amount, Loan_Annuity, Age_Days, Employed_Days, Registration_Days, ID_Days, Mobile_Tag, Homephone_Tag, Workphone_Working, Client_Family_Members, Cleint_City_Rating, Application_Process_Day, Application_Process_Hour, Score_Source_2, Score_Source_3, Phone_Change, Credit_Bureau, Default, Accompany_Client_Group, Accompany_Client_Kids, Accompany_Client_Others, Accompany_Client_Partner, Accompany_Client_Relative, Accompany_Client_nan, Client_Income_Type_Commercial, Client_Income_Type_Govt Job, Client_Income_Type_Maternity leave, Client_Income_Type_Retired, Client_Income_Type_Service, Client_Income_Type_Student, Client_Income_Type_Unemployed, Client_Income_Type_nan, Client_Education_Graduation dropout, Client_Education_Junior secondary, Client_Education_Post Grad, Client_Education_Secondary, Client_Education_nan, Client_Marital_Status_M, Client_Marital_Status_S, Client_Marital_Status_W, Client_Marital_Status_nan, Client_Gender_Male, Client_Gender_nan, Loan_Contract_Type_RL, Loan_Contract_Type_nan, Client_Housing_Type_Home, Client_Housing_Type_Municipal, Client_Housing_Type_Office, Client_Housing_Type_Rental, Client_Housing_Type_Shared, Client_Housing_Type_nan, Client_Permanent_Match_Tag_Yes, Client_Contact_Work_Tag_Yes]\n",
      "Index: []\n",
      "\n",
      "[0 rows x 60 columns]\n",
      "Empty DataFrame\n",
      "Columns: [ID, Client_Income, Car_Owned, Bike_Owned, Active_Loan, House_Own, Child_Count, Credit_Amount, Loan_Annuity, Age_Days, Employed_Days, Registration_Days, ID_Days, Mobile_Tag, Homephone_Tag, Workphone_Working, Client_Family_Members, Cleint_City_Rating, Application_Process_Day, Application_Process_Hour, Score_Source_2, Score_Source_3, Phone_Change, Credit_Bureau, Default, Accompany_Client_Group, Accompany_Client_Kids, Accompany_Client_Others, Accompany_Client_Partner, Accompany_Client_Relative, Accompany_Client_nan, Client_Income_Type_Commercial, Client_Income_Type_Govt Job, Client_Income_Type_Maternity leave, Client_Income_Type_Retired, Client_Income_Type_Service, Client_Income_Type_Student, Client_Income_Type_Unemployed, Client_Income_Type_nan, Client_Education_Graduation dropout, Client_Education_Junior secondary, Client_Education_Post Grad, Client_Education_Secondary, Client_Education_nan, Client_Marital_Status_M, Client_Marital_Status_S, Client_Marital_Status_W, Client_Marital_Status_nan, Client_Gender_Male, Client_Gender_nan, Loan_Contract_Type_RL, Loan_Contract_Type_nan, Client_Housing_Type_Home, Client_Housing_Type_Municipal, Client_Housing_Type_Office, Client_Housing_Type_Rental, Client_Housing_Type_Shared, Client_Housing_Type_nan, Client_Permanent_Match_Tag_Yes, Client_Contact_Work_Tag_Yes]\n",
      "Index: []\n",
      "\n",
      "[0 rows x 60 columns]\n",
      "Empty DataFrame\n",
      "Columns: [ID, Client_Income, Car_Owned, Bike_Owned, Active_Loan, House_Own, Child_Count, Credit_Amount, Loan_Annuity, Age_Days, Employed_Days, Registration_Days, ID_Days, Mobile_Tag, Homephone_Tag, Workphone_Working, Client_Family_Members, Cleint_City_Rating, Application_Process_Day, Application_Process_Hour, Score_Source_2, Score_Source_3, Phone_Change, Credit_Bureau, Default, Accompany_Client_Group, Accompany_Client_Kids, Accompany_Client_Others, Accompany_Client_Partner, Accompany_Client_Relative, Accompany_Client_nan, Client_Income_Type_Commercial, Client_Income_Type_Govt Job, Client_Income_Type_Maternity leave, Client_Income_Type_Retired, Client_Income_Type_Service, Client_Income_Type_Student, Client_Income_Type_Unemployed, Client_Income_Type_nan, Client_Education_Graduation dropout, Client_Education_Junior secondary, Client_Education_Post Grad, Client_Education_Secondary, Client_Education_nan, Client_Marital_Status_M, Client_Marital_Status_S, Client_Marital_Status_W, Client_Marital_Status_nan, Client_Gender_Male, Client_Gender_nan, Loan_Contract_Type_RL, Loan_Contract_Type_nan, Client_Housing_Type_Home, Client_Housing_Type_Municipal, Client_Housing_Type_Office, Client_Housing_Type_Rental, Client_Housing_Type_Shared, Client_Housing_Type_nan, Client_Permanent_Match_Tag_Yes, Client_Contact_Work_Tag_Yes]\n",
      "Index: []\n",
      "\n",
      "[0 rows x 60 columns]\n",
      "Empty DataFrame\n",
      "Columns: [ID, Client_Income, Car_Owned, Bike_Owned, Active_Loan, House_Own, Child_Count, Credit_Amount, Loan_Annuity, Age_Days, Employed_Days, Registration_Days, ID_Days, Mobile_Tag, Homephone_Tag, Workphone_Working, Client_Family_Members, Cleint_City_Rating, Application_Process_Day, Application_Process_Hour, Score_Source_2, Score_Source_3, Phone_Change, Credit_Bureau, Default, Accompany_Client_Group, Accompany_Client_Kids, Accompany_Client_Others, Accompany_Client_Partner, Accompany_Client_Relative, Accompany_Client_nan, Client_Income_Type_Commercial, Client_Income_Type_Govt Job, Client_Income_Type_Maternity leave, Client_Income_Type_Retired, Client_Income_Type_Service, Client_Income_Type_Student, Client_Income_Type_Unemployed, Client_Income_Type_nan, Client_Education_Graduation dropout, Client_Education_Junior secondary, Client_Education_Post Grad, Client_Education_Secondary, Client_Education_nan, Client_Marital_Status_M, Client_Marital_Status_S, Client_Marital_Status_W, Client_Marital_Status_nan, Client_Gender_Male, Client_Gender_nan, Loan_Contract_Type_RL, Loan_Contract_Type_nan, Client_Housing_Type_Home, Client_Housing_Type_Municipal, Client_Housing_Type_Office, Client_Housing_Type_Rental, Client_Housing_Type_Shared, Client_Housing_Type_nan, Client_Permanent_Match_Tag_Yes, Client_Contact_Work_Tag_Yes]\n",
      "Index: []\n",
      "\n",
      "[0 rows x 60 columns]\n",
      "Empty DataFrame\n",
      "Columns: [ID, Client_Income, Car_Owned, Bike_Owned, Active_Loan, House_Own, Child_Count, Credit_Amount, Loan_Annuity, Age_Days, Employed_Days, Registration_Days, ID_Days, Mobile_Tag, Homephone_Tag, Workphone_Working, Client_Family_Members, Cleint_City_Rating, Application_Process_Day, Application_Process_Hour, Score_Source_2, Score_Source_3, Phone_Change, Credit_Bureau, Default, Accompany_Client_Group, Accompany_Client_Kids, Accompany_Client_Others, Accompany_Client_Partner, Accompany_Client_Relative, Accompany_Client_nan, Client_Income_Type_Commercial, Client_Income_Type_Govt Job, Client_Income_Type_Maternity leave, Client_Income_Type_Retired, Client_Income_Type_Service, Client_Income_Type_Student, Client_Income_Type_Unemployed, Client_Income_Type_nan, Client_Education_Graduation dropout, Client_Education_Junior secondary, Client_Education_Post Grad, Client_Education_Secondary, Client_Education_nan, Client_Marital_Status_M, Client_Marital_Status_S, Client_Marital_Status_W, Client_Marital_Status_nan, Client_Gender_Male, Client_Gender_nan, Loan_Contract_Type_RL, Loan_Contract_Type_nan, Client_Housing_Type_Home, Client_Housing_Type_Municipal, Client_Housing_Type_Office, Client_Housing_Type_Rental, Client_Housing_Type_Shared, Client_Housing_Type_nan, Client_Permanent_Match_Tag_Yes, Client_Contact_Work_Tag_Yes]\n",
      "Index: []\n",
      "\n",
      "[0 rows x 60 columns]\n",
      "Empty DataFrame\n",
      "Columns: [ID, Client_Income, Car_Owned, Bike_Owned, Active_Loan, House_Own, Child_Count, Credit_Amount, Loan_Annuity, Age_Days, Employed_Days, Registration_Days, ID_Days, Mobile_Tag, Homephone_Tag, Workphone_Working, Client_Family_Members, Cleint_City_Rating, Application_Process_Day, Application_Process_Hour, Score_Source_2, Score_Source_3, Phone_Change, Credit_Bureau, Default, Accompany_Client_Group, Accompany_Client_Kids, Accompany_Client_Others, Accompany_Client_Partner, Accompany_Client_Relative, Accompany_Client_nan, Client_Income_Type_Commercial, Client_Income_Type_Govt Job, Client_Income_Type_Maternity leave, Client_Income_Type_Retired, Client_Income_Type_Service, Client_Income_Type_Student, Client_Income_Type_Unemployed, Client_Income_Type_nan, Client_Education_Graduation dropout, Client_Education_Junior secondary, Client_Education_Post Grad, Client_Education_Secondary, Client_Education_nan, Client_Marital_Status_M, Client_Marital_Status_S, Client_Marital_Status_W, Client_Marital_Status_nan, Client_Gender_Male, Client_Gender_nan, Loan_Contract_Type_RL, Loan_Contract_Type_nan, Client_Housing_Type_Home, Client_Housing_Type_Municipal, Client_Housing_Type_Office, Client_Housing_Type_Rental, Client_Housing_Type_Shared, Client_Housing_Type_nan, Client_Permanent_Match_Tag_Yes, Client_Contact_Work_Tag_Yes]\n",
      "Index: []\n",
      "\n",
      "[0 rows x 60 columns]\n",
      "Empty DataFrame\n",
      "Columns: [ID, Client_Income, Car_Owned, Bike_Owned, Active_Loan, House_Own, Child_Count, Credit_Amount, Loan_Annuity, Age_Days, Employed_Days, Registration_Days, ID_Days, Mobile_Tag, Homephone_Tag, Workphone_Working, Client_Family_Members, Cleint_City_Rating, Application_Process_Day, Application_Process_Hour, Score_Source_2, Score_Source_3, Phone_Change, Credit_Bureau, Default, Accompany_Client_Group, Accompany_Client_Kids, Accompany_Client_Others, Accompany_Client_Partner, Accompany_Client_Relative, Accompany_Client_nan, Client_Income_Type_Commercial, Client_Income_Type_Govt Job, Client_Income_Type_Maternity leave, Client_Income_Type_Retired, Client_Income_Type_Service, Client_Income_Type_Student, Client_Income_Type_Unemployed, Client_Income_Type_nan, Client_Education_Graduation dropout, Client_Education_Junior secondary, Client_Education_Post Grad, Client_Education_Secondary, Client_Education_nan, Client_Marital_Status_M, Client_Marital_Status_S, Client_Marital_Status_W, Client_Marital_Status_nan, Client_Gender_Male, Client_Gender_nan, Loan_Contract_Type_RL, Loan_Contract_Type_nan, Client_Housing_Type_Home, Client_Housing_Type_Municipal, Client_Housing_Type_Office, Client_Housing_Type_Rental, Client_Housing_Type_Shared, Client_Housing_Type_nan, Client_Permanent_Match_Tag_Yes, Client_Contact_Work_Tag_Yes]\n",
      "Index: []\n",
      "\n",
      "[0 rows x 60 columns]\n",
      "Empty DataFrame\n",
      "Columns: [ID, Client_Income, Car_Owned, Bike_Owned, Active_Loan, House_Own, Child_Count, Credit_Amount, Loan_Annuity, Age_Days, Employed_Days, Registration_Days, ID_Days, Mobile_Tag, Homephone_Tag, Workphone_Working, Client_Family_Members, Cleint_City_Rating, Application_Process_Day, Application_Process_Hour, Score_Source_2, Score_Source_3, Phone_Change, Credit_Bureau, Default, Accompany_Client_Group, Accompany_Client_Kids, Accompany_Client_Others, Accompany_Client_Partner, Accompany_Client_Relative, Accompany_Client_nan, Client_Income_Type_Commercial, Client_Income_Type_Govt Job, Client_Income_Type_Maternity leave, Client_Income_Type_Retired, Client_Income_Type_Service, Client_Income_Type_Student, Client_Income_Type_Unemployed, Client_Income_Type_nan, Client_Education_Graduation dropout, Client_Education_Junior secondary, Client_Education_Post Grad, Client_Education_Secondary, Client_Education_nan, Client_Marital_Status_M, Client_Marital_Status_S, Client_Marital_Status_W, Client_Marital_Status_nan, Client_Gender_Male, Client_Gender_nan, Loan_Contract_Type_RL, Loan_Contract_Type_nan, Client_Housing_Type_Home, Client_Housing_Type_Municipal, Client_Housing_Type_Office, Client_Housing_Type_Rental, Client_Housing_Type_Shared, Client_Housing_Type_nan, Client_Permanent_Match_Tag_Yes, Client_Contact_Work_Tag_Yes]\n",
      "Index: []\n",
      "\n",
      "[0 rows x 60 columns]\n",
      "Empty DataFrame\n",
      "Columns: [ID, Client_Income, Car_Owned, Bike_Owned, Active_Loan, House_Own, Child_Count, Credit_Amount, Loan_Annuity, Age_Days, Employed_Days, Registration_Days, ID_Days, Mobile_Tag, Homephone_Tag, Workphone_Working, Client_Family_Members, Cleint_City_Rating, Application_Process_Day, Application_Process_Hour, Score_Source_2, Score_Source_3, Phone_Change, Credit_Bureau, Default, Accompany_Client_Group, Accompany_Client_Kids, Accompany_Client_Others, Accompany_Client_Partner, Accompany_Client_Relative, Accompany_Client_nan, Client_Income_Type_Commercial, Client_Income_Type_Govt Job, Client_Income_Type_Maternity leave, Client_Income_Type_Retired, Client_Income_Type_Service, Client_Income_Type_Student, Client_Income_Type_Unemployed, Client_Income_Type_nan, Client_Education_Graduation dropout, Client_Education_Junior secondary, Client_Education_Post Grad, Client_Education_Secondary, Client_Education_nan, Client_Marital_Status_M, Client_Marital_Status_S, Client_Marital_Status_W, Client_Marital_Status_nan, Client_Gender_Male, Client_Gender_nan, Loan_Contract_Type_RL, Loan_Contract_Type_nan, Client_Housing_Type_Home, Client_Housing_Type_Municipal, Client_Housing_Type_Office, Client_Housing_Type_Rental, Client_Housing_Type_Shared, Client_Housing_Type_nan, Client_Permanent_Match_Tag_Yes, Client_Contact_Work_Tag_Yes]\n",
      "Index: []\n",
      "\n",
      "[0 rows x 60 columns]\n",
      "Empty DataFrame\n",
      "Columns: [ID, Client_Income, Car_Owned, Bike_Owned, Active_Loan, House_Own, Child_Count, Credit_Amount, Loan_Annuity, Age_Days, Employed_Days, Registration_Days, ID_Days, Mobile_Tag, Homephone_Tag, Workphone_Working, Client_Family_Members, Cleint_City_Rating, Application_Process_Day, Application_Process_Hour, Score_Source_2, Score_Source_3, Phone_Change, Credit_Bureau, Default, Accompany_Client_Group, Accompany_Client_Kids, Accompany_Client_Others, Accompany_Client_Partner, Accompany_Client_Relative, Accompany_Client_nan, Client_Income_Type_Commercial, Client_Income_Type_Govt Job, Client_Income_Type_Maternity leave, Client_Income_Type_Retired, Client_Income_Type_Service, Client_Income_Type_Student, Client_Income_Type_Unemployed, Client_Income_Type_nan, Client_Education_Graduation dropout, Client_Education_Junior secondary, Client_Education_Post Grad, Client_Education_Secondary, Client_Education_nan, Client_Marital_Status_M, Client_Marital_Status_S, Client_Marital_Status_W, Client_Marital_Status_nan, Client_Gender_Male, Client_Gender_nan, Loan_Contract_Type_RL, Loan_Contract_Type_nan, Client_Housing_Type_Home, Client_Housing_Type_Municipal, Client_Housing_Type_Office, Client_Housing_Type_Rental, Client_Housing_Type_Shared, Client_Housing_Type_nan, Client_Permanent_Match_Tag_Yes, Client_Contact_Work_Tag_Yes]\n",
      "Index: []\n",
      "\n",
      "[0 rows x 60 columns]\n",
      "Empty DataFrame\n",
      "Columns: [ID, Client_Income, Car_Owned, Bike_Owned, Active_Loan, House_Own, Child_Count, Credit_Amount, Loan_Annuity, Age_Days, Employed_Days, Registration_Days, ID_Days, Mobile_Tag, Homephone_Tag, Workphone_Working, Client_Family_Members, Cleint_City_Rating, Application_Process_Day, Application_Process_Hour, Score_Source_2, Score_Source_3, Phone_Change, Credit_Bureau, Default, Accompany_Client_Group, Accompany_Client_Kids, Accompany_Client_Others, Accompany_Client_Partner, Accompany_Client_Relative, Accompany_Client_nan, Client_Income_Type_Commercial, Client_Income_Type_Govt Job, Client_Income_Type_Maternity leave, Client_Income_Type_Retired, Client_Income_Type_Service, Client_Income_Type_Student, Client_Income_Type_Unemployed, Client_Income_Type_nan, Client_Education_Graduation dropout, Client_Education_Junior secondary, Client_Education_Post Grad, Client_Education_Secondary, Client_Education_nan, Client_Marital_Status_M, Client_Marital_Status_S, Client_Marital_Status_W, Client_Marital_Status_nan, Client_Gender_Male, Client_Gender_nan, Loan_Contract_Type_RL, Loan_Contract_Type_nan, Client_Housing_Type_Home, Client_Housing_Type_Municipal, Client_Housing_Type_Office, Client_Housing_Type_Rental, Client_Housing_Type_Shared, Client_Housing_Type_nan, Client_Permanent_Match_Tag_Yes, Client_Contact_Work_Tag_Yes]\n",
      "Index: []\n",
      "\n",
      "[0 rows x 60 columns]\n",
      "Empty DataFrame\n",
      "Columns: [ID, Client_Income, Car_Owned, Bike_Owned, Active_Loan, House_Own, Child_Count, Credit_Amount, Loan_Annuity, Age_Days, Employed_Days, Registration_Days, ID_Days, Mobile_Tag, Homephone_Tag, Workphone_Working, Client_Family_Members, Cleint_City_Rating, Application_Process_Day, Application_Process_Hour, Score_Source_2, Score_Source_3, Phone_Change, Credit_Bureau, Default, Accompany_Client_Group, Accompany_Client_Kids, Accompany_Client_Others, Accompany_Client_Partner, Accompany_Client_Relative, Accompany_Client_nan, Client_Income_Type_Commercial, Client_Income_Type_Govt Job, Client_Income_Type_Maternity leave, Client_Income_Type_Retired, Client_Income_Type_Service, Client_Income_Type_Student, Client_Income_Type_Unemployed, Client_Income_Type_nan, Client_Education_Graduation dropout, Client_Education_Junior secondary, Client_Education_Post Grad, Client_Education_Secondary, Client_Education_nan, Client_Marital_Status_M, Client_Marital_Status_S, Client_Marital_Status_W, Client_Marital_Status_nan, Client_Gender_Male, Client_Gender_nan, Loan_Contract_Type_RL, Loan_Contract_Type_nan, Client_Housing_Type_Home, Client_Housing_Type_Municipal, Client_Housing_Type_Office, Client_Housing_Type_Rental, Client_Housing_Type_Shared, Client_Housing_Type_nan, Client_Permanent_Match_Tag_Yes, Client_Contact_Work_Tag_Yes]\n",
      "Index: []\n",
      "\n",
      "[0 rows x 60 columns]\n"
     ]
    }
   ],
   "source": [
    "for i in df1.columns:\n",
    "    print(df1[df1[i]=='Yes'])"
   ]
  },
  {
   "cell_type": "code",
   "execution_count": 110,
   "metadata": {},
   "outputs": [],
   "source": [
    "train_set['Accompany_Client']= train_set['Accompany_Client'].replace('nan','Alone')"
   ]
  },
  {
   "cell_type": "code",
   "execution_count": 111,
   "metadata": {},
   "outputs": [
    {
     "data": {
      "text/plain": [
       "Service            61021\n",
       "Commercial         27761\n",
       "Retired            21041\n",
       "Govt Job            8302\n",
       "nan                 3700\n",
       "Student                8\n",
       "Unemployed             6\n",
       "Maternity leave        2\n",
       "Businessman            1\n",
       "Name: Client_Income_Type, dtype: int64"
      ]
     },
     "execution_count": 111,
     "metadata": {},
     "output_type": "execute_result"
    }
   ],
   "source": [
    "train_set['Client_Income_Type'].value_counts()"
   ]
  },
  {
   "cell_type": "code",
   "execution_count": 112,
   "metadata": {},
   "outputs": [],
   "source": [
    "train_set['Client_Income_Type']= train_set['Client_Income_Type'].replace('nan','Service')"
   ]
  },
  {
   "cell_type": "code",
   "execution_count": 113,
   "metadata": {},
   "outputs": [
    {
     "data": {
      "text/plain": [
       "Alone       99156\n",
       "Relative    15746\n",
       "Partner      4515\n",
       "Kids         1334\n",
       "Others        987\n",
       "Group         104\n",
       "Name: Accompany_Client, dtype: int64"
      ]
     },
     "execution_count": 113,
     "metadata": {},
     "output_type": "execute_result"
    }
   ],
   "source": [
    "train_set['Accompany_Client'].value_counts()"
   ]
  },
  {
   "cell_type": "code",
   "execution_count": 114,
   "metadata": {},
   "outputs": [],
   "source": [
    "train_set['Accompany_Client']= train_set['Accompany_Client'].replace('nan','Alone')"
   ]
  },
  {
   "cell_type": "code",
   "execution_count": 115,
   "metadata": {},
   "outputs": [
    {
     "data": {
      "text/plain": [
       "Secondary             83902\n",
       "Graduation            28817\n",
       "Graduation dropout     3959\n",
       "nan                    3643\n",
       "Junior secondary       1455\n",
       "Post Grad                66\n",
       "Name: Client_Education, dtype: int64"
      ]
     },
     "execution_count": 115,
     "metadata": {},
     "output_type": "execute_result"
    }
   ],
   "source": [
    "train_set['Client_Education'].value_counts()"
   ]
  },
  {
   "cell_type": "code",
   "execution_count": 116,
   "metadata": {},
   "outputs": [],
   "source": [
    "train_set['Client_Education']=train_set['Client_Education'].replace('nan','Secondary')"
   ]
  },
  {
   "cell_type": "code",
   "execution_count": 117,
   "metadata": {},
   "outputs": [
    {
     "data": {
      "text/plain": [
       "Home         104857\n",
       "Family         5783\n",
       "Municipal      4248\n",
       "nan            3687\n",
       "Rental         1815\n",
       "Office         1002\n",
       "Shared          450\n",
       "Name: Client_Housing_Type, dtype: int64"
      ]
     },
     "execution_count": 117,
     "metadata": {},
     "output_type": "execute_result"
    }
   ],
   "source": [
    "train_set['Client_Housing_Type'].value_counts()"
   ]
  },
  {
   "cell_type": "code",
   "execution_count": 118,
   "metadata": {},
   "outputs": [],
   "source": [
    "train_set['Client_Housing_Type']=train_set['Client_Housing_Type'].replace('nan','Home')"
   ]
  },
  {
   "cell_type": "code",
   "execution_count": null,
   "metadata": {},
   "outputs": [],
   "source": []
  },
  {
   "cell_type": "code",
   "execution_count": 119,
   "metadata": {},
   "outputs": [
    {
     "name": "stdout",
     "output_type": "stream",
     "text": [
      "<class 'pandas.core.frame.DataFrame'>\n",
      "Int64Index: 121842 entries, 0 to 121855\n",
      "Data columns (total 60 columns):\n",
      " #   Column                               Non-Null Count   Dtype  \n",
      "---  ------                               --------------   -----  \n",
      " 0   ID                                   121842 non-null  int64  \n",
      " 1   Client_Income                        121842 non-null  float64\n",
      " 2   Car_Owned                            121842 non-null  int32  \n",
      " 3   Bike_Owned                           121842 non-null  int32  \n",
      " 4   Active_Loan                          121842 non-null  int32  \n",
      " 5   House_Own                            121842 non-null  int32  \n",
      " 6   Child_Count                          121842 non-null  int32  \n",
      " 7   Credit_Amount                        121842 non-null  float64\n",
      " 8   Loan_Annuity                         121842 non-null  float64\n",
      " 9   Age_Days                             121842 non-null  float64\n",
      " 10  Employed_Days                        121842 non-null  float64\n",
      " 11  Registration_Days                    121842 non-null  float64\n",
      " 12  ID_Days                              121842 non-null  float64\n",
      " 13  Mobile_Tag                           121842 non-null  int64  \n",
      " 14  Homephone_Tag                        121842 non-null  int64  \n",
      " 15  Workphone_Working                    121842 non-null  int64  \n",
      " 16  Client_Family_Members                121842 non-null  float64\n",
      " 17  Cleint_City_Rating                   121842 non-null  int32  \n",
      " 18  Application_Process_Day              121842 non-null  float64\n",
      " 19  Application_Process_Hour             121842 non-null  float64\n",
      " 20  Score_Source_2                       121842 non-null  float64\n",
      " 21  Score_Source_3                       121842 non-null  float64\n",
      " 22  Phone_Change                         121842 non-null  float64\n",
      " 23  Credit_Bureau                        121842 non-null  float64\n",
      " 24  Default                              121842 non-null  int64  \n",
      " 25  Accompany_Client_Group               121842 non-null  uint8  \n",
      " 26  Accompany_Client_Kids                121842 non-null  uint8  \n",
      " 27  Accompany_Client_Others              121842 non-null  uint8  \n",
      " 28  Accompany_Client_Partner             121842 non-null  uint8  \n",
      " 29  Accompany_Client_Relative            121842 non-null  uint8  \n",
      " 30  Accompany_Client_nan                 121842 non-null  uint8  \n",
      " 31  Client_Income_Type_Commercial        121842 non-null  uint8  \n",
      " 32  Client_Income_Type_Govt Job          121842 non-null  uint8  \n",
      " 33  Client_Income_Type_Maternity leave   121842 non-null  uint8  \n",
      " 34  Client_Income_Type_Retired           121842 non-null  uint8  \n",
      " 35  Client_Income_Type_Service           121842 non-null  uint8  \n",
      " 36  Client_Income_Type_Student           121842 non-null  uint8  \n",
      " 37  Client_Income_Type_Unemployed        121842 non-null  uint8  \n",
      " 38  Client_Income_Type_nan               121842 non-null  uint8  \n",
      " 39  Client_Education_Graduation dropout  121842 non-null  uint8  \n",
      " 40  Client_Education_Junior secondary    121842 non-null  uint8  \n",
      " 41  Client_Education_Post Grad           121842 non-null  uint8  \n",
      " 42  Client_Education_Secondary           121842 non-null  uint8  \n",
      " 43  Client_Education_nan                 121842 non-null  uint8  \n",
      " 44  Client_Marital_Status_M              121842 non-null  uint8  \n",
      " 45  Client_Marital_Status_S              121842 non-null  uint8  \n",
      " 46  Client_Marital_Status_W              121842 non-null  uint8  \n",
      " 47  Client_Marital_Status_nan            121842 non-null  uint8  \n",
      " 48  Client_Gender_Male                   121842 non-null  uint8  \n",
      " 49  Client_Gender_nan                    121842 non-null  uint8  \n",
      " 50  Loan_Contract_Type_RL                121842 non-null  uint8  \n",
      " 51  Loan_Contract_Type_nan               121842 non-null  uint8  \n",
      " 52  Client_Housing_Type_Home             121842 non-null  uint8  \n",
      " 53  Client_Housing_Type_Municipal        121842 non-null  uint8  \n",
      " 54  Client_Housing_Type_Office           121842 non-null  uint8  \n",
      " 55  Client_Housing_Type_Rental           121842 non-null  uint8  \n",
      " 56  Client_Housing_Type_Shared           121842 non-null  uint8  \n",
      " 57  Client_Housing_Type_nan              121842 non-null  uint8  \n",
      " 58  Client_Permanent_Match_Tag_Yes       121842 non-null  uint8  \n",
      " 59  Client_Contact_Work_Tag_Yes          121842 non-null  uint8  \n",
      "dtypes: float64(14), int32(6), int64(5), uint8(35)\n",
      "memory usage: 30.4 MB\n"
     ]
    }
   ],
   "source": [
    "df1.info()"
   ]
  },
  {
   "cell_type": "code",
   "execution_count": 120,
   "metadata": {},
   "outputs": [],
   "source": [
    "x= df1.drop('Default',axis=1)\n",
    "y= df1['Default']"
   ]
  },
  {
   "cell_type": "code",
   "execution_count": 121,
   "metadata": {},
   "outputs": [],
   "source": [
    "from sklearn.model_selection import train_test_split\n",
    "xtrain,xtest,ytrain,ytest = train_test_split(x,y,test_size=0.3,random_state=42)"
   ]
  },
  {
   "cell_type": "code",
   "execution_count": 122,
   "metadata": {},
   "outputs": [],
   "source": [
    "mod=lr.fit(xtrain,ytrain)\n"
   ]
  },
  {
   "cell_type": "code",
   "execution_count": 123,
   "metadata": {},
   "outputs": [],
   "source": [
    "ypred=mod.predict(xtest)"
   ]
  },
  {
   "cell_type": "code",
   "execution_count": 124,
   "metadata": {
    "scrolled": true
   },
   "outputs": [
    {
     "name": "stdout",
     "output_type": "stream",
     "text": [
      "0.0\n",
      "              precision    recall  f1-score   support\n",
      "\n",
      "           0       0.92      1.00      0.96     33625\n",
      "           1       0.00      0.00      0.00      2928\n",
      "\n",
      "    accuracy                           0.92     36553\n",
      "   macro avg       0.46      0.50      0.48     36553\n",
      "weighted avg       0.85      0.92      0.88     36553\n",
      "\n"
     ]
    }
   ],
   "source": [
    "from sklearn.metrics import f1_score,classification_report\n",
    "print(f1_score(ytest,ypred))\n",
    "print(classification_report(ytest,ypred))"
   ]
  },
  {
   "cell_type": "markdown",
   "metadata": {},
   "source": [
    "## Conclusion"
   ]
  },
  {
   "cell_type": "markdown",
   "metadata": {},
   "source": [
    "Data Cleansing was done, The null values in numerical columns were imputed with mean value and categorical columns were treated\n",
    "with mode. The data now we have is ready to build a base model.\n",
    "Further Improvements:\n",
    "    Outlier datas can be observed and can be treated\n",
    "    The ouput column is imbalanced hence we can adopt SMOTE to balance the data and the bias can be removed\n",
    "    After adopting these we can build advanced models like Random Forest,Xgboost to improve the performance\n",
    "    Hypermater optimization can be done to improve model performance"
   ]
  },
  {
   "cell_type": "code",
   "execution_count": null,
   "metadata": {},
   "outputs": [],
   "source": []
  }
 ],
 "metadata": {
  "kernelspec": {
   "display_name": "Python 3",
   "language": "python",
   "name": "python3"
  },
  "language_info": {
   "codemirror_mode": {
    "name": "ipython",
    "version": 3
   },
   "file_extension": ".py",
   "mimetype": "text/x-python",
   "name": "python",
   "nbconvert_exporter": "python",
   "pygments_lexer": "ipython3",
   "version": "3.7.6"
  }
 },
 "nbformat": 4,
 "nbformat_minor": 4
}
